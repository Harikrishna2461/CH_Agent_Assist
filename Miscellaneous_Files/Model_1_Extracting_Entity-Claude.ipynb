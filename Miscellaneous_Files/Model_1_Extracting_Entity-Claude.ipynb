{
 "cells": [
  {
   "cell_type": "markdown",
   "id": "5e8a46e6",
   "metadata": {},
   "source": [
    "# Lambda 1: Extracting Entities for Form Enrollment"
   ]
  },
  {
   "cell_type": "code",
   "execution_count": 19,
   "id": "27a1c18e",
   "metadata": {},
   "outputs": [
    {
     "name": "stdout",
     "output_type": "stream",
     "text": [
      "{\n",
      "  \"patient_name\": \"Jordan Andrew Smith\",\n",
      "  \"patient_gender\": \"Male\",\n",
      "  \"patient_dob\": \"March 14, 1989\", \n",
      "  \"patient_phone\": \"555-123-4567\",\n",
      "  \"patient_email\": \"jordan.smith@email.com\",\n",
      "  \"insurance_provider\": \"HealthCare Plus\",\n",
      "  \"insurance_policy_number\": \"HP123456789\",\n",
      "  \"insurance_group_number\": \"987654\"\n",
      "}\n",
      "{\n",
      "  \"patient_name\": \"Jordan Andrew Smith\",\n",
      "  \"patient_gender\": \"Male\",\n",
      "  \"patient_dob\": \"March 14, 1989\", \n",
      "  \"patient_phone\": \"555-123-4567\",\n",
      "  \"patient_email\": \"jordan.smith@email.com\",\n",
      "  \"insurance_provider\": \"HealthCare Plus\",\n",
      "  \"insurance_policy_number\": \"HP123456789\",\n",
      "  \"insurance_group_number\": \"987654\"\n",
      "}\n"
     ]
    }
   ],
   "source": [
    "import boto3\n",
    "import json\n",
    "import os\n",
    "import sys\n",
    "import base64\n",
    "import time\n",
    "import tzlocal\n",
    "import re\n",
    "from botocore.exceptions import ClientError\n",
    "import logging\n",
    "\n",
    "bedrock_runtime = boto3.client(\n",
    "    service_name=\"bedrock-runtime\",\n",
    "    region_name=\"us-east-1\",\n",
    ")\n",
    "\n",
    "bedrock = boto3.client(\n",
    "    service_name='bedrock', \n",
    "    region_name='us-east-1'\n",
    ")\n",
    "\n",
    "##Loading JSON to read data\n",
    "file_path = \"Conversation_2_14_formatted.json\"\n",
    "# Open the JSON file for reading\n",
    "with open(file_path, 'r') as file:\n",
    "    # Parse the JSON file\n",
    "    data = json.load(file)\n",
    "\n",
    "##Processing data to fetch role and content\n",
    "def data_preprocessing(transcription):\n",
    "    convo = \"\"\n",
    "    for i in range(len(transcription['transcriptions'])):\n",
    "        convo = convo + transcription['transcriptions'][i]['ParticipantRole'] + \": \" + transcription['transcriptions'][i]['Content']\n",
    "        convo += \"\\n\"\n",
    "    return convo\n",
    "\n",
    "final_transcript = data_preprocessing(data)\n",
    "\n",
    "\n",
    "###Below is the LLM model to extract entities\n",
    "\n",
    "#Defining function to connect to Bedrock LLM\n",
    "def load_claude2(bedrock_runtime , prompt , temp , top_p,top_k):\n",
    "    try:\n",
    "        body = {\n",
    "            \"prompt\": prompt,\n",
    "            \"temperature\": temp,\n",
    "            \"top_p\": top_p,\n",
    "            \"top_k\":top_k,\n",
    "            \"max_tokens_to_sample\": 1000\n",
    "            }\n",
    "\n",
    "        response = bedrock_runtime.invoke_model(\n",
    "            modelId=\"anthropic.claude-v2\", body=json.dumps(body), accept=\"application/json\", contentType=\"application/json\"\n",
    "                 )\n",
    "        \n",
    "        response_body = json.loads(response[\"body\"].read())\n",
    "        completion = response_body.get(\"completion\")\n",
    "\n",
    "        return completion\n",
    "\n",
    "    except ClientError:\n",
    "        logging.error(\"Couldn't invoke Llama 2\")\n",
    "        raise\n",
    "\n",
    "#Defining LLM function for the prompt generator for entity extraction  \n",
    "entities = \"name of patient, status of insurance, insurance number, demographic details\"\n",
    "def enrollment_prompt_generator(conversation,entities):\n",
    "    prompt_claude = \"\"\"Human: \\\"\"\"\" + conversation + \"\"\"\\\"\n",
    "\n",
    "    The above is a transcript between a call center agent and an insurance subscriber or patient. Identify and extract key entities such as \\\"\"\"\" + entities + \"\"\"\\\" from the transcript. Include only the information present.\n",
    "\n",
    "    Output the results as a structured JSON containing only the extracted fields.\n",
    "\n",
    "    Assistant:\n",
    "    \"\"\"\n",
    "\n",
    "    return prompt_claude\n",
    "\n",
    "# Lambda handler to intgerate with AWS\n",
    "def lambda_handler1(data):\n",
    "    final_transcript = data_preprocessing(data)\n",
    "    prompt_enrollment = enrollment_prompt_generator(final_transcript,entities)\n",
    "    #print(prompt_enrollment)\n",
    "    enrollment_data = load_claude2(bedrock_runtime,prompt_enrollment,0,0.9,1)\n",
    "\n",
    "    pattern = re.compile(r\"```json\\n([\\s\\S]*?)\\n```\", re.MULTILINE)\n",
    "    match = pattern.search(enrollment_data)\n",
    "    if match:\n",
    "        json_content = match.group(1)\n",
    "        #print(json_content)\n",
    "    else:\n",
    "        print(\"No JSON content found.\")\n",
    "    #enrollment_json_object = json.loads(enrollment_data)\n",
    "    return json_content#{\"statusCode\": 200,\"body\": json.dumps(enrollment_json_object)}\n",
    "\n",
    "d1 = lambda_handler1(data)\n",
    "print(d1)"
   ]
  },
  {
   "cell_type": "code",
   "execution_count": 20,
   "id": "882b3e64",
   "metadata": {},
   "outputs": [
    {
     "data": {
      "text/plain": [
       "'{\\n  \"patient_name\": \"Jordan Andrew Smith\",\\n  \"patient_gender\": \"Male\",\\n  \"patient_dob\": \"March 14, 1989\", \\n  \"patient_phone\": \"555-123-4567\",\\n  \"patient_email\": \"jordan.smith@email.com\",\\n  \"insurance_provider\": \"HealthCare Plus\",\\n  \"insurance_policy_number\": \"HP123456789\",\\n  \"insurance_group_number\": \"987654\"\\n}'"
      ]
     },
     "execution_count": 20,
     "metadata": {},
     "output_type": "execute_result"
    }
   ],
   "source": [
    "d1"
   ]
  },
  {
   "cell_type": "markdown",
   "id": "2a03529a",
   "metadata": {},
   "source": [
    "# Testing"
   ]
  },
  {
   "cell_type": "code",
   "execution_count": 25,
   "id": "675d49aa",
   "metadata": {},
   "outputs": [],
   "source": [
    "import logging"
   ]
  },
  {
   "cell_type": "code",
   "execution_count": 6,
   "id": "cb2e27f9",
   "metadata": {},
   "outputs": [
    {
     "name": "stdout",
     "output_type": "stream",
     "text": [
      " {\n",
      "  \"name\": \"Mark\"\n",
      "}\n"
     ]
    }
   ],
   "source": [
    "data2 = {'stream': 'TRANSCRIPTION',\n",
    " 'contactId': 'aa621db9-934b-462c-bc7a-85f2e01c4c9f',\n",
    " 'transcriptions': [{'ParticipantId': 'CUSTOMER',\n",
    "   'ParticipantRole': 'CUSTOMER',\n",
    "   'Content': \"Hello I'm Mark\",\n",
    "   'BeginOffsetMillis': 1257,\n",
    "   'EndOffsetMillis': 9697,\n",
    "   'Id': 'fb29489e-d06b-48b1-8e0b-519f17c4a68e',\n",
    "   'Sentiment': 'NEUTRAL',\n",
    "   'IssuesDetected': []}]}\n",
    "\n",
    "d2 = lambda_handler1(data2)\n",
    "print(d2)"
   ]
  },
  {
   "cell_type": "code",
   "execution_count": 7,
   "id": "7498bb08",
   "metadata": {},
   "outputs": [
    {
     "name": "stdout",
     "output_type": "stream",
     "text": [
      " {\n",
      "  \"agent_name\": \"Jordan\"\n",
      "}\n"
     ]
    }
   ],
   "source": [
    "data3 = {'stream': 'TRANSCRIPTION',\n",
    " 'contactId': 'aa621db9-934b-462c-bc7a-85f2e01c4c9f',\n",
    " 'transcriptions': [{'ParticipantId': 'CUSTOMER',\n",
    "   'ParticipantRole': 'CUSTOMER',\n",
    "   'Content': \"Thank you, Jordan. May I ask which gender you identify with? This information helps us to tailor our care to your specific needs, but please know that providing this information is entirely optional\",\n",
    "   'BeginOffsetMillis': 1257,\n",
    "   'EndOffsetMillis': 9697,\n",
    "   'Id': 'fb29489e-d06b-48b1-8e0b-519f17c4a68e',\n",
    "   'Sentiment': 'NEUTRAL',\n",
    "   'IssuesDetected': []}]}\n",
    "\n",
    "d3 = lambda_handler1(data3)\n",
    "print(d3)"
   ]
  },
  {
   "cell_type": "code",
   "execution_count": 8,
   "id": "1ba1d400",
   "metadata": {},
   "outputs": [
    {
     "name": "stdout",
     "output_type": "stream",
     "text": [
      " {\n",
      "  \"name\": null,\n",
      "  \"insurance_status\": null, \n",
      "  \"insurance_number\": null,\n",
      "  \"demographics\": null\n",
      "}\n"
     ]
    }
   ],
   "source": [
    "data4 = {'stream': 'TRANSCRIPTION',\n",
    " 'contactId': 'aa621db9-934b-462c-bc7a-85f2e01c4c9f',\n",
    " 'transcriptions': [{'ParticipantId': 'CUSTOMER',\n",
    "   'ParticipantRole': 'CUSTOMER',\n",
    "   'Content': \"Hello\",\n",
    "   'BeginOffsetMillis': 1257,\n",
    "   'EndOffsetMillis': 9697,\n",
    "   'Id': 'fb29489e-d06b-48b1-8e0b-519f17c4a68e',\n",
    "   'Sentiment': 'NEUTRAL',\n",
    "   'IssuesDetected': []}]}\n",
    "\n",
    "d4 = lambda_handler1(data4)\n",
    "print(d4)"
   ]
  },
  {
   "cell_type": "code",
   "execution_count": null,
   "id": "076d20da",
   "metadata": {},
   "outputs": [],
   "source": [
    "data2 = {'stream': 'TRANSCRIPTION',\n",
    " 'contactId': 'aa621db9-934b-462c-bc7a-85f2e01c4c9f',\n",
    " 'transcriptions': [{'ParticipantId': 'CUSTOMER',\n",
    "   'ParticipantRole': 'CUSTOMER',\n",
    "   'Content': \"Hello I'm Mark\",\n",
    "   'BeginOffsetMillis': 1257,\n",
    "   'EndOffsetMillis': 9697,\n",
    "   'Id': 'fb29489e-d06b-48b1-8e0b-519f17c4a68e',\n",
    "   'Sentiment': 'NEUTRAL',\n",
    "   'IssuesDetected': []}]}\n",
    "\n"
   ]
  }
 ],
 "metadata": {
  "kernelspec": {
   "display_name": "conda_tensorflow2_p310",
   "language": "python",
   "name": "conda_tensorflow2_p310"
  },
  "language_info": {
   "codemirror_mode": {
    "name": "ipython",
    "version": 3
   },
   "file_extension": ".py",
   "mimetype": "text/x-python",
   "name": "python",
   "nbconvert_exporter": "python",
   "pygments_lexer": "ipython3",
   "version": "3.10.13"
  }
 },
 "nbformat": 4,
 "nbformat_minor": 5
}
