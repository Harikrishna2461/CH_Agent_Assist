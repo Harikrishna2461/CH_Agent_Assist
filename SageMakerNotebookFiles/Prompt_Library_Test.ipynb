{
 "cells": [
  {
   "cell_type": "code",
   "execution_count": 20,
   "id": "2ee512d3",
   "metadata": {},
   "outputs": [
    {
     "data": {
      "text/plain": [
       "'{\\r\\n  \"entity_extraction\": {\\r\\n    \"enrollment_form_claude\": \"Human: {conversation}\\\\nThe above conversation is an automated transcript between a call centre agent and an insurance subscriber or patient.\\\\nI want to extract few key entities like {entities}.\\\\nAll or some information may be present in this transcript.\\\\nExtract the entities that you are able to find from this piece of call transcript.\\\\nIn the above text, if you find any section that talks about appointment or schedule time and contains text like \\'this week\\', \\'next week\\', \\'this Friday\\', \\'next Monday\\' etc; please convert that phrase to the actual date considering the difference from today\\'s date.\\\\nThe output would be a structured json with only the extracted fields.\\\\nJust print the exact output without any extra sentences at the end or beginning.\\\\nNo need to print any extra text.\\\\nAlso, do not generate an answer if that is not found in the transcript.\",\\r\\n    \"enrollment_form_llama2\": \"\"\\r\\n  },\\r\\n  \"text_summarization\": {\\r\\n    \"summary_llama2\": \"Instruction: \\'Summarise this call transcript between a patient and an agent and provide it in a precise paragraph : \\' : {context}.\\\\nResponse :\",\\r\\n    \"summary_claude\": \"\"\\r\\n  },\\r\\n  \"insight_generation\": {\\r\\n    \"insights_claude\": \"Human: You are Agent assist tracking the Patient and agent conversation and help the agent recommend meaningful insights on the insurance and insurance details related insights like for example suggesting which pharmacy to select based on the patient\\'s Insurance provider using metrics like how soon the pharmacy dispenses the medication to the patient.\\\\nThe lesser the number of days to dispense the medication, the higher are the chances of recommendation of that pharmacy.\\\\nThe patients\\'s insurance provider is {insurance_provider} and use the following json data to provide the insights: {insurance_statistics}.\\\\nIn the Json Data, the keys represent the insurance provider and the value represents the pharmacy company and the number of days it takes to dispense the medication to the patient\\\\nAssistant:\",\\r\\n    \"insights_llama2\": \"\"\\r\\n  }\\r\\n}\\r\\n'"
      ]
     },
     "execution_count": 20,
     "metadata": {},
     "output_type": "execute_result"
    }
   ],
   "source": [
    "import json\n",
    "import requests\n",
    "\n",
    "import boto3 \n",
    "bedrock = boto3.client(\n",
    "    service_name='s3', \n",
    "    region_name='us-east-1'\n",
    ")\n",
    "\n",
    "s3 = boto3.client('s3')\n",
    "bucket = 'ch-agent-assist-prompt-library-bucket'\n",
    "file = 'prompts_library.json' \n",
    "\n",
    "response = s3.get_object(Bucket=bucket,Key=file)\n",
    "content = response['Body'].read().decode('utf-8')\n",
    "content"
   ]
  },
  {
   "cell_type": "code",
   "execution_count": 21,
   "id": "b538780b",
   "metadata": {},
   "outputs": [
    {
     "data": {
      "text/plain": [
       "str"
      ]
     },
     "execution_count": 21,
     "metadata": {},
     "output_type": "execute_result"
    }
   ],
   "source": [
    "type(content)"
   ]
  },
  {
   "cell_type": "code",
   "execution_count": 22,
   "id": "4c982b63",
   "metadata": {},
   "outputs": [],
   "source": [
    "c = json.loads(content)"
   ]
  },
  {
   "cell_type": "code",
   "execution_count": 23,
   "id": "1756dab0",
   "metadata": {},
   "outputs": [
    {
     "name": "stdout",
     "output_type": "stream",
     "text": [
      "{'entity_extraction': {'enrollment_form_claude': \"Human: {conversation}\\nThe above conversation is an automated transcript between a call centre agent and an insurance subscriber or patient.\\nI want to extract few key entities like {entities}.\\nAll or some information may be present in this transcript.\\nExtract the entities that you are able to find from this piece of call transcript.\\nIn the above text, if you find any section that talks about appointment or schedule time and contains text like 'this week', 'next week', 'this Friday', 'next Monday' etc; please convert that phrase to the actual date considering the difference from today's date.\\nThe output would be a structured json with only the extracted fields.\\nJust print the exact output without any extra sentences at the end or beginning.\\nNo need to print any extra text.\\nAlso, do not generate an answer if that is not found in the transcript.\", 'enrollment_form_llama2': ''}, 'text_summarization': {'summary_llama2': \"Instruction: 'Summarise this call transcript between a patient and an agent and provide it in a precise paragraph : ' : {context}.\\nResponse :\", 'summary_claude': ''}, 'insight_generation': {'insights_claude': \"Human: You are Agent assist tracking the Patient and agent conversation and help the agent recommend meaningful insights on the insurance and insurance details related insights like for example suggesting which pharmacy to select based on the patient's Insurance provider using metrics like how soon the pharmacy dispenses the medication to the patient.\\nThe lesser the number of days to dispense the medication, the higher are the chances of recommendation of that pharmacy.\\nThe patients's insurance provider is {insurance_provider} and use the following json data to provide the insights: {insurance_statistics}.\\nIn the Json Data, the keys represent the insurance provider and the value represents the pharmacy company and the number of days it takes to dispense the medication to the patient\\nAssistant:\", 'insights_llama2': ''}}\n"
     ]
    }
   ],
   "source": [
    "print(c)"
   ]
  },
  {
   "cell_type": "code",
   "execution_count": 24,
   "id": "67ea439a",
   "metadata": {},
   "outputs": [
    {
     "data": {
      "text/plain": [
       "dict_keys(['entity_extraction', 'text_summarization', 'insight_generation'])"
      ]
     },
     "execution_count": 24,
     "metadata": {},
     "output_type": "execute_result"
    }
   ],
   "source": [
    "c.keys()"
   ]
  },
  {
   "cell_type": "code",
   "execution_count": 32,
   "id": "dfd6d37e",
   "metadata": {},
   "outputs": [
    {
     "data": {
      "text/plain": [
       "dict_keys(['insights_claude', 'insights_llama2'])"
      ]
     },
     "execution_count": 32,
     "metadata": {},
     "output_type": "execute_result"
    }
   ],
   "source": [
    "c['insight_generation'].keys()"
   ]
  },
  {
   "cell_type": "code",
   "execution_count": 25,
   "id": "7d4a1221",
   "metadata": {},
   "outputs": [
    {
     "data": {
      "text/plain": [
       "dict_keys(['enrollment_form_claude', 'enrollment_form_llama2'])"
      ]
     },
     "execution_count": 25,
     "metadata": {},
     "output_type": "execute_result"
    }
   ],
   "source": [
    "c['entity_extraction'].keys()"
   ]
  },
  {
   "cell_type": "code",
   "execution_count": 26,
   "id": "88081934",
   "metadata": {
    "scrolled": true
   },
   "outputs": [
    {
     "data": {
      "text/plain": [
       "\"Human: {conversation}\\nThe above conversation is an automated transcript between a call centre agent and an insurance subscriber or patient.\\nI want to extract few key entities like {entities}.\\nAll or some information may be present in this transcript.\\nExtract the entities that you are able to find from this piece of call transcript.\\nIn the above text, if you find any section that talks about appointment or schedule time and contains text like 'this week', 'next week', 'this Friday', 'next Monday' etc; please convert that phrase to the actual date considering the difference from today's date.\\nThe output would be a structured json with only the extracted fields.\\nJust print the exact output without any extra sentences at the end or beginning.\\nNo need to print any extra text.\\nAlso, do not generate an answer if that is not found in the transcript.\""
      ]
     },
     "execution_count": 26,
     "metadata": {},
     "output_type": "execute_result"
    }
   ],
   "source": [
    "c['entity_extraction']['enrollment_form_claude']"
   ]
  },
  {
   "cell_type": "code",
   "execution_count": 29,
   "id": "77d88d0e",
   "metadata": {},
   "outputs": [
    {
     "data": {
      "text/plain": [
       "\"Human: conversation_1\\nThe above conversation is an automated transcript between a call centre agent and an insurance subscriber or patient.\\nI want to extract few key entities like name,demographics.\\nAll or some information may be present in this transcript.\\nExtract the entities that you are able to find from this piece of call transcript.\\nIn the above text, if you find any section that talks about appointment or schedule time and contains text like 'this week', 'next week', 'this Friday', 'next Monday' etc; please convert that phrase to the actual date considering the difference from today's date.\\nThe output would be a structured json with only the extracted fields.\\nJust print the exact output without any extra sentences at the end or beginning.\\nNo need to print any extra text.\\nAlso, do not generate an answer if that is not found in the transcript.\""
      ]
     },
     "execution_count": 29,
     "metadata": {},
     "output_type": "execute_result"
    }
   ],
   "source": [
    "c['entity_extraction']['enrollment_form_claude'].format(conversation='conversation_1',entities='name,demographics')"
   ]
  },
  {
   "cell_type": "code",
   "execution_count": 31,
   "id": "9c2bf867",
   "metadata": {},
   "outputs": [
    {
     "name": "stdout",
     "output_type": "stream",
     "text": [
      "Human: conversation_1\n",
      "The above conversation is an automated transcript between a call centre agent and an insurance subscriber or patient.\n",
      "I want to extract few key entities like name,age etc..\n",
      "All or some information may be present in this transcript.\n",
      "Extract the entities that you are able to find from this piece of call transcript.\n",
      "In the above text, if you find any section that talks about appointment or schedule time and contains text like 'this week', 'next week', 'this Friday', 'next Monday' etc; please convert that phrase to the actual date considering the difference from today's date.\n",
      "The output would be a structured json with only the extracted fields.\n",
      "Just print the exact output without any extra sentences at the end or beginning.\n",
      "No need to print any extra text.\n",
      "Also, do not generate an answer if that is not found in the transcript.\n"
     ]
    }
   ],
   "source": [
    "def get_prompt(bucket,file,prompt_category,required_prompt,conversation,entities):\n",
    "    s3 = boto3.client('s3') \n",
    "    response = s3.get_object(Bucket=bucket,Key=file)\n",
    "    content = response['Body'].read().decode('utf-8')\n",
    "    json_content = json.loads(content)\n",
    "    prompt = json_content[prompt_category][required_prompt].format(conversation=conversation,entities=entities)\n",
    "    \n",
    "    return prompt\n",
    "    \n",
    "prompt = get_prompt(bucket,file,'entity_extraction','enrollment_form_claude','conversation_1','name,age etc.')\n",
    "print(prompt)  # Output should be the greeting prompt from the 'customer_service' category"
   ]
  },
  {
   "cell_type": "code",
   "execution_count": 16,
   "id": "12a06202",
   "metadata": {},
   "outputs": [
    {
     "name": "stdout",
     "output_type": "stream",
     "text": [
      "Human: \"{conv3}\"\n",
      "\n",
      "The above conversation is an automated transcript between a call centre agent and an insurance subscriber or patient. I want to extract a few key entities like the name of the patient, status of insurance, insurance number, demographic details, etc. All or some information may be present in this transcript. Extract the entities that you are able to find from this piece of call transcript. In the above text, if you find any section that talks about an appointment or schedule time and contains text like 'this week', 'next week', 'this Friday', 'next Monday', etc; please convert that phrase to the actual date considering the difference from today's date which is {today}.\n",
      "\n",
      "The output would be a structured json with only the extracted fields. Just print the exact output. No need to print any extra text. Also, do not generate an answer if that is not found in the transcript.\n",
      "\n",
      "Assistant:\n"
     ]
    }
   ],
   "source": [
    "print(prompt.format('conversation_1','Tuesday'))"
   ]
  }
 ],
 "metadata": {
  "kernelspec": {
   "display_name": "conda_tensorflow2_p310",
   "language": "python",
   "name": "conda_tensorflow2_p310"
  },
  "language_info": {
   "codemirror_mode": {
    "name": "ipython",
    "version": 3
   },
   "file_extension": ".py",
   "mimetype": "text/x-python",
   "name": "python",
   "nbconvert_exporter": "python",
   "pygments_lexer": "ipython3",
   "version": "3.10.13"
  }
 },
 "nbformat": 4,
 "nbformat_minor": 5
}
