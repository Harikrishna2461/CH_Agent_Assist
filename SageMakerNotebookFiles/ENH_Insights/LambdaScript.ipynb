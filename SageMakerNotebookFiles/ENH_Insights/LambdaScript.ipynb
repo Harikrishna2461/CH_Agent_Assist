{
 "cells": [
  {
   "cell_type": "code",
   "execution_count": 4,
   "id": "5cb42fdc",
   "metadata": {},
   "outputs": [
    {
     "ename": "ModuleNotFoundError",
     "evalue": "No module named 'insights_prompt_library'",
     "output_type": "error",
     "traceback": [
      "\u001b[0;31m---------------------------------------------------------------------------\u001b[0m",
      "\u001b[0;31mModuleNotFoundError\u001b[0m                       Traceback (most recent call last)",
      "Cell \u001b[0;32mIn[4], line 3\u001b[0m\n\u001b[1;32m      1\u001b[0m \u001b[38;5;28;01mimport\u001b[39;00m \u001b[38;5;21;01mos\u001b[39;00m\n\u001b[1;32m      2\u001b[0m \u001b[38;5;28;01mimport\u001b[39;00m \u001b[38;5;21;01mjson\u001b[39;00m\n\u001b[0;32m----> 3\u001b[0m \u001b[38;5;28;01mimport\u001b[39;00m \u001b[38;5;21;01minsights_prompt_library\u001b[39;00m\n\u001b[1;32m      4\u001b[0m \u001b[38;5;28;01mfrom\u001b[39;00m \u001b[38;5;21;01minsights_prompt_library\u001b[39;00m \u001b[38;5;28;01mimport\u001b[39;00m insight_related_prompts, analysis_related_prompts\n\u001b[1;32m      5\u001b[0m os\u001b[38;5;241m.\u001b[39mlistdir()\n",
      "\u001b[0;31mModuleNotFoundError\u001b[0m: No module named 'insights_prompt_library'"
     ]
    }
   ],
   "source": [
    "import os\n",
    "import json\n",
    "import insights_prompt_library\n",
    "from insights_prompt_library import insight_related_prompts, analysis_related_prompts\n",
    "os.listdir()"
   ]
  },
  {
   "cell_type": "code",
   "execution_count": 5,
   "id": "cd65a3a5",
   "metadata": {},
   "outputs": [
    {
     "data": {
      "text/plain": [
       "['.ipynb_checkpoints',\n",
       " 'RealtimeInsights_using_bedrock_rags.ipynb',\n",
       " 'LambdaScript.ipynb',\n",
       " '__pycache__']"
      ]
     },
     "execution_count": 5,
     "metadata": {},
     "output_type": "execute_result"
    }
   ],
   "source": [
    "os.listdir()"
   ]
  },
  {
   "cell_type": "code",
   "execution_count": 11,
   "id": "f7bc0312",
   "metadata": {},
   "outputs": [],
   "source": [
    "import os\n",
    "import json\n",
    "import insights_prompt_library\n",
    "import inspect"
   ]
  },
  {
   "cell_type": "code",
   "execution_count": 3,
   "id": "12df6966",
   "metadata": {},
   "outputs": [],
   "source": [
    "with open(\"prompts_config.json\") as file:\n",
    "    config = json.load(file)"
   ]
  },
  {
   "cell_type": "code",
   "execution_count": 4,
   "id": "662f424e",
   "metadata": {
    "scrolled": true
   },
   "outputs": [
    {
     "data": {
      "text/plain": [
       "{'insurance_type_prompt_generator': {'params': ['insurance_type']},\n",
       " 'insurance_type_and_provider_prompt_generator': {'params': ['insurance_type',\n",
       "   'insurance_provider']},\n",
       " 'insurance_type_provider_pharmacy_ttf_prompt_generator': {'params': ['insurance_type',\n",
       "   'insurance_provider',\n",
       "   'pharmacy_name']},\n",
       " 'insurance_type_provider_pharmacy_prompt_generator': {'params': ['insurance_type',\n",
       "   'insurance_provider',\n",
       "   'pharmacy_name']}}"
      ]
     },
     "execution_count": 4,
     "metadata": {},
     "output_type": "execute_result"
    }
   ],
   "source": [
    "config"
   ]
  },
  {
   "cell_type": "code",
   "execution_count": 3,
   "id": "cbeb6029",
   "metadata": {},
   "outputs": [
    {
     "ename": "ModuleNotFoundError",
     "evalue": "No module named 'insights_prompt_library'",
     "output_type": "error",
     "traceback": [
      "\u001b[0;31m---------------------------------------------------------------------------\u001b[0m",
      "\u001b[0;31mModuleNotFoundError\u001b[0m                       Traceback (most recent call last)",
      "Cell \u001b[0;32mIn[3], line 1\u001b[0m\n\u001b[0;32m----> 1\u001b[0m \u001b[38;5;28;01mimport\u001b[39;00m \u001b[38;5;21;01minsights_prompt_library\u001b[39;00m\n",
      "\u001b[0;31mModuleNotFoundError\u001b[0m: No module named 'insights_prompt_library'"
     ]
    }
   ],
   "source": [
    "import insights_prompt_library"
   ]
  },
  {
   "cell_type": "code",
   "execution_count": 21,
   "id": "e2cf6e18",
   "metadata": {},
   "outputs": [
    {
     "data": {
      "text/plain": [
       "<function insights_prompt_library.insurance_type_provider_pharmacy_ttf_prompt_generator(insurance_type, insurance_provider, pharmacy_name)>"
      ]
     },
     "execution_count": 21,
     "metadata": {},
     "output_type": "execute_result"
    }
   ],
   "source": [
    "insurance_type_provider_pharmacy_ttf_prompt_generator"
   ]
  },
  {
   "cell_type": "code",
   "execution_count": 19,
   "id": "40d6fd6b",
   "metadata": {},
   "outputs": [
    {
     "name": "stdout",
     "output_type": "stream",
     "text": [
      "Enter the variable name: a\n",
      "Hello, World!\n"
     ]
    }
   ],
   "source": [
    "# Suppose you have a variable\n",
    "a = 'Hello, World!'\n",
    "\n",
    "# User provides the variable name as a string\n",
    "user_input = input(\"Enter the variable name: \")  # User enters 'a'\n",
    "\n",
    "# You can access the value of 'a' using the string 'user_input' like this:\n",
    "print(locals()[user_input])\n"
   ]
  },
  {
   "cell_type": "code",
   "execution_count": 9,
   "id": "765b8cd7",
   "metadata": {},
   "outputs": [
    {
     "name": "stdout",
     "output_type": "stream",
     "text": [
      "['insurance_type_provider_pharmacy_ttf_prompt_generator', 'insurance_type_provider_pharmacy_prompt_generator']\n"
     ]
    }
   ],
   "source": [
    "value_to_find = ['Commercial', 'Humana', 'CVS']\n",
    "\n",
    "matching_keys = [key for key, value in config.items() if value['params'] == value_to_find]\n",
    "print(matching_keys)\n"
   ]
  },
  {
   "cell_type": "code",
   "execution_count": 8,
   "id": "725f0c75",
   "metadata": {},
   "outputs": [
    {
     "name": "stdout",
     "output_type": "stream",
     "text": [
      "Human:\n",
      "\n",
      "    You are Agent assist helping the agent to recommend a better specialty pharmacy with the lower time to fill days.\n",
      "    For a hub patient with insurance_type as  \"insurance_type\" and insurance provider as \"insurance_provider\" \n",
      "    Recommend the specialty pharmacies with theirTime to Fill days and compare the time to fill days with the patient's specialty pharmacy \"pharmacy_name\"\n",
      "    \n",
      "    Note: Only consider the cases when the patient is with Hub.\n",
      "\n",
      "    Provide the response in a structured and readable format.\n",
      "    \n",
      "    Assistant:\n",
      "    \n",
      "Human:\n",
      "\n",
      "    You are Agent assist helping the agent and help the agent by generating an insight based on the patient's data based on the patient's insurance_type as  \"insurance_type\" and insurance provider as \"insurance_provider\" \n",
      "    and specialty pharmacy \"pharmacy_name\", provide all the important metrics for the same combination\n",
      "    \n",
      "    Note: Only consider the cases when the patient is with Hub.\n",
      "\n",
      "    Provide the response in a structured and readable format.\n",
      "    \n",
      "    Assistant:\n",
      "    \n"
     ]
    }
   ],
   "source": [
    "for key in matching_keys:\n",
    "    function_to_call = getattr(insights_prompt_library, key)\n",
    "    prompt = function_to_call(*value_to_find)\n",
    "    print(result)"
   ]
  },
  {
   "cell_type": "code",
   "execution_count": 12,
   "id": "58848633",
   "metadata": {},
   "outputs": [
    {
     "name": "stdout",
     "output_type": "stream",
     "text": [
      "def insurance_type_provider_pharmacy_ttf_prompt_generator(insurance_type,insurance_provider,pharmacy_name):\n",
      "    prompt_claude3_sonnet = \"\"\"Human:\n",
      "\n",
      "    You are Agent assist helping the agent to recommend a better specialty pharmacy with the lower time to fill days.\n",
      "    For a hub patient with insurance_type as  \\\"\"\"\" + insurance_type + \"\"\"\\\" and insurance provider as \\\"\"\"\" + insurance_provider + \"\"\"\\\" \n",
      "    Recommend the specialty pharmacies with theirTime to Fill days and compare the time to fill days with the patient's specialty pharmacy \\\"\"\"\" + pharmacy_name + \"\"\"\\\"\n",
      "    \n",
      "    Note: Only consider the cases when the patient is with Hub.\n",
      "\n",
      "    Provide the response in a structured and readable format.\n",
      "    \n",
      "    Assistant:\n",
      "    \"\"\"\n",
      "\n",
      "    return prompt_claude3_sonnet\n",
      "\n",
      "def insurance_type_provider_pharmacy_prompt_generator(insurance_type,insurance_provider,pharmacy_name):\n",
      "    prompt_claude3_sonnet = \"\"\"Human:\n",
      "\n",
      "    You are Agent assist helping the agent and help the agent by generating an insight based on the patient's data based on the patient's insurance_type as  \\\"\"\"\" + insurance_type + \"\"\"\\\" and insurance provider as \\\"\"\"\" + insurance_provider + \"\"\"\\\" \n",
      "    and specialty pharmacy \\\"\"\"\" + pharmacy_name + \"\"\"\\\", provide all the important metrics for the same combination\n",
      "    \n",
      "    Note: Only consider the cases when the patient is with Hub.\n",
      "\n",
      "    Provide the response in a structured and readable format.\n",
      "    \n",
      "    Assistant:\n",
      "    \"\"\"\n",
      "\n",
      "    return prompt_claude3_sonnet\n",
      "\n"
     ]
    }
   ],
   "source": [
    "for key in matching_keys:\n",
    "    function_to_call = getattr(insights_prompt_library, key)\n",
    "    function_definition = inspect.getsource(function_to_call)\n",
    "    print(function_definition)"
   ]
  },
  {
   "cell_type": "code",
   "execution_count": 15,
   "id": "9c09640e",
   "metadata": {},
   "outputs": [],
   "source": []
  },
  {
   "cell_type": "code",
   "execution_count": null,
   "id": "15fe1256",
   "metadata": {},
   "outputs": [],
   "source": []
  }
 ],
 "metadata": {
  "kernelspec": {
   "display_name": "conda_python3",
   "language": "python",
   "name": "conda_python3"
  },
  "language_info": {
   "codemirror_mode": {
    "name": "ipython",
    "version": 3
   },
   "file_extension": ".py",
   "mimetype": "text/x-python",
   "name": "python",
   "nbconvert_exporter": "python",
   "pygments_lexer": "ipython3",
   "version": "3.10.13"
  }
 },
 "nbformat": 4,
 "nbformat_minor": 5
}
