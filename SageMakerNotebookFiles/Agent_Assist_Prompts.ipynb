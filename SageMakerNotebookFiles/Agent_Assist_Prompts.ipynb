{
 "cells": [
  {
   "cell_type": "code",
   "execution_count": 13,
   "id": "f1d64be1",
   "metadata": {},
   "outputs": [],
   "source": [
    "def prompt_generator_entity_extraction(conversation,entities):\n",
    "    prompt_claude = \"\"\"Human: \\\"\"\"\" + conversation + \"\"\"\\\"\n",
    "\n",
    "    The above is a transcript between a call center agent and an insurance subscriber or patient. Identify and extract key entities such as \\\"\"\"\" + entities + \"\"\"\\\" from the transcript. Include only the information present.\n",
    "\n",
    "    Output the results as a structured JSON containing only the extracted fields.\n",
    "\n",
    "    Assistant:\n",
    "    \"\"\"\n",
    "\n",
    "    return prompt_claude"
   ]
  },
  {
   "cell_type": "code",
   "execution_count": 14,
   "id": "04a0adfa",
   "metadata": {
    "scrolled": true
   },
   "outputs": [
    {
     "ename": "SyntaxError",
     "evalue": "invalid syntax (1106694242.py, line 1)",
     "output_type": "error",
     "traceback": [
      "\u001b[0;36m  Cell \u001b[0;32mIn[14], line 1\u001b[0;36m\u001b[0m\n\u001b[0;31m    prompt_generator_insurance_form:\u001b[0m\n\u001b[0m                                    ^\u001b[0m\n\u001b[0;31mSyntaxError\u001b[0m\u001b[0;31m:\u001b[0m invalid syntax\n"
     ]
    }
   ],
   "source": [
    "prompt_generator_insurance_form:\n"
   ]
  },
  {
   "cell_type": "code",
   "execution_count": null,
   "id": "5b7fa564",
   "metadata": {},
   "outputs": [],
   "source": [
    "prompt_generator_medication_form:"
   ]
  }
 ],
 "metadata": {
  "kernelspec": {
   "display_name": "conda_tensorflow2_p310",
   "language": "python",
   "name": "conda_tensorflow2_p310"
  },
  "language_info": {
   "codemirror_mode": {
    "name": "ipython",
    "version": 3
   },
   "file_extension": ".py",
   "mimetype": "text/x-python",
   "name": "python",
   "nbconvert_exporter": "python",
   "pygments_lexer": "ipython3",
   "version": "3.10.13"
  }
 },
 "nbformat": 4,
 "nbformat_minor": 5
}
