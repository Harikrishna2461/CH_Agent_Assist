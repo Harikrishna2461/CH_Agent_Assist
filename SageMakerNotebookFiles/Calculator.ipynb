{
 "cells": [
  {
   "cell_type": "code",
   "execution_count": 3,
   "id": "93d75ff9",
   "metadata": {},
   "outputs": [],
   "source": [
    "class Calculator():\n",
    "    def __init__(self, n1, n2):\n",
    "        self.n1 = n1\n",
    "        self.n2 = n2\n",
    "    \n",
    "    def add(self):\n",
    "        return self.n1+ self.n2\n",
    "    \n",
    "    def subtract(self):\n",
    "        return self.n1 - self.n2\n",
    "    \n",
    "    def multiple(self):\n",
    "        return self.n1 * self.n2\n",
    "    \n",
    "    def div(self):\n",
    "        return self.n1/self.n2"
   ]
  },
  {
   "cell_type": "code",
   "execution_count": 4,
   "id": "63830d8f",
   "metadata": {},
   "outputs": [],
   "source": [
    "calc = Calculator(10,5)"
   ]
  },
  {
   "cell_type": "code",
   "execution_count": 7,
   "id": "fc6e516c",
   "metadata": {},
   "outputs": [
    {
     "name": "stdout",
     "output_type": "stream",
     "text": [
      "15\n",
      "5\n",
      "50\n",
      "2.0\n"
     ]
    }
   ],
   "source": [
    "print(calc.add())\n",
    "\n",
    "print(calc.subtract())\n",
    "\n",
    "print(calc.multiple())\n",
    "\n",
    "print(calc.div())"
   ]
  },
  {
   "cell_type": "code",
   "execution_count": null,
   "id": "654f0f8e",
   "metadata": {},
   "outputs": [],
   "source": []
  }
 ],
 "metadata": {
  "kernelspec": {
   "display_name": "conda_python3",
   "language": "python",
   "name": "conda_python3"
  },
  "language_info": {
   "codemirror_mode": {
    "name": "ipython",
    "version": 3
   },
   "file_extension": ".py",
   "mimetype": "text/x-python",
   "name": "python",
   "nbconvert_exporter": "python",
   "pygments_lexer": "ipython3",
   "version": "3.10.13"
  }
 },
 "nbformat": 4,
 "nbformat_minor": 5
}
