{
 "cells": [
  {
   "cell_type": "markdown",
   "id": "5e8a46e6",
   "metadata": {},
   "source": [
    "# Lambda 1: Extracting Entities for Form Enrollment"
   ]
  },
  {
   "cell_type": "code",
   "execution_count": 54,
   "id": "fe3fd748",
   "metadata": {},
   "outputs": [],
   "source": [
    "import boto3\n",
    "import json\n",
    "import os\n",
    "import sys\n",
    "import base64\n",
    "import time\n",
    "import tzlocal\n",
    "import re\n",
    "from botocore.exceptions import ClientError\n",
    "import logging\n",
    "\n",
    "bedrock_runtime = boto3.client(\n",
    "    service_name=\"bedrock-runtime\",\n",
    "    region_name=\"us-east-1\",\n",
    ")\n",
    "\n",
    "bedrock = boto3.client(\n",
    "    service_name='bedrock', \n",
    "    region_name='us-east-1'\n",
    ")\n",
    "\n",
    "#Defining the bucket and file names.\n",
    "bucket = 'ch-agent-assist-prompt-library-bucket'\n",
    "file_key = 'prompts_library.json' \n",
    "\n",
    "##Processing data to fetch role and content\n",
    "def data_preprocessing(data):\n",
    "    #data = json_data['Records'][0][\"body\"]\n",
    "    convo = \"\"\n",
    "    content = json.loads(data[\"body\"])[\"body\"][\"transcript\"][0][\"Content\"]\n",
    "    role = json.loads(data[\"body\"])[\"body\"][\"transcript\"][0][\"ParticipantRole\"]\n",
    "    convo = convo + role + \" : \" + content\n",
    "    \n",
    "    return convo\n",
    "\n",
    "#Defining LLM function for the prompt generator for entity extraction  \n",
    "entities = \"name of patient, status of insurance, insurance number, demographic details etc.\"\n",
    "def get_prompt(bucket,file,prompt_category,required_prompt,conversation):\n",
    "    entities = \"name of patient, status of insurance, insurance number, demographic details etc.\"\n",
    "    s3 = boto3.client('s3') \n",
    "    response = s3.get_object(Bucket=bucket,Key=file)\n",
    "    content = response['Body'].read().decode('utf-8')\n",
    "    json_content = json.loads(content)\n",
    "    prompt = json_content[prompt_category][required_prompt].format(conversation=conversation,entities=entities)\n",
    "    \n",
    "    return prompt\n",
    "\n",
    "\n",
    "    return json_response \n",
    "\n",
    "def data_postprocessing(data):\n",
    "    result = \"\"\n",
    "    start_index = data.find(\"{\")\n",
    "    \n",
    "    if start_index == -1:\n",
    "        data1 = \"{\" + data\n",
    "    else:\n",
    "        data1 = data\n",
    "    \n",
    "    start_index_final = data.find(\"{\")    \n",
    "    print(f'start_index:{start_index_final}')\n",
    "    \n",
    "    end_char_indices = [i.start() for i in re.finditer(\"}\",data1)]\n",
    "\n",
    "    #end_index = end_char_indices[len(end_char_indices)-1]\n",
    "    \n",
    "    if len(end_char_indices) == 0:\n",
    "        data2 = data1 + '}'\n",
    "    else:\n",
    "        data2 = data1\n",
    "    \n",
    "    end_char_indices_1 = [i.start() for i in re.finditer(\"}\",data2)]\n",
    "    print(f'end_indices:{end_char_indices_1}')  \n",
    "    end_index = end_char_indices_1[len(end_char_indices_1)-1]\n",
    "    print(f'end_index:{end_index}')\n",
    "    \n",
    "    if end_index == len(data2)-1:\n",
    "        result = data2[start_index_final:]\n",
    "    else:\n",
    "        result = data2[start_index_final:end_index+1]\n",
    "    print(f'result:{result}')\n",
    "    \n",
    "    return result\n",
    "\n",
    "def SQS_Publisher(json_data):\n",
    "    try:\n",
    "        sqs = boto3.client('sqs',region_name='us-east-1')\n",
    "        # Define the SQS queue URL\n",
    "        queue_url = 'https://sqs.us-east-1.amazonaws.com/383299343633/ch-agent-assist-sqs'\n",
    "        response = sqs.send_message(QueueUrl= queue_url,MessageBody=json.dumps(json_data) )\n",
    "    except Exception as e:\n",
    "        print(e)\n",
    "        \n",
    "def SQS_data_postprocessing(event,json_data):\n",
    "    json_response = {\n",
    "            \"stream\": \"FORM_DATA\",\n",
    "            \"streamConnectionId\": json.loads(event[\"Records\"][0]['body'])[\"streamConnectionId\"],\n",
    "             \"body\": {\n",
    "                 \"transactionId\": \"f830e890-3ff2-4fdc-a08e-dd9b78a2dc28\",\n",
    "                  \"contactId\": json.loads(event[\"Records\"][0]['body'])[\"streamConnectionId\"],\n",
    "            \"form_data\": json_data,\n",
    "                     }  \n",
    "            }\n",
    "###Below is the LLM model to extract entities\n",
    "#Defining function to connect to Bedrock LLM\n",
    "def load_titan_text_exp_v1(bedrock_runtime , prompt , temp , top_p):\n",
    "    try:\n",
    "        body = json.dumps({\n",
    "            \"inputText\": prompt,\n",
    "            \"textGenerationConfig\": {\n",
    "                \"maxTokenCount\": 4096,\n",
    "                \"stopSequences\": [],\n",
    "                \"temperature\": 0,\n",
    "                \"topP\": 1\n",
    "            }\n",
    "        })\n",
    "\n",
    "        response = bedrock_runtime.invoke_model(\n",
    "            body=body, modelId=\"amazon.titan-text-express-v1\",accept=\"application/json\", contentType=\"application/json\"\n",
    "        )\n",
    "        \n",
    "        response_body = json.loads(response.get(\"body\").read())\n",
    "\n",
    "        completion = \"\"\n",
    "        for result in response_body['results']:\n",
    "            completion += \"\\n\" + result['outputText']\n",
    "\n",
    "        return completion\n",
    "\n",
    "    except ClientError:\n",
    "        logging.error(\"Couldn't invoke Titan Text Express v1\")\n",
    "        raise\n",
    "\n",
    "# Lambda handler to intgerate with AWS\n",
    "def lambda_handler(event,context):\n",
    "    start_time = time.time()\n",
    "    final_transcript = \"\"\n",
    "    for i in range(len(event[\"Records\"])):\n",
    "        final_transcript += \"\\n\" + data_preprocessing(event[\"Records\"][i])\n",
    "        \n",
    "    end_time1 = time.time()    # Record the end time\n",
    "\n",
    "    # Calculate the elapsed time and log it\n",
    "    elapsed_time1 = end_time1 - start_time\n",
    "    print(f\"Elapsed Time after calling data_preprocessing: {elapsed_time1} seconds\")\n",
    "    \n",
    "    prompt_enrollment = get_prompt(bucket,file_key,'entity_extraction','enrollment_form_titan',final_transcript)\n",
    "    end_time2 = time.time()\n",
    "    elapsed_time2 = end_time2 - end_time1\n",
    "    print(f\"Elapsed Time after acessing_prompt_library_from_s3_bucket_to_generate_prompt: {elapsed_time2} seconds\")\n",
    "    \n",
    "    enrollment_data = load_titan_text_exp_v1(bedrock_runtime,prompt_enrollment,0,0.9)\n",
    "    end_time3 = time.time()\n",
    "    elapsed_time3 = end_time3 - end_time2\n",
    "    print(f\"Elapsed Time after model calling: {elapsed_time3} seconds\")\n",
    "    \n",
    "    #json_data = data_postprocessing(enrollment_data)\n",
    "    #end_time4 = time.time()\n",
    "    #elapsed_time4 = end_time4 - end_time3\n",
    "    #print(f\"Elapsed Time after model output postprocessing: {elapsed_time4} seconds\")\n",
    "    \n",
    "    #enrollment_json_object = json.loads(json_data)\n",
    "    #end_time5 = time.time()\n",
    "    #elapsed_time5= end_time5 - end_time4\n",
    "    #print(f\"Elapsed Time after converting output data to json: {elapsed_time5} seconds\")\n",
    "    \n",
    "    #print(event[\"Records\"][0]['body'])\n",
    "    #print(json.loads(event[\"Records\"][0]['body'])[\"streamConnectionId\"])\n",
    "    #sqs_data = SQS_data_postprocessing(event,enrollment_json_object)\n",
    "    #end_time6 = time.time()\n",
    "    #elapsed_time6 = end_time6 - end_time5\n",
    "    #print(f\"Elapsed Time after sqs data postprocessing: {elapsed_time6} seconds\")\n",
    "    \n",
    "    #SQS_Publisher(sqs_data)\n",
    "    #end_time7 = time.time()\n",
    "    #elapsed_time7 = end_time7 - end_time6\n",
    "    #print(f\"Elapsed Time after sending data to SQS: {elapsed_time7} seconds\")\n",
    "    return enrollment_data#{\"statusCode\": 200,\"body\": \"Data Sent to SQS Sucessfully\"}"
   ]
  },
  {
   "cell_type": "code",
   "execution_count": 55,
   "id": "ec72f7a7",
   "metadata": {},
   "outputs": [],
   "source": [
    "data = {\n",
    "  \"Records\": [\n",
    "    {\n",
    "      \"messageId\": \"355c3548-1f03-4c5e-b241-3c6e4bed5601\",\n",
    "      \"receiptHandle\": \"AQEBtGG/BXpQS9fewvrud7Ct+0Pm1fWqFdXUutYN2NKU5Ohukwi/rZLaaKD7mNkMv619WOI1ao9LwvhDO573DROL+wUCQQz1ejI+BaTYWKs629P7sBa8/ND4Bv3SfKPe4p+rMALYuANfO/XoeN6lfjvkNGcSWiyO5PrVyyEPPIKSIg/d/p2viccwRB3s7Q/0TwIxK3iYkSkHoUAOYdcCEQQU1Ia6srdP0D4RCtFXPh4S21F4IljNVF5DYiEFYGX78bPdTVluBqZm9xpjEYw+fOl8YrsIM0p5S9vCBQhouj5rC8Xo8dbrrUo6SAwJqmxWSckmHMda14eyA6zyomtz2xzmxCwdzUVvRMa4J9eMPB+u941W10aK7CP/PvqziaO28aDNuStE6KLOF/2VmgfK9eXF5w==\",\n",
    "      \"body\": \"{\\\"stream\\\":\\\"TRANSCRIPT\\\",\\\"streamConnectionId\\\":\\\"149edb05-7fd0-48b0-a6e9-3e7b49a0b8d7\\\",\\\"body\\\":{\\\"transactionId\\\":\\\"50b1f7fb-b502-42fa-95f2-281ed6006efe\\\",\\\"transcript\\\":[{\\\"ParticipantId\\\":\\\"CUSTOMER\\\",\\\"ParticipantRole\\\":\\\"CUSTOMER\\\",\\\"Content\\\":\\\"Sure,my insurance is with Anthem INC.\\\",\\\"BeginOffsetMillis\\\":399340,\\\"EndOffsetMillis\\\":399745,\\\"Id\\\":\\\"f10ada6b-dfeb-4569-8b2c-f4e83d60efbc\\\",\\\"Sentiment\\\":\\\"NEUTRAL\\\",\\\"IssuesDetected\\\":[]}]}}\",\n",
    "      \"attributes\": {\n",
    "        \"ApproximateReceiveCount\": \"1\",\n",
    "        \"AWSTraceHeader\": \"Root=1-65d48ed1-196e903e02d83fbd5c5a23bb;Parent=07e7ba1a0a2f4dae;Sampled=0;Lineage=8448a41f:0\",\n",
    "        \"SentTimestamp\": \"1708429009330\",\n",
    "        \"SenderId\": \"AROAVSPTL2UI67PVNI4RP:CH_Kinesis_Transcriber\",\n",
    "        \"ApproximateFirstReceiveTimestamp\": \"1708429009331\"\n",
    "      },\n",
    "      \"messageAttributes\": {},\n",
    "      \"md5OfBody\": \"3488de905e211729d102b02f70a21683\",\n",
    "      \"eventSource\": \"aws:sqs\",\n",
    "      \"eventSourceARN\": \"arn:aws:sqs:us-east-1:383299343633:ch-agent-assist-sqs\",\n",
    "      \"awsRegion\": \"us-east-1\"\n",
    "    },\n",
    "    {\n",
    "      \"messageId\": \"355c3548-1f03-4c5e-b241-3c6e4bed5601\",\n",
    "      \"receiptHandle\": \"AQEBtGG/BXpQS9fewvrud7Ct+0Pm1fWqFdXUutYN2NKU5Ohukwi/rZLaaKD7mNkMv619WOI1ao9LwvhDO573DROL+wUCQQz1ejI+BaTYWKs629P7sBa8/ND4Bv3SfKPe4p+rMALYuANfO/XoeN6lfjvkNGcSWiyO5PrVyyEPPIKSIg/d/p2viccwRB3s7Q/0TwIxK3iYkSkHoUAOYdcCEQQU1Ia6srdP0D4RCtFXPh4S21F4IljNVF5DYiEFYGX78bPdTVluBqZm9xpjEYw+fOl8YrsIM0p5S9vCBQhouj5rC8Xo8dbrrUo6SAwJqmxWSckmHMda14eyA6zyomtz2xzmxCwdzUVvRMa4J9eMPB+u941W10aK7CP/PvqziaO28aDNuStE6KLOF/2VmgfK9eXF5w==\",\n",
    "      \"body\": \"{\\\"stream\\\":\\\"TRANSCRIPT\\\",\\\"streamConnectionId\\\":\\\"149edb05-7fd0-48b0-a6e9-3e7b49a0b8d7\\\",\\\"body\\\":{\\\"transactionId\\\":\\\"50b1f7fb-b502-42fa-95f2-281ed6006efe\\\",\\\"transcript\\\":[{\\\"ParticipantId\\\":\\\"AGENT\\\",\\\"ParticipantRole\\\":\\\"AGENT\\\",\\\"Content\\\":\\\"Thank you,can you share your policy number? \\\",\\\"BeginOffsetMillis\\\":399340,\\\"EndOffsetMillis\\\":399745,\\\"Id\\\":\\\"f10ada6b-dfeb-4569-8b2c-f4e83d60efbc\\\",\\\"Sentiment\\\":\\\"NEUTRAL\\\",\\\"IssuesDetected\\\":[]}]}}\",\n",
    "      \"attributes\": {\n",
    "        \"ApproximateReceiveCount\": \"1\",\n",
    "        \"AWSTraceHeader\": \"Root=1-65d48ed1-196e903e02d83fbd5c5a23bb;Parent=07e7ba1a0a2f4dae;Sampled=0;Lineage=8448a41f:0\",\n",
    "        \"SentTimestamp\": \"1708429009330\",\n",
    "        \"SenderId\": \"AROAVSPTL2UI67PVNI4RP:CH_Kinesis_Transcriber\",\n",
    "        \"ApproximateFirstReceiveTimestamp\": \"1708429009331\"\n",
    "      },\n",
    "      \"messageAttributes\": {},\n",
    "      \"md5OfBody\": \"3488de905e211729d102b02f70a21683\",\n",
    "      \"eventSource\": \"aws:sqs\",\n",
    "      \"eventSourceARN\": \"arn:aws:sqs:us-east-1:383299343633:ch-agent-assist-sqs\",\n",
    "      \"awsRegion\": \"us-east-1\"\n",
    "    },\n",
    "  ]\n",
    "}"
   ]
  },
  {
   "cell_type": "markdown",
   "id": "2a03529a",
   "metadata": {},
   "source": [
    "# Testing"
   ]
  },
  {
   "cell_type": "code",
   "execution_count": 62,
   "id": "675d49aa",
   "metadata": {},
   "outputs": [
    {
     "name": "stdout",
     "output_type": "stream",
     "text": [
      "Elapsed Time after calling data_preprocessing: 6.532669067382812e-05 seconds\n",
      "Elapsed Time after acessing_prompt_library_from_s3_bucket_to_generate_prompt: 0.1562364101409912 seconds\n",
      "Elapsed Time after model calling: 2.046919584274292 seconds\n"
     ]
    },
    {
     "data": {
      "text/plain": [
       "'\\n\\n```\\n{\\n    \"rows\": [\\n        {\\n            \"Name of the Patient\": \"CUSTOMER\",\\n            \"Status of Insurance\": \"Subscriber\",\\n            \"Insurance Number\": \"{CA_HEALTH_NUMBER}\",\\n            \"Demographic Details\": \"Age: 30, Gender: Male\"\\n        }\\n    ]\\n}\\n```'"
      ]
     },
     "execution_count": 62,
     "metadata": {},
     "output_type": "execute_result"
    }
   ],
   "source": [
    "lambda_handler(data,\"\")"
   ]
  },
  {
   "cell_type": "code",
   "execution_count": 63,
   "id": "6564d9ba",
   "metadata": {},
   "outputs": [
    {
     "name": "stdout",
     "output_type": "stream",
     "text": [
      "\n",
      "\n",
      "```\n",
      "{\n",
      "    \"rows\": [\n",
      "        {\n",
      "            \"Name of the Patient\": \"CUSTOMER\",\n",
      "            \"Status of Insurance\": \"Subscriber\",\n",
      "            \"Insurance Number\": \"{CA_HEALTH_NUMBER}\",\n",
      "            \"Demographic Details\": \"Age: 30, Gender: Male\"\n",
      "        }\n",
      "    ]\n",
      "}\n",
      "```\n"
     ]
    }
   ],
   "source": [
    "print('\\n\\n```\\n{\\n    \"rows\": [\\n        {\\n            \"Name of the Patient\": \"CUSTOMER\",\\n            \"Status of Insurance\": \"Subscriber\",\\n            \"Insurance Number\": \"{CA_HEALTH_NUMBER}\",\\n            \"Demographic Details\": \"Age: 30, Gender: Male\"\\n        }\\n    ]\\n}\\n```')"
   ]
  },
  {
   "cell_type": "markdown",
   "id": "967c023c",
   "metadata": {},
   "source": [
    "# Load Model Testing"
   ]
  },
  {
   "cell_type": "code",
   "execution_count": 41,
   "id": "342ee808",
   "metadata": {},
   "outputs": [
    {
     "data": {
      "text/plain": [
       "'\\n\\nHello! I am a computer program designed to assist you. How can I help you today?'"
      ]
     },
     "execution_count": 41,
     "metadata": {},
     "output_type": "execute_result"
    }
   ],
   "source": [
    "sample_prompt = \"Sample Prompt\"\n",
    "#Defining function to connect to Bedrock LLM\n",
    "def load_titan_text_exp_v1(bedrock_runtime , prompt , temp , top_p):\n",
    "    try:\n",
    "        body = json.dumps({\n",
    "            \"inputText\": prompt,\n",
    "            \"textGenerationConfig\": {\n",
    "                \"maxTokenCount\": 4096,\n",
    "                \"stopSequences\": [],\n",
    "                \"temperature\": 0,\n",
    "                \"topP\": 1\n",
    "            }\n",
    "        })\n",
    "\n",
    "        response = bedrock_runtime.invoke_model(\n",
    "            body=body, modelId=\"amazon.titan-text-express-v1\",accept=\"application/json\", contentType=\"application/json\"\n",
    "        )\n",
    "        \n",
    "        response_body = json.loads(response.get(\"body\").read())\n",
    "\n",
    "        completion = \"\"\n",
    "        for result in response_body['results']:\n",
    "            completion += \"\\n\" + result['outputText']\n",
    "\n",
    "        return completion\n",
    "\n",
    "    except ClientError:\n",
    "        logging.error(\"Couldn't invoke Titan Text Express v1\")\n",
    "        raise\n",
    "load_titan_text_exp_v1(bedrock_runtime , sample_prompt , 0 , 1)"
   ]
  },
  {
   "cell_type": "code",
   "execution_count": 40,
   "id": "1df51ac2",
   "metadata": {},
   "outputs": [
    {
     "data": {
      "text/plain": [
       "{'inputTextTokenCount': 2,\n",
       " 'results': [{'tokenCount': 20,\n",
       "   'outputText': '\\nHello! I am a computer program designed to assist you. How can I help you today?',\n",
       "   'completionReason': 'FINISH'}]}"
      ]
     },
     "execution_count": 40,
     "metadata": {},
     "output_type": "execute_result"
    }
   ],
   "source": [
    "t"
   ]
  },
  {
   "cell_type": "code",
   "execution_count": 33,
   "id": "64ac108c",
   "metadata": {},
   "outputs": [],
   "source": [
    "t = load_titan_text_exp_v1(bedrock_runtime , sample_prompt , 0 , 1)"
   ]
  },
  {
   "cell_type": "code",
   "execution_count": 39,
   "id": "a2466892",
   "metadata": {},
   "outputs": [
    {
     "data": {
      "text/plain": [
       "'\\nHello! I am a computer program designed to assist you. How can I help you today?'"
      ]
     },
     "execution_count": 39,
     "metadata": {},
     "output_type": "execute_result"
    }
   ],
   "source": [
    "t['results'][0]['outputText']"
   ]
  }
 ],
 "metadata": {
  "kernelspec": {
   "display_name": "conda_tensorflow2_p310",
   "language": "python",
   "name": "conda_tensorflow2_p310"
  },
  "language_info": {
   "codemirror_mode": {
    "name": "ipython",
    "version": 3
   },
   "file_extension": ".py",
   "mimetype": "text/x-python",
   "name": "python",
   "nbconvert_exporter": "python",
   "pygments_lexer": "ipython3",
   "version": "3.10.13"
  }
 },
 "nbformat": 4,
 "nbformat_minor": 5
}
