{
 "cells": [
  {
   "cell_type": "code",
   "execution_count": 45,
   "id": "cbf0fe50",
   "metadata": {},
   "outputs": [],
   "source": [
    "import boto3\n",
    "import json\n",
    "import base64\n",
    "import time\n",
    "import re\n",
    "from botocore.exceptions import ClientError\n",
    "import logging\n",
    "import redis\n",
    "import os\n",
    "\n",
    "bedrock_runtime = boto3.client(\n",
    "    service_name=\"bedrock-runtime\",\n",
    "    region_name=\"us-east-1\",\n",
    ")\n",
    "\n",
    "bedrock = boto3.client(\n",
    "    service_name='bedrock', \n",
    "    region_name='us-east-1'\n",
    ")\n",
    "\n",
    "brt = boto3.client(service_name='bedrock-runtime')\n",
    "\n",
    "# Initialize Redis client\n",
    "redis_host = 'ch-agent-assist-redis-cluster-disabled-ro.tjyhst.ng.0001.use1.cache.amazonaws.com'\n",
    "redis_port = 6379 # Default Redis port is 6379\n",
    "redis_password = None  # None if no password\n",
    "redis_client = redis.Redis(host=redis_host, port=redis_port, password=redis_password, decode_responses=True)\n",
    "\n",
    "##Processing data to fetch role and content\n",
    "def data_preprocessing(data):\n",
    "        \n",
    "    #json_str1 = '[' + data\n",
    "    #json_str1 += ']'\n",
    "    #json_str2 = json_str1.strip()\n",
    "\n",
    "    #try:\n",
    "       # Parse the JSON string as a list of dictionaries\n",
    "       #data_list = json.loads(json_str2)\n",
    "       #convo = \"\"\n",
    "       # Iterate through each item in the list and print desired information\n",
    "       #for datas in data_list:\n",
    "        #    print(datas)\n",
    "           # for transcript in datas['transcript']:\n",
    "               # participant_role = transcript['ParticipantRole']\n",
    "              #  content = transcript['Content']\n",
    "              #  convo += participant_role + \" : \" + content + \"\\n\"\n",
    "            #print(f'{participant_role} : {content}')\n",
    "                \n",
    "    #except json.JSONDecodeError as e:\n",
    "     #   print(f\"Error parsing JSON: {e}\")\n",
    "     \n",
    "    segments = json.loads(data)\n",
    "    convo = \"\" \n",
    "    # Extract transcripts, participant roles, and content\n",
    "    for segment in segments:\n",
    "        transcript = segment['transcript'][0]\n",
    "        participant_role = transcript['ParticipantRole']\n",
    "        content = transcript['Content']\n",
    "        convo += participant_role + \" : \" + content + \"\\n\"\n",
    "        \n",
    "    return convo\n",
    "\n",
    "def data_postprocessing(data):\n",
    "    result = \"\"\n",
    "    start_index = data.find(\"{\")\n",
    "    \n",
    "    if start_index == -1:\n",
    "        data1 = \"{\" + data\n",
    "    else:\n",
    "        data1 = data\n",
    "    \n",
    "    start_index_final = data.find(\"{\")    \n",
    "    print(f'start_index:{start_index_final}')\n",
    "    \n",
    "    end_char_indices = [i.start() for i in re.finditer(\"}\",data1)]\n",
    "    print(f'end_indices:{end_char_indices}')\n",
    "    end_index = end_char_indices[len(end_char_indices)-1]\n",
    "    print(f'end_index:{end_index}')\n",
    "    if end_index == len(data1)-1:\n",
    "        result = data1[start_index_final:]\n",
    "    else:\n",
    "        result = data1[start_index_final:end_index+1]\n",
    "    print(f'result:{result}')\n",
    "    \n",
    "    return result\n",
    "    \n",
    "def summarisation_prompt_generator(context):\n",
    "    prompt_llama = f\"\"\"\n",
    "Instruction: \"Summarise this call transcript between a patient and an agent and provide it in a precise paragraph : \" :\n",
    "\n",
    "{context}.\n",
    "             \n",
    "Response :  \n",
    "    \"\"\"\n",
    "    return prompt_llama\n",
    "    \n",
    "#Defining function to summarize context\n",
    "def load_llama2(bedrock_runtime , prompt , temp , top_p):\n",
    "    try:\n",
    "        body = {\n",
    "            \"prompt\" : prompt,\n",
    "            \"temperature\" : temp,\n",
    "            \"top_p\" : top_p,\n",
    "            \"max_gen_len\" : 1000\n",
    "            }\n",
    "\n",
    "        response = bedrock_runtime.invoke_model(\n",
    "            modelId=\"meta.llama2-13b-chat-v1\", body=json.dumps(body)\n",
    "        )\n",
    "\n",
    "        response_body = json.loads(response[\"body\"].read())\n",
    "        completion = response_body[\"generation\"]\n",
    "\n",
    "        return completion\n",
    "\n",
    "    except ClientError:\n",
    "        logging.error(\"Couldn't invoke Llama 2\")\n",
    "        raise\n",
    "    \n",
    "def SQS_Publisher(json_data):\n",
    "    try:\n",
    "        sqs = boto3.client('sqs',region_name='us-east-1')\n",
    "        # Define the SQS queue URL\n",
    "        queue_url = 'https://sqs.us-east-1.amazonaws.com/383299343633/ch-agent-assist-sqs'\n",
    "        response = sqs.send_message(QueueUrl= queue_url,MessageBody=json.dumps(json_data) )\n",
    "    except Exception as e:\n",
    "        print(e)\n",
    "        \n",
    "def SQS_data_postprocessing(event,data):\n",
    "    json_response = {\n",
    "            \"stream\": \"SUMMARY_DATA\",\n",
    "            \"streamConnectionId\": json.loads(event[\"Records\"][0]['body'])[\"streamConnectionId\"],\n",
    "             \"body\": {\n",
    "                 \"transactionId\": \"f830e890-3ff2-4fdc-a08e-dd9b78a2dc28\",\n",
    "                  \"contactId\": json.loads(event[\"Records\"][0]['body'])[\"streamConnectionId\"],\n",
    "            \"form_data\": data,\n",
    "                     }  \n",
    "            }\n",
    "    return json_response\n",
    "    \n",
    "def lambda_handler(event,context):\n",
    "    #print(event) \n",
    "    # Initialize Redis client\n",
    "    #redis_host = 'ch-agent-assist-redis-cluster-disabled-ro.tjyhst.ng.0001.use1.cache.amazonaws.com:6379'\n",
    "    #redis_port =  6379  # Default Redis port is 6379\n",
    "    #redis_password = None  # None if no password\n",
    "    #redis_client = redis.Redis(host=redis_host, port=redis_port, password=redis_password, decode_responses=True)\n",
    "    key_to_read = json.loads(event[\"Records\"][0]['body'])[\"streamConnectionId\"] #event.get('conversation_id')\n",
    "    #print(key_to_read)\n",
    "    # Check if the key exists and read the value from Redis\n",
    "    if key_to_read and redis_client.exists(key_to_read):\n",
    "        value = redis_client.get(key_to_read)\n",
    "       # print(value) #.split(\"contactId\"))\n",
    "    else:\n",
    "        print('Key not found')\n",
    "    print(value)    \n",
    "    #final_transcript = \"\"\n",
    "    #print(f'lambda_handler--Received_input : {event}.')\n",
    "    #for i in range(len(event[\"Records\"])):\n",
    "     #   final_transcript += \"\\n\" + data_preprocessing(event[\"Records\"][i])\n",
    "    #print(f'lambda_handler--output_after_preprocessing_data : {final_transcript}.')\n",
    "    final_transcript = data_preprocessing(value)\n",
    "    print(final_transcript)\n",
    "    prompt_summary = summarisation_prompt_generator(final_transcript)\n",
    "    print(f'lambda_handler--generated_prompt : {prompt_summary}.')\n",
    "    summary_data = load_llama2(bedrock_runtime,prompt_summary,0.5,0.9)\n",
    "    print(f'lambda_handler--output_from_the_llm_model : {summary_data}.')\n",
    "    sqs_data = SQS_data_postprocessing(event,summary_data)\n",
    "    print(f'lambda_handler--data_to_be_sent_to_SQS_after_postprocessing_json_output_of_model : {sqs_data}.')\n",
    "    SQS_Publisher(sqs_data)\n",
    "    print(f'lambda_handler--data_sent_to_sqs_sucessfully.')\n",
    "    return {\"statusCode\": 200,\"body\": \"Data Sent to SQS Sucessfully\"}"
   ]
  },
  {
   "cell_type": "markdown",
   "id": "a3092f26",
   "metadata": {},
   "source": [
    "# Data Structure Debugging"
   ]
  },
  {
   "cell_type": "code",
   "execution_count": 44,
   "id": "9815d02f",
   "metadata": {},
   "outputs": [
    {
     "data": {
      "text/plain": [
       "'\":\"149edb05-7fd0-48b0-a6e9-3e7b49a0b8d7\",\"startTime\":\"2024-02-28T06:00:05.337Z\",\"transactionId\":\"b36660d3-201a-461b-8a21-2ab3dc2c7070\",\"version\":\"1.0.0\",\"channel\":\"VOICE\",\"accountId\":\"383299343633\",\"instanceId\":\"3e6c7e35-ba34-4998-bc04-dc660c85230d\",\"languageCode\":\"en-US\",\"eventType\":\"SEGMENTS\",\"transcript\":[{\"ParticipantId\":\"CUSTOMER\",\"ParticipantRole\":\"CUSTOMER\",\"Content\":\"Bye.\",\"BeginOffsetMillis\":399340,\"EndOffsetMillis\":399745,\"Id\":\"f10ada6b-dfeb-4569-8b2c-f4e83d60efbc\",\"Sentiment\":\"NEUTRAL\",\"IssuesDetected\":[]}]},{\"'"
      ]
     },
     "execution_count": 44,
     "metadata": {},
     "output_type": "execute_result"
    }
   ],
   "source": [
    "str1 = \"\"\"{\"contactId\":\"149edb05-7fd0-48b0-a6e9-3e7b49a0b8d7\",\"startTime\":\"2024-02-28T06:00:05.337Z\",\"transactionId\":\"b36660d3-201a-461b-8a21-2ab3dc2c7070\",\"version\":\"1.0.0\",\"channel\":\"VOICE\",\"accountId\":\"383299343633\",\"instanceId\":\"3e6c7e35-ba34-4998-bc04-dc660c85230d\",\"languageCode\":\"en-US\",\"eventType\":\"SEGMENTS\",\"transcript\":[{\"ParticipantId\":\"CUSTOMER\",\"ParticipantRole\":\"CUSTOMER\",\"Content\":\"Bye.\",\"BeginOffsetMillis\":399340,\"EndOffsetMillis\":399745,\"Id\":\"f10ada6b-dfeb-4569-8b2c-f4e83d60efbc\",\"Sentiment\":\"NEUTRAL\",\"IssuesDetected\":[]}]},{\"contactId\":\"149edb05-7fd0-48b0-a6e9-3e7b49a0b8d7\",\"startTime\":\"2024-02-28T07:35:33.962Z\",\"transactionId\":\"e143c2c0-5a76-47e7-8b79-eee414fd7c91\",\"version\":\"1.0.0\",\"channel\":\"VOICE\",\"accountId\":\"383299343633\",\"instanceId\":\"3e6c7e35-ba34-4998-bc04-dc660c85230d\",\"languageCode\":\"en-US\",\"eventType\":\"SEGMENTS\",\"transcript\":[{\"ParticipantId\":\"CUSTOMER\",\"ParticipantRole\":\"CUSTOMER\",\"Content\":\"Bye.\",\"BeginOffsetMillis\":399340,\"EndOffsetMillis\":399745,\"Id\":\"f10ada6b-dfeb-4569-8b2c-f4e83d60efbc\",\"Sentiment\":\"NEUTRAL\",\"IssuesDetected\":[]}]},{\"contactId\":\"149edb05-7fd0-48b0-a6e9-3e7b49a0b8d7\",\"startTime\":\"2024-02-28T07:38:55.366Z\",\"transactionId\":\"d5a2f439-cb08-4413-977c-de8cf10b3f9c\",\"version\":\"1.0.0\",\"channel\":\"VOICE\",\"accountId\":\"383299343633\",\"instanceId\":\"3e6c7e35-ba34-4998-bc04-dc660c85230d\",\"languageCode\":\"en-US\",\"eventType\":\"SEGMENTS\",\"transcript\":[{\"ParticipantId\":\"CUSTOMER\",\"ParticipantRole\":\"CUSTOMER\",\"Content\":\"Hello, Mark\",\"BeginOffsetMillis\":399340,\"EndOffsetMillis\":399745,\"Id\":\"f10ada6b-dfeb-4569-8b2c-f4e83d60efbc\",\"Sentiment\":\"NEUTRAL\",\"IssuesDetected\":[]}]},{\"contactId\":\"149edb05-7fd0-48b0-a6e9-3e7b49a0b8d7\",\"startTime\":\"2024-02-28T07:41:20.979Z\",\"transactionId\":\"893fc5e8-59c3-444f-b0e7-f3d1ad5f5b66\",\"version\":\"1.0.0\",\"channel\":\"VOICE\",\"accountId\":\"383299343633\",\"instanceId\":\"3e6c7e35-ba34-4998-bc04-dc660c85230d\",\"languageCode\":\"en-US\",\"eventType\":\"SEGMENTS\",\"transcript\":[{\"ParticipantId\":\"AGENT\",\"ParticipantRole\":\"AGENT\",\"Content\":\"I am doing great\",\"BeginOffsetMillis\":399340,\"EndOffsetMillis\":399745,\"Id\":\"f10ada6b-dfeb-4569-8b2c-f4e83d60efbc\",\"Sentiment\":\"NEUTRAL\",\"IssuesDetected\":[]}]}\"\"\"\n",
    "str1.split(\"contactId\")[1]"
   ]
  },
  {
   "cell_type": "code",
   "execution_count": 15,
   "id": "0f37050d",
   "metadata": {},
   "outputs": [
    {
     "data": {
      "text/plain": [
       "379"
      ]
     },
     "execution_count": 15,
     "metadata": {},
     "output_type": "execute_result"
    }
   ],
   "source": [
    "str1.find(\"Content\")"
   ]
  },
  {
   "cell_type": "code",
   "execution_count": 17,
   "id": "42603cbe",
   "metadata": {},
   "outputs": [
    {
     "data": {
      "text/plain": [
       "[379, 915, 1451, 1988]"
      ]
     },
     "execution_count": 17,
     "metadata": {},
     "output_type": "execute_result"
    }
   ],
   "source": [
    "import re\n",
    "l1 = [i.start() for i in re.finditer(\"Content\",str1)]"
   ]
  },
  {
   "cell_type": "code",
   "execution_count": 18,
   "id": "947cabfa",
   "metadata": {},
   "outputs": [
    {
     "data": {
      "text/plain": [
       "[396, 932, 1475, 2017]"
      ]
     },
     "execution_count": 18,
     "metadata": {},
     "output_type": "execute_result"
    }
   ],
   "source": [
    "l2 = [i.start() for i in re.finditer(\"BeginOffsetMillis\",str1)]"
   ]
  },
  {
   "cell_type": "code",
   "execution_count": 25,
   "id": "a846170d",
   "metadata": {},
   "outputs": [],
   "source": [
    "s = str1[379+len(\"Content\")+3:396-3]"
   ]
  },
  {
   "cell_type": "code",
   "execution_count": 26,
   "id": "f1d1d000",
   "metadata": {},
   "outputs": [
    {
     "data": {
      "text/plain": [
       "'Bye.'"
      ]
     },
     "execution_count": 26,
     "metadata": {},
     "output_type": "execute_result"
    }
   ],
   "source": [
    "s"
   ]
  },
  {
   "cell_type": "code",
   "execution_count": 27,
   "id": "92f30e58",
   "metadata": {},
   "outputs": [],
   "source": [
    "l3 = [i.start() for i in re.finditer(\"ParticipantRole\",str1)]"
   ]
  },
  {
   "cell_type": "code",
   "execution_count": 28,
   "id": "7951d834",
   "metadata": {},
   "outputs": [
    {
     "data": {
      "text/plain": [
       "[350, 886, 1422, 1962]"
      ]
     },
     "execution_count": 28,
     "metadata": {},
     "output_type": "execute_result"
    }
   ],
   "source": [
    "l3"
   ]
  },
  {
   "cell_type": "code",
   "execution_count": 30,
   "id": "71de91d0",
   "metadata": {},
   "outputs": [
    {
     "data": {
      "text/plain": [
       "'CUSTOMER'"
      ]
     },
     "execution_count": 30,
     "metadata": {},
     "output_type": "execute_result"
    }
   ],
   "source": [
    "str1[350+len('ParticipantRole')+3:379-3]"
   ]
  },
  {
   "cell_type": "code",
   "execution_count": 37,
   "id": "555f9b9c",
   "metadata": {},
   "outputs": [
    {
     "data": {
      "text/plain": [
       "''"
      ]
     },
     "execution_count": 37,
     "metadata": {},
     "output_type": "execute_result"
    }
   ],
   "source": [
    "str1[886+len('ParticipantRole')+3:915-3]"
   ]
  },
  {
   "cell_type": "code",
   "execution_count": 36,
   "id": "8b1769da",
   "metadata": {},
   "outputs": [
    {
     "name": "stdout",
     "output_type": "stream",
     "text": [
      "CUSTOMER : Bye.\n",
      "\n",
      "CUSTOMER : Bye.\n",
      "\n"
     ]
    }
   ],
   "source": [
    "str2 = \"\"\"{\"contactId\":\"149edb05-7fd0-48b0-a6e9-3e7b49a0b8d7\",\"startTime\":\"2024-02-28T06:00:05.337Z\",\"transactionId\":\"b36660d3-201a-461b-8a21-2ab3dc2c7070\",\"version\":\"1.0.0\",\"channel\":\"VOICE\",\"accountId\":\"383299343633\",\"instanceId\":\"3e6c7e35-ba34-4998-bc04-dc660c85230d\",\"languageCode\":\"en-US\",\"eventType\":\"SEGMENTS\",\"transcript\":[{\"ParticipantId\":\"CUSTOMER\",\"ParticipantRole\":\"CUSTOMER\",\"Content\":\"Bye.\",\"BeginOffsetMillis\":399340,\"EndOffsetMillis\":399745,\"Id\":\"f10ada6b-dfeb-4569-8b2c-f4e83d60efbc\",\"Sentiment\":\"NEUTRAL\",\"IssuesDetected\":[]}]},{\"contactId\":\"149edb05-7fd0-48b0-a6e9-3e7b49a0b8d7\",\"startTime\":\"2024-02-28T07:35:33.962Z\",\"transactionId\":\"e143c2c0-5a76-47e7-8b79-eee414fd7c91\",\"version\":\"1.0.0\",\"channel\":\"VOICE\",\"accountId\":\"383299343633\",\"instanceId\":\"3e6c7e35-ba34-4998-bc04-dc660c85230d\",\"languageCode\":\"en-US\",\"eventType\":\"SEGMENTS\",\"transcript\":[{\"ParticipantId\":\"CUSTOMER\",\"ParticipantRole\":\"CUSTOMER\",\"Content\":\"Bye.\",\"BeginOffsetMillis\":399340,\"EndOffsetMillis\":399745,\"Id\":\"f10ada6b-dfeb-4569-8b2c-f4e83d60efbc\",\"Sentiment\":\"NEUTRAL\",\"IssuesDetected\":[]}]},{\"contactId\":\"149edb05-7fd0-48b0-a6e9-3e7b49a0b8d7\",\"startTime\":\"2024-02-28T07:38:55.366Z\",\"transactionId\":\"d5a2f439-cb08-4413-977c-de8cf10b3f9c\",\"version\":\"1.0.0\",\"channel\":\"VOICE\",\"accountId\":\"383299343633\",\"instanceId\":\"3e6c7e35-ba34-4998-bc04-dc660c85230d\",\"languageCode\":\"en-US\",\"eventType\":\"SEGMENTS\",\"transcript\":[{\"ParticipantId\":\"CUSTOMER\",\"ParticipantRole\":\"CUSTOMER\",\"Content\":\"Hello, Mark\",\"BeginOffsetMillis\":399340,\"EndOffsetMillis\":399745,\"Id\":\"f10ada6b-dfeb-4569-8b2c-f4e83d60efbc\",\"Sentiment\":\"NEUTRAL\",\"IssuesDetected\":[]}]},{\"contactId\":\"149edb05-7fd0-48b0-a6e9-3e7b49a0b8d7\",\"startTime\":\"2024-02-28T07:41:20.979Z\",\"transactionId\":\"893fc5e8-59c3-444f-b0e7-f3d1ad5f5b66\",\"version\":\"1.0.0\",\"channel\":\"VOICE\",\"accountId\":\"383299343633\",\"instanceId\":\"3e6c7e35-ba34-4998-bc04-dc660c85230d\",\"languageCode\":\"en-US\",\"eventType\":\"SEGMENTS\",\"transcript\":[{\"ParticipantId\":\"AGENT\",\"ParticipantRole\":\"AGENT\",\"Content\":\"I am doing great\",\"BeginOffsetMillis\":399340,\"EndOffsetMillis\":399745,\"Id\":\"f10ada6b-dfeb-4569-8b2c-f4e83d60efbc\",\"Sentiment\":\"NEUTRAL\",\"IssuesDetected\":[]}]}\"\"\"\n",
    "str1 = str2.split(\"contactId\")[1]\n",
    "l1 = [i.start() for i in re.finditer(\"Content\",str1)]\n",
    "l2 = [i.start() for i in re.finditer(\"BeginOffsetMillis\",str1)]\n",
    "l3 = [i.start() for i in re.finditer(\"ParticipantRole\",str1)]\n",
    "convo = \"\"\n",
    "for i in range(len(l1)):\n",
    "    role = str1[l3[i]+len('ParticipantRole')+3:l1[i]-3]\n",
    "    content = str1[l1[i]+len('Content')+3:l2[i]-3]\n",
    "    convo += role + \" : \" + content + \"\\n\"\n",
    "    print(convo)\n",
    "    \n",
    "print(convo)"
   ]
  },
  {
   "cell_type": "code",
   "execution_count": 33,
   "id": "9896c573",
   "metadata": {},
   "outputs": [
    {
     "name": "stdout",
     "output_type": "stream",
     "text": [
      "Participant Role: AGENT\n",
      "Content: I am doing great\n"
     ]
    }
   ],
   "source": [
    "import json\n",
    "\n",
    "# JSON string from Redis cache\n",
    "json_str = \"\"\"\n",
    "{\"contactId\":\"149edb05-7fd0-48b0-a6e9-3e7b49a0b8d7\",\"startTime\":\"2024-02-28T07:41:20.979Z\",\"transactionId\":\"893fc5e8-59c3-444f-b0e7-f3d1ad5f5b66\",\"version\":\"1.0.0\",\"channel\":\"VOICE\",\"accountId\":\"383299343633\",\"instanceId\":\"3e6c7e35-ba34-4998-bc04-dc660c85230d\",\"languageCode\":\"en-US\",\"eventType\":\"SEGMENTS\",\"transcript\":[{\"ParticipantId\":\"AGENT\",\"ParticipantRole\":\"AGENT\",\"Content\":\"I am doing great\",\"BeginOffsetMillis\":399340,\"EndOffsetMillis\":399745,\"Id\":\"f10ada6b-dfeb-4569-8b2c-f4e83d60efbc\",\"Sentiment\":\"NEUTRAL\",\"IssuesDetected\":[]}]}\n",
    "\"\"\"\n",
    "\n",
    "# Parse the JSON string\n",
    "data = json.loads(json_str)\n",
    "\n",
    "# Assuming you only need to extract this information from the first item in the 'transcript' list\n",
    "participant_role = data['transcript'][0]['ParticipantRole']\n",
    "content = data['transcript'][0]['Content']\n",
    "\n",
    "print(f\"Participant Role: {participant_role}\")\n",
    "print(f\"Content: {content}\")"
   ]
  },
  {
   "cell_type": "code",
   "execution_count": 38,
   "id": "14cb01cf",
   "metadata": {},
   "outputs": [],
   "source": [
    "json_str = \"\"\"{\"contactId\":\"149edb05-7fd0-48b0-a6e9-3e7b49a0b8d7\",\"startTime\":\"2024-02-28T06:00:05.337Z\",\"transactionId\":\"b36660d3-201a-461b-8a21-2ab3dc2c7070\",\"version\":\"1.0.0\",\"channel\":\"VOICE\",\"accountId\":\"383299343633\",\"instanceId\":\"3e6c7e35-ba34-4998-bc04-dc660c85230d\",\"languageCode\":\"en-US\",\"eventType\":\"SEGMENTS\",\"transcript\":[{\"ParticipantId\":\"CUSTOMER\",\"ParticipantRole\":\"CUSTOMER\",\"Content\":\"Bye.\",\"BeginOffsetMillis\":399340,\"EndOffsetMillis\":399745,\"Id\":\"f10ada6b-dfeb-4569-8b2c-f4e83d60efbc\",\"Sentiment\":\"NEUTRAL\",\"IssuesDetected\":[]}]},{\"contactId\":\"149edb05-7fd0-48b0-a6e9-3e7b49a0b8d7\",\"startTime\":\"2024-02-28T07:35:33.962Z\",\"transactionId\":\"e143c2c0-5a76-47e7-8b79-eee414fd7c91\",\"version\":\"1.0.0\",\"channel\":\"VOICE\",\"accountId\":\"383299343633\",\"instanceId\":\"3e6c7e35-ba34-4998-bc04-dc660c85230d\",\"languageCode\":\"en-US\",\"eventType\":\"SEGMENTS\",\"transcript\":[{\"ParticipantId\":\"CUSTOMER\",\"ParticipantRole\":\"CUSTOMER\",\"Content\":\"Bye.\",\"BeginOffsetMillis\":399340,\"EndOffsetMillis\":399745,\"Id\":\"f10ada6b-dfeb-4569-8b2c-f4e83d60efbc\",\"Sentiment\":\"NEUTRAL\",\"IssuesDetected\":[]}]},{\"contactId\":\"149edb05-7fd0-48b0-a6e9-3e7b49a0b8d7\",\"startTime\":\"2024-02-28T07:38:55.366Z\",\"transactionId\":\"d5a2f439-cb08-4413-977c-de8cf10b3f9c\",\"version\":\"1.0.0\",\"channel\":\"VOICE\",\"accountId\":\"383299343633\",\"instanceId\":\"3e6c7e35-ba34-4998-bc04-dc660c85230d\",\"languageCode\":\"en-US\",\"eventType\":\"SEGMENTS\",\"transcript\":[{\"ParticipantId\":\"CUSTOMER\",\"ParticipantRole\":\"CUSTOMER\",\"Content\":\"Hello, Mark\",\"BeginOffsetMillis\":399340,\"EndOffsetMillis\":399745,\"Id\":\"f10ada6b-dfeb-4569-8b2c-f4e83d60efbc\",\"Sentiment\":\"NEUTRAL\",\"IssuesDetected\":[]}]},{\"contactId\":\"149edb05-7fd0-48b0-a6e9-3e7b49a0b8d7\",\"startTime\":\"2024-02-28T07:41:20.979Z\",\"transactionId\":\"893fc5e8-59c3-444f-b0e7-f3d1ad5f5b66\",\"version\":\"1.0.0\",\"channel\":\"VOICE\",\"accountId\":\"383299343633\",\"instanceId\":\"3e6c7e35-ba34-4998-bc04-dc660c85230d\",\"languageCode\":\"en-US\",\"eventType\":\"SEGMENTS\",\"transcript\":[{\"ParticipantId\":\"AGENT\",\"ParticipantRole\":\"AGENT\",\"Content\":\"I am doing great\",\"BeginOffsetMillis\":399340,\"EndOffsetMillis\":399745,\"Id\":\"f10ada6b-dfeb-4569-8b2c-f4e83d60efbc\",\"Sentiment\":\"NEUTRAL\",\"IssuesDetected\":[]}]}\"\"\"\n",
    "#data = json.loads(json_str.strip())"
   ]
  },
  {
   "cell_type": "code",
   "execution_count": 43,
   "id": "fee8b2b2",
   "metadata": {},
   "outputs": [
    {
     "name": "stdout",
     "output_type": "stream",
     "text": [
      "CUSTOMER : Bye.\n",
      "CUSTOMER : Bye.\n",
      "CUSTOMER : Hello, Mark\n",
      "AGENT : I am doing great\n"
     ]
    }
   ],
   "source": [
    "json_str1 = '['+json_str\n",
    "json_str1 += ']'\n",
    "json_str2 = json_str1.strip()\n",
    "\n",
    "try:\n",
    "    # Parse the JSON string as a list of dictionaries\n",
    "    data_list = json.loads(json_str2)\n",
    "    # Iterate through each item in the list and print desired information\n",
    "    for data in data_list:\n",
    "        for transcript in data['transcript']:\n",
    "            participant_role = transcript['ParticipantRole']\n",
    "            content = transcript['Content']\n",
    "            print(f'{participant_role} : {content}')\n",
    "except json.JSONDecodeError as e:\n",
    "    print(f\"Error parsing JSON: {e}\")"
   ]
  },
  {
   "cell_type": "code",
   "execution_count": null,
   "id": "cf64e2f9",
   "metadata": {},
   "outputs": [],
   "source": []
  }
 ],
 "metadata": {
  "kernelspec": {
   "display_name": "conda_tensorflow2_p310",
   "language": "python",
   "name": "conda_tensorflow2_p310"
  },
  "language_info": {
   "codemirror_mode": {
    "name": "ipython",
    "version": 3
   },
   "file_extension": ".py",
   "mimetype": "text/x-python",
   "name": "python",
   "nbconvert_exporter": "python",
   "pygments_lexer": "ipython3",
   "version": "3.10.13"
  }
 },
 "nbformat": 4,
 "nbformat_minor": 5
}
