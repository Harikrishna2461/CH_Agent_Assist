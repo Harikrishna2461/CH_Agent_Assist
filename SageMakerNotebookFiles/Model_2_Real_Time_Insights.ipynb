{
 "cells": [
  {
   "cell_type": "code",
   "execution_count": 2,
   "id": "9ce66bd4",
   "metadata": {},
   "outputs": [],
   "source": [
    "import boto3\n",
    "import json\n",
    "import base64\n",
    "import time\n",
    "import re\n",
    "from botocore.exceptions import ClientError\n",
    "import logging\n",
    "\n",
    "bedrock_runtime = boto3.client(\n",
    "    service_name=\"bedrock-runtime\",\n",
    "    region_name=\"us-east-1\",\n",
    ")\n",
    "\n",
    "bedrock = boto3.client(\n",
    "    service_name='bedrock', \n",
    "    region_name='us-east-1'\n",
    ")\n",
    "\n",
    "brt = boto3.client(service_name='bedrock-runtime')\n",
    "\n",
    "def decoder(data):\n",
    "    decodedBytes = base64.b64decode(data)\n",
    "    decodedStr = decodedBytes.decode(\"ascii\") \n",
    "    json_str=json.loads(decodedStr)\n",
    "    return json_str\n",
    "\n",
    "##Processing data to fetch role and content\n",
    "def data_preprocessing(data):\n",
    "    #data = json_data['Records'][0][\"body\"]\n",
    "    convo = \"\"\n",
    "    content = json.loads(data[\"body\"])[\"body\"][\"transcript\"][0][\"Content\"]\n",
    "    role = json.loads(data[\"body\"])[\"body\"][\"transcript\"][0][\"ParticipantRole\"]\n",
    "    convo = convo + role + \" : \" + content\n",
    "    #parsed_data = json.loads(data)\n",
    "    #content = data#[\"body\"]#[\"transcript\"]#[0]#[\"Content\"]\n",
    "    #role = data[\"body\"][\"transcript\"][0][\"ParticipantRole\"]\n",
    "    \n",
    "    #convo = \"\"\n",
    "    #for i in range(len(transcription['transcriptions'])):\n",
    "        #convo = convo + transcription['transcriptions'][i]['ParticipantRole'] + \": \" + transcription['transcriptions'][i]['Content']\n",
    "        #convo += \"\\n\"\n",
    "    #role = transcription[\"Segments\"][0][\"Transcript\"][\"ParticipantRole\"]\n",
    "    #content = transcription[\"Segments\"][0][\"Transcript\"][\"Content\"]\n",
    "    #convo = convo + role + \" : \" + content\n",
    "    \n",
    "    return convo\n",
    "\n",
    "def data_postprocessing(data):\n",
    "    result = \"\"\n",
    "    start_index = data.find(\"{\")\n",
    "    end_char_indices = [i.start() for i in re.finditer(\"}\",data)]\n",
    "    end_index = end_char_indices[len(end_char_indices)-1]\n",
    "    result = data[start_index:end_index+1]\n",
    "    \n",
    "    return result\n",
    "\n",
    "    \n",
    "#Defining function to connect to Bedrock LLM\n",
    "def load_claude2(bedrock_runtime , prompt , temp , top_p,top_k):\n",
    "    try:\n",
    "        body = {\n",
    "            \"prompt\": prompt,\n",
    "            \"temperature\": temp,\n",
    "            \"top_p\": top_p,\n",
    "            \"top_k\":top_k,\n",
    "            \"max_tokens_to_sample\": 1000\n",
    "            }\n",
    "\n",
    "        response = bedrock_runtime.invoke_model(\n",
    "            modelId=\"anthropic.claude-v2\", body=json.dumps(body), accept=\"application/json\", contentType=\"application/json\"\n",
    "                 )\n",
    "        \n",
    "        response_body = json.loads(response[\"body\"].read())\n",
    "        completion = response_body.get(\"completion\")\n",
    "\n",
    "        return completion\n",
    "\n",
    "    except ClientError:\n",
    "        logging.error(\"Couldn't invoke Llama 2\")\n",
    "        raise\n",
    "\n",
    "#Defining LLM function for the prompt generator for entity extraction  \n",
    "\n",
    "\n",
    "insurance_statistics = '''\n",
    "{\n",
    "  \"ANTHEM INC.\": {\n",
    "    \"ALTSCRIPTS\": \"5 days\",\n",
    "    \"RECEPTRX\": \"14 days\",\n",
    "    \"GENTRY HEALTH\": \"15 days\",\n",
    "    \"ALLIANCE RX\": \"22 days\",\n",
    "    \"BIOPLUS\": \"26 days\"\n",
    "  },\n",
    "  \"BLUE CROSS/BLUE SHIELD\": {\n",
    "    \"US BIO\": \"6 days\",\n",
    "    \"RECEPTRX\": \"24 days\",\n",
    "    \"ALLIANCE RX\": \"43 days\",\n",
    "    \"KROGER SPECIALTY PHARMACY\": \"45 days\",\n",
    "    \"ACARIA\": \"45 days\"\n",
    "  },\n",
    "  \"CENTENE CORPORATION\": {\n",
    "    \"GENTRY HEALTH\": \"4 days\",\n",
    "    \"CENTERWELL\": \"5 days\",\n",
    "    \"FAIRVIEW SP\": \"5 days\",\n",
    "    \"LUMICERA\": \"16 days\",\n",
    "    \"BIOPLUS\": \"22 days\"\n",
    "  },\n",
    "  \"CIGNA\": {\n",
    "    \"AMBER\": \"13 days\",\n",
    "    \"CENTURY SPECIALTY\": \"14 days\",\n",
    "    \"ALTSCRIPTS\": \"17 days\",\n",
    "    \"KROGER SPECIALTY PHARMACY\": \"26 days\",\n",
    "    \"LUMICERA\": \"30 days\"\n",
    "  },\n",
    "  \"CVS CAREMARK RX\": {\n",
    "    \"FAIRVIEW SP\": \"6 days\",\n",
    "    \"CENTURY SPECIALTY\": \"11 days\",\n",
    "    \"ALTSCRIPTS\": \"14 days\",\n",
    "    \"AMBER\": \"17 days\",\n",
    "    \"ELIXIR\": \"28 days\"\n",
    "  },\n",
    "  \"CVS HEALTH (AETNA)\": {\n",
    "    \"CENTURY SPECIALTY\": \"11 days\",\n",
    "    \"ALTSCRIPTS\": \"12 days\",\n",
    "    \"ELIXIR\": \"16 days\",\n",
    "    \"GENTRY HEALTH\": \"17 days\",\n",
    "    \"ALLIANCE RX\": \"28 days\"\n",
    "  },\n",
    "  \"DST PHARMACY SOLUTIONS\": {\n",
    "    \"ARDON\": \"3 days\"\n",
    "  },\n",
    "  \"HUMANA INC.\": {\n",
    "    \"LUMICERA\": \"8 days\",\n",
    "    \"ALTSCRIPTS\": \"15 days\",\n",
    "    \"ALLIANCE RX\": \"19 days\",\n",
    "    \"FAIRVIEW SP\": \"20 days\",\n",
    "    \"BIOPLUS\": \"21 days\"\n",
    "  },\n",
    "  \"OPTUMRX\": {\n",
    "    \"ELIXIR\": \"17 days\",\n",
    "    \"NOBLE HEALTH SERVICES\": \"24 days\",\n",
    "    \"BIOPLUS\": \"28 days\",\n",
    "    \"ACARIA\": \"30 days\",\n",
    "    \"CENTERWELL\": \"32 days\"\n",
    "  },\n",
    "  \"RELAYHEALTH\": {\n",
    "    \"RECEPTRX\": \"4 days\"\n",
    "  },\n",
    "  \"UNITEDHEALTHCARE\": {\n",
    "    \"CENTURY SPECIALTY\": \"11 days\",\n",
    "    \"GENTRY HEALTH\": \"19 days\",\n",
    "    \"LUMICERA\": \"19 days\",\n",
    "    \"FAIRVIEW SP\": \"26 days\",\n",
    "    \"ALLIANCE RX\": \"28 days\"\n",
    "  }\n",
    "}\n",
    "'''\n",
    "\n",
    "entities = \"name of patient, status of insurance, insurance number, demographic details etc.\"\n",
    "def enrollment_prompt_generator(conversation,entities):\n",
    "    prompt_claude = \"\"\"Human: \\\" \"\"\" + conversation + \"\"\" \\\"\n",
    " \n",
    "The above conversation is an automated transcript between a call centre agent and an insurance subscriber or \n",
    "patiet. I want to extract few key entities like \\\" \"\"\" + entities + \"\"\" \\\"\". All or some information may be present in this transcript.\n",
    "Extract the entities that you are able to find from this piece of call transcript.\n",
    " \n",
    "The output would be a structured json with only the extracted fields. Just print the exact output without any extra sentences at the end or beggining. \n",
    "No need to print any extra text. Also do not generate an answer if that is not found in the transcript.\n",
    " \n",
    "Assistant:\n",
    "\"\"\"\n",
    "    return prompt_claude\n",
    "\n",
    "def insights_prompt_generator(insurance_provider,insurance_statistics):\n",
    "    prompt_claude = \"\"\"Human: \n",
    " \n",
    "You are Agent assist tracking the Patient and agent conversation and help the agent recommend meaningful insights on the \n",
    "insurance and insurance details related insights like for example suggesting which pharmacy to select based on the\n",
    "patient's Insurance provider using metrics like how soon the pharmacy dispenses the medication to the patient.The lesser the\n",
    "number of days to dispense the medication,the higher are the chances of recommendation of that pharmacy.\n",
    "\n",
    "The patients's insurance provider is  \\\" \"\"\" + insurance_provider + \"\"\" \\\" and use the following json data to provide the insights:\n",
    "\\\" \"\"\" + insurance_statistics + \"\"\" \\\".\n",
    "\n",
    "In the Json Data,the keys represent the insurance provider and the value represents the pharmacy company and the number of days\n",
    "it takes to dispense the medication to the patient.\n",
    " \n",
    "Assistant:\n",
    "\"\"\"\n",
    "    return prompt_claude\n",
    "\n",
    "# Lambda handler to intgerate with AWS\n",
    "def lambda_handler(event,context):\n",
    "    final_transcript = \"\"\n",
    "    for i in range(len(event['Records'])):\n",
    "        final_transcript += \"\\n\" + data_preprocessing(event['Records'][i])\n",
    "    prompt_enrollment = enrollment_prompt_generator(final_transcript,entities)\n",
    "    enrollment_data = load_claude2(bedrock_runtime,prompt_enrollment,0,0.9,1)\n",
    "    json_data = data_postprocessing(enrollment_data)\n",
    "    enrollment_json_object = json.loads(json_data)\n",
    "    keys = enrollment_json_object.keys()\n",
    "    for val in keys:\n",
    "        if val == \"insurance_provider\":\n",
    "            insurance_provider = enrollment_json_object[val]\n",
    "        else:\n",
    "            insurance_provider = \" \"\n",
    "    insights_prompt = insights_prompt_generator(insurance_provider,insurance_statistics)\n",
    "    insights = load_claude2(bedrock_runtime,insights_prompt,0.5,0.9,1)\n",
    "    \n",
    "    return {\"statusCode\": 200,\"body\": json.dumps(insights)}"
   ]
  },
  {
   "cell_type": "markdown",
   "id": "05a94b98",
   "metadata": {},
   "source": [
    "# Testing"
   ]
  },
  {
   "cell_type": "code",
   "execution_count": 1,
   "id": "e0ba0aac",
   "metadata": {},
   "outputs": [],
   "source": [
    "data = {\n",
    "  \"Records\": [\n",
    "    {\n",
    "      \"messageId\": \"355c3548-1f03-4c5e-b241-3c6e4bed5601\",\n",
    "      \"receiptHandle\": \"AQEBtGG/BXpQS9fewvrud7Ct+0Pm1fWqFdXUutYN2NKU5Ohukwi/rZLaaKD7mNkMv619WOI1ao9LwvhDO573DROL+wUCQQz1ejI+BaTYWKs629P7sBa8/ND4Bv3SfKPe4p+rMALYuANfO/XoeN6lfjvkNGcSWiyO5PrVyyEPPIKSIg/d/p2viccwRB3s7Q/0TwIxK3iYkSkHoUAOYdcCEQQU1Ia6srdP0D4RCtFXPh4S21F4IljNVF5DYiEFYGX78bPdTVluBqZm9xpjEYw+fOl8YrsIM0p5S9vCBQhouj5rC8Xo8dbrrUo6SAwJqmxWSckmHMda14eyA6zyomtz2xzmxCwdzUVvRMa4J9eMPB+u941W10aK7CP/PvqziaO28aDNuStE6KLOF/2VmgfK9eXF5w==\",\n",
    "      \"body\": \"{\\\"stream\\\":\\\"TRANSCRIPT\\\",\\\"streamConnectionId\\\":\\\"149edb05-7fd0-48b0-a6e9-3e7b49a0b8d7\\\",\\\"body\\\":{\\\"transactionId\\\":\\\"50b1f7fb-b502-42fa-95f2-281ed6006efe\\\",\\\"transcript\\\":[{\\\"ParticipantId\\\":\\\"CUSTOMER\\\",\\\"ParticipantRole\\\":\\\"CUSTOMER\\\",\\\"Content\\\":\\\"Sure,my insurance is with Anthem INC.\\\",\\\"BeginOffsetMillis\\\":399340,\\\"EndOffsetMillis\\\":399745,\\\"Id\\\":\\\"f10ada6b-dfeb-4569-8b2c-f4e83d60efbc\\\",\\\"Sentiment\\\":\\\"NEUTRAL\\\",\\\"IssuesDetected\\\":[]}]}}\",\n",
    "      \"attributes\": {\n",
    "        \"ApproximateReceiveCount\": \"1\",\n",
    "        \"AWSTraceHeader\": \"Root=1-65d48ed1-196e903e02d83fbd5c5a23bb;Parent=07e7ba1a0a2f4dae;Sampled=0;Lineage=8448a41f:0\",\n",
    "        \"SentTimestamp\": \"1708429009330\",\n",
    "        \"SenderId\": \"AROAVSPTL2UI67PVNI4RP:CH_Kinesis_Transcriber\",\n",
    "        \"ApproximateFirstReceiveTimestamp\": \"1708429009331\"\n",
    "      },\n",
    "      \"messageAttributes\": {},\n",
    "      \"md5OfBody\": \"3488de905e211729d102b02f70a21683\",\n",
    "      \"eventSource\": \"aws:sqs\",\n",
    "      \"eventSourceARN\": \"arn:aws:sqs:us-east-1:383299343633:ch-agent-assist-sqs\",\n",
    "      \"awsRegion\": \"us-east-1\"\n",
    "    },\n",
    "    {\n",
    "      \"messageId\": \"355c3548-1f03-4c5e-b241-3c6e4bed5601\",\n",
    "      \"receiptHandle\": \"AQEBtGG/BXpQS9fewvrud7Ct+0Pm1fWqFdXUutYN2NKU5Ohukwi/rZLaaKD7mNkMv619WOI1ao9LwvhDO573DROL+wUCQQz1ejI+BaTYWKs629P7sBa8/ND4Bv3SfKPe4p+rMALYuANfO/XoeN6lfjvkNGcSWiyO5PrVyyEPPIKSIg/d/p2viccwRB3s7Q/0TwIxK3iYkSkHoUAOYdcCEQQU1Ia6srdP0D4RCtFXPh4S21F4IljNVF5DYiEFYGX78bPdTVluBqZm9xpjEYw+fOl8YrsIM0p5S9vCBQhouj5rC8Xo8dbrrUo6SAwJqmxWSckmHMda14eyA6zyomtz2xzmxCwdzUVvRMa4J9eMPB+u941W10aK7CP/PvqziaO28aDNuStE6KLOF/2VmgfK9eXF5w==\",\n",
    "      \"body\": \"{\\\"stream\\\":\\\"TRANSCRIPT\\\",\\\"streamConnectionId\\\":\\\"149edb05-7fd0-48b0-a6e9-3e7b49a0b8d7\\\",\\\"body\\\":{\\\"transactionId\\\":\\\"50b1f7fb-b502-42fa-95f2-281ed6006efe\\\",\\\"transcript\\\":[{\\\"ParticipantId\\\":\\\"AGENT\\\",\\\"ParticipantRole\\\":\\\"AGENT\\\",\\\"Content\\\":\\\"Thank you,can you share your policy number? \\\",\\\"BeginOffsetMillis\\\":399340,\\\"EndOffsetMillis\\\":399745,\\\"Id\\\":\\\"f10ada6b-dfeb-4569-8b2c-f4e83d60efbc\\\",\\\"Sentiment\\\":\\\"NEUTRAL\\\",\\\"IssuesDetected\\\":[]}]}}\",\n",
    "      \"attributes\": {\n",
    "        \"ApproximateReceiveCount\": \"1\",\n",
    "        \"AWSTraceHeader\": \"Root=1-65d48ed1-196e903e02d83fbd5c5a23bb;Parent=07e7ba1a0a2f4dae;Sampled=0;Lineage=8448a41f:0\",\n",
    "        \"SentTimestamp\": \"1708429009330\",\n",
    "        \"SenderId\": \"AROAVSPTL2UI67PVNI4RP:CH_Kinesis_Transcriber\",\n",
    "        \"ApproximateFirstReceiveTimestamp\": \"1708429009331\"\n",
    "      },\n",
    "      \"messageAttributes\": {},\n",
    "      \"md5OfBody\": \"3488de905e211729d102b02f70a21683\",\n",
    "      \"eventSource\": \"aws:sqs\",\n",
    "      \"eventSourceARN\": \"arn:aws:sqs:us-east-1:383299343633:ch-agent-assist-sqs\",\n",
    "      \"awsRegion\": \"us-east-1\"\n",
    "    }\n",
    "  ]\n",
    "}"
   ]
  },
  {
   "cell_type": "code",
   "execution_count": 5,
   "id": "dd7bb1a3",
   "metadata": {},
   "outputs": [
    {
     "name": "stdout",
     "output_type": "stream",
     "text": [
      "\" Based on the patient's insurance provider being Anthem Inc., here are the recommended pharmacies and time to dispense medication:\\n\\nI would recommend AltScripts pharmacy since they have the fastest time to dispense medication for Anthem Inc. at 5 days. \\n\\nThe other top recommended pharmacies are:\\n\\n- ReceptRx: 14 days\\n- Gentry Health: 15 days  \\n\\nAltScripts has the fastest dispensing time compared to other pharmacies that work with Anthem Inc., so they would be my top recommendation for this patient. The quicker the medication can be dispensed, the better it is for the patient's health and treatment.\"\n"
     ]
    }
   ],
   "source": [
    "context = \" \"\n",
    "print(lambda_handler(data,context)[\"body\"])"
   ]
  },
  {
   "cell_type": "markdown",
   "id": "394872c7",
   "metadata": {},
   "source": [
    "# Further Testing"
   ]
  },
  {
   "cell_type": "code",
   "execution_count": 6,
   "id": "485a3d76",
   "metadata": {},
   "outputs": [],
   "source": [
    "def insights_prompt_generator2(insurance_provider,insurance_statistics):\n",
    "    prompt_claude = \"\"\"Human: \n",
    " \n",
    "You are Agent assist tracking the Patient and agent conversation and help the agent recommend meaningful insights on the \n",
    "insurance and insurance details related insights like for example suggesting which pharmacy to select based on the\n",
    "patient's Insurance provider using metrics like how soon the pharmacy dispenses the medication to the patient.The lesser the\n",
    "number of days to dispense the medication,the higher are the chances of recommendation of that pharmacy.\n",
    "\n",
    "The patients's insurance provider is  \\\" \"\"\" + insurance_provider + \"\"\" \\\" and use the following json data to provide the insights:\n",
    "\\\" \"\"\" + insurance_statistics + \"\"\" \\\".\n",
    "\n",
    "In the Json Data,the keys represent the insurance provider and the value represents the pharmacy company and the number of days\n",
    "it takes to dispense the medication to the patient.\n",
    "\n",
    "Provide the response in a structured and easily readable format.\n",
    " \n",
    "Assistant:\n",
    "\"\"\"\n",
    "    return prompt_claude"
   ]
  },
  {
   "cell_type": "code",
   "execution_count": 7,
   "id": "783593ad",
   "metadata": {},
   "outputs": [],
   "source": [
    "# Lambda handler to intgerate with AWS\n",
    "def lambda_handler2(event,context):\n",
    "    final_transcript = \"\"\n",
    "    for i in range(len(event['Records'])):\n",
    "        final_transcript += \"\\n\" + data_preprocessing(event['Records'][i])\n",
    "    prompt_enrollment = enrollment_prompt_generator(final_transcript,entities)\n",
    "    enrollment_data = load_claude2(bedrock_runtime,prompt_enrollment,0,0.9,1)\n",
    "    json_data = data_postprocessing(enrollment_data)\n",
    "    enrollment_json_object = json.loads(json_data)\n",
    "    keys = enrollment_json_object.keys()\n",
    "    for val in keys:\n",
    "        if val == \"insurance_provider\":\n",
    "            insurance_provider = enrollment_json_object[val]\n",
    "        else:\n",
    "            insurance_provider = \" \"\n",
    "    insights_prompt = insights_prompt_generator2(insurance_provider,insurance_statistics)\n",
    "    insights = load_claude2(bedrock_runtime,insights_prompt,0.5,0.9,1)\n",
    "    \n",
    "    return {\"statusCode\": 200,\"body\": json.dumps(insights)}\n"
   ]
  },
  {
   "cell_type": "code",
   "execution_count": 9,
   "id": "89a52e73",
   "metadata": {},
   "outputs": [
    {
     "data": {
      "text/plain": [
       "'\" Based on the patient\\'s insurance provider being Anthem Inc., here are the recommended pharmacies in order of fastest medication dispensing time:\\\\n\\\\n1. ALTSCRIPTS - 5 days\\\\n2. RECEPTRX - 14 days  \\\\n3. GENTRY HEALTH - 15 days\\\\n4. ALLIANCE RX - 22 days\\\\n5. BIOPLUS - 26 days\\\\n\\\\nI recommend choosing ALTSCRIPTS as they have the fastest medication dispensing time of 5 days for patients with Anthem Inc. insurance. This will help the patient get their medications sooner.\"'"
      ]
     },
     "execution_count": 9,
     "metadata": {},
     "output_type": "execute_result"
    }
   ],
   "source": [
    "response = lambda_handler2(data,context)[\"body\"]\n",
    "response"
   ]
  },
  {
   "cell_type": "code",
   "execution_count": 11,
   "id": "13313f6e",
   "metadata": {},
   "outputs": [
    {
     "data": {
      "text/plain": [
       "str"
      ]
     },
     "execution_count": 11,
     "metadata": {},
     "output_type": "execute_result"
    }
   ],
   "source": [
    "type(response)"
   ]
  },
  {
   "cell_type": "code",
   "execution_count": 12,
   "id": "4a8d706d",
   "metadata": {},
   "outputs": [
    {
     "data": {
      "text/plain": [
       "'\"'"
      ]
     },
     "execution_count": 12,
     "metadata": {},
     "output_type": "execute_result"
    }
   ],
   "source": [
    "response[0]"
   ]
  },
  {
   "cell_type": "code",
   "execution_count": 15,
   "id": "f1c4c501",
   "metadata": {},
   "outputs": [],
   "source": [
    "res = response.replace('\"','')"
   ]
  },
  {
   "cell_type": "code",
   "execution_count": 17,
   "id": "bf47170e",
   "metadata": {
    "scrolled": true
   },
   "outputs": [
    {
     "name": "stdout",
     "output_type": "stream",
     "text": [
      " Based on the patient's insurance provider being Anthem Inc., here are the recommended pharmacies in order of fastest medication dispensing time:\\n\\n1. ALTSCRIPTS - 5 days\\n2. RECEPTRX - 14 days  \\n3. GENTRY HEALTH - 15 days\\n4. ALLIANCE RX - 22 days\\n5. BIOPLUS - 26 days\\n\\nI recommend choosing ALTSCRIPTS as they have the fastest medication dispensing time of 5 days for patients with Anthem Inc. insurance. This will help the patient get their medications sooner.\n"
     ]
    }
   ],
   "source": [
    "print(res)"
   ]
  },
  {
   "cell_type": "code",
   "execution_count": 18,
   "id": "06d34889",
   "metadata": {},
   "outputs": [
    {
     "name": "stdout",
     "output_type": "stream",
     "text": [
      " Based on the patient's insurance provider being Anthem Inc., here are the recommended pharmacies in order of fastest medication dispensing time:\\n\\n1. ALTSCRIPTS - 5 days\\n2. RECEPTRX - 14 days  \\n3. GENTRY HEALTH - 15 days\\n4. ALLIANCE RX - 22 days\\n5. BIOPLUS - 26 days\\n\\nI recommend choosing ALTSCRIPTS as they have the fastest medication dispensing time of 5 days for patients with Anthem Inc. insurance. This will help the patient get their medications sooner.\n"
     ]
    }
   ],
   "source": [
    "res1 = re.sub(r'\\n\\d', ' ', res).replace(\"\\nspoilers\",\"\").replace(\"\\n\",\"\")\n",
    "print(res1)"
   ]
  },
  {
   "cell_type": "code",
   "execution_count": 19,
   "id": "a2b6d23b",
   "metadata": {},
   "outputs": [
    {
     "name": "stdout",
     "output_type": "stream",
     "text": [
      " Based on the patient's insurance provider being Anthem Inc., here are the recommended pharmacies in order of fastest medication dispensing time:\\n\\n1. ALTSCRIPTS - 5 days\\n2. RECEPTRX - 14 days  \\n3. GENTRY HEALTH - 15 days\\n4. ALLIANCE RX - 22 days\\n5. BIOPLUS - 26 days\\n\\nI recommend choosing ALTSCRIPTS as they have the fastest medication dispensing time of 5 days for patients with Anthem Inc. insurance. This will help the patient get their medications sooner.\n"
     ]
    }
   ],
   "source": [
    "res2 = res.rstrip('\\n')\n",
    "print(res2)"
   ]
  },
  {
   "cell_type": "code",
   "execution_count": 20,
   "id": "91949409",
   "metadata": {},
   "outputs": [
    {
     "name": "stdout",
     "output_type": "stream",
     "text": [
      " Based on the patient's insurance provider being Anthem Inc., here are the recommended pharmacies in order of fastest medication dispensing time:\\n\\n1. ALTSCRIPTS - 5 days\\n2. RECEPTRX - 14 days  \\n3. GENTRY HEALTH - 15 days\\n4. ALLIANCE RX - 22 days\\n5. BIOPLUS - 26 days\\n\\nI recommend choosing ALTSCRIPTS as they have the fastest medication dispensing time of 5 days for patients with Anthem Inc. insurance. This will help the patient get their medications sooner.\n"
     ]
    }
   ],
   "source": [
    "res3 = re.sub(r'\\n\\d', ' ', res).replace(\"\\nspoilers\",\"\").replace(\"\\n\",\"\")\n",
    "print(res3)"
   ]
  },
  {
   "cell_type": "code",
   "execution_count": 29,
   "id": "555344c9",
   "metadata": {},
   "outputs": [
    {
     "data": {
      "text/plain": [
       "'1'"
      ]
     },
     "execution_count": 29,
     "metadata": {},
     "output_type": "execute_result"
    }
   ],
   "source": [
    "res[149]"
   ]
  }
 ],
 "metadata": {
  "kernelspec": {
   "display_name": "conda_tensorflow2_p310",
   "language": "python",
   "name": "conda_tensorflow2_p310"
  },
  "language_info": {
   "codemirror_mode": {
    "name": "ipython",
    "version": 3
   },
   "file_extension": ".py",
   "mimetype": "text/x-python",
   "name": "python",
   "nbconvert_exporter": "python",
   "pygments_lexer": "ipython3",
   "version": "3.10.13"
  }
 },
 "nbformat": 4,
 "nbformat_minor": 5
}
