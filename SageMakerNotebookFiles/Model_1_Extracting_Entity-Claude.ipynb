{
 "cells": [
  {
   "cell_type": "markdown",
   "id": "5e8a46e6",
   "metadata": {},
   "source": [
    "# Lambda 1: Extracting Entities for Form Enrollment"
   ]
  },
  {
   "cell_type": "code",
   "execution_count": 33,
   "id": "27a1c18e",
   "metadata": {},
   "outputs": [
    {
     "name": "stdout",
     "output_type": "stream",
     "text": [
      "{\n",
      "  \"patient_name\": \"John Doe\",\n",
      "  \"insurance_status\": \"active\",  \n",
      "  \"appointment_date\": \"2023-02-17\" \n",
      "}\n"
     ]
    }
   ],
   "source": [
    "import boto3\n",
    "import json\n",
    "import os\n",
    "import sys\n",
    "import base64\n",
    "import time\n",
    "import tzlocal\n",
    "import re\n",
    "from botocore.exceptions import ClientError\n",
    "import logging\n",
    "\n",
    "bedrock_runtime = boto3.client(\n",
    "    service_name=\"bedrock-runtime\",\n",
    "    region_name=\"us-east-1\",\n",
    ")\n",
    "\n",
    "bedrock = boto3.client(\n",
    "    service_name='bedrock', \n",
    "    region_name='us-east-1'\n",
    ")\n",
    "\n",
    "##Loading JSON to read data\n",
    "file_path = \"Conversation_2_14_formatted.json\"\n",
    "# Open the JSON file for reading\n",
    "with open(file_path, 'r') as file:\n",
    "    # Parse the JSON file\n",
    "    data = json.load(file)\n",
    "\n",
    "##Processing data to fetch role and content\n",
    "def data_preprocessing(transcription):\n",
    "    convo = \"\"\n",
    "    for i in range(len(transcription['transcriptions'])):\n",
    "        convo = convo + transcription['transcriptions'][i]['ParticipantRole'] + \": \" + transcription['transcriptions'][i]['Content']\n",
    "        convo += \"\\n\"\n",
    "    return convo\n",
    "\n",
    "final_transcript = data_preprocessing(data)\n",
    "\n",
    "##Prompt Retreival\n",
    "def get_prompt(bucket,file,prompt_category,required_prompt):\n",
    "    s3 = boto3.client('s3') \n",
    "    response = s3.get_object(Bucket=bucket,Key=file)\n",
    "    content = response['Body'].read().decode('utf-8')\n",
    "    json_content = json.loads(content)\n",
    "    prompt = json_content[prompt_category][required_prompt]\n",
    "    \n",
    "    return prompt\n",
    "###Below is the LLM model to extract entities\n",
    "\n",
    "#Defining function to connect to Bedrock LLM\n",
    "def load_claude2(bedrock_runtime , prompt , temp , top_p,top_k):\n",
    "    try:\n",
    "        body = {\n",
    "            \"prompt\": prompt,\n",
    "            \"temperature\": temp,\n",
    "            \"top_p\": top_p,\n",
    "            \"top_k\":top_k,\n",
    "            \"max_tokens_to_sample\": 1000\n",
    "            }\n",
    "\n",
    "        response = bedrock_runtime.invoke_model(\n",
    "            modelId=\"anthropic.claude-v2\", body=json.dumps(body), accept=\"application/json\", contentType=\"application/json\"\n",
    "                 )\n",
    "        \n",
    "        response_body = json.loads(response[\"body\"].read())\n",
    "        completion = response_body.get(\"completion\")\n",
    "\n",
    "        return completion\n",
    "\n",
    "    except ClientError:\n",
    "        logging.error(\"Couldn't invoke Claude\")\n",
    "        raise\n",
    "\n",
    "#Defining prompt generator for entity extraction  -- to be removed post prompt library retreival implementation\n",
    "entities = \"name of patient, status of insurance, insurance number, demographic details\"\n",
    "def enrollment_prompt_generator(conversation,entities):\n",
    "    prompt_claude = \"\"\"Human: \\\"\"\"\" + conversation + \"\"\"\\\" \n",
    "\n",
    "    The above is a transcript between a call center agent and an insurance subscriber or patient. Identify and extract key entities such as \\\"\"\"\" + entities + \"\"\"\\\" from the transcript. Include only the information present.\n",
    "\n",
    "    Output the results as a structured JSON containing only the extracted fields.\n",
    "\n",
    "    Assistant:\n",
    "    \"\"\"\n",
    "\n",
    "    return prompt_claude\n",
    "\n",
    "bucket = 'ch-agent-assist-prompt-library-bucket'\n",
    "file_key = 'prompts_library.json' \n",
    "# Lambda handler to intgerate with AWS\n",
    "def lambda_handler1(data):\n",
    "    final_transcript = data_preprocessing(data)\n",
    "    prompt_enrollment = get_prompt(bucket,file_key,\"entity_extraction\",\"enrollment_form_claude\")#enrollment_prompt_generator(final_transcript,entities)\n",
    "    #print(prompt_enrollment)\n",
    "    enrollment_data = load_claude2(bedrock_runtime,prompt_enrollment,0,0.9,1)\n",
    "\n",
    "    pattern = re.compile(r\"```json\\n([\\s\\S]*?)\\n```\", re.MULTILINE)\n",
    "    match = pattern.search(enrollment_data)\n",
    "    if match:\n",
    "        json_content = match.group(1)\n",
    "        #print(json_content)\n",
    "    else:\n",
    "        print(\"No JSON content found.\")\n",
    "    #enrollment_json_object = json.loads(enrollment_data)\n",
    "    return json_content#{\"statusCode\": 200,\"body\": json.dumps(enrollment_json_object)}\n",
    "\n",
    "d1 = lambda_handler1(data)\n",
    "print(d1)"
   ]
  },
  {
   "cell_type": "code",
   "execution_count": 20,
   "id": "882b3e64",
   "metadata": {},
   "outputs": [
    {
     "data": {
      "text/plain": [
       "'{\\n  \"patient_name\": \"Jordan Andrew Smith\",\\n  \"patient_gender\": \"Male\",\\n  \"patient_dob\": \"March 14, 1989\", \\n  \"patient_phone\": \"555-123-4567\",\\n  \"patient_email\": \"jordan.smith@email.com\",\\n  \"insurance_provider\": \"HealthCare Plus\",\\n  \"insurance_policy_number\": \"HP123456789\",\\n  \"insurance_group_number\": \"987654\"\\n}'"
      ]
     },
     "execution_count": 20,
     "metadata": {},
     "output_type": "execute_result"
    }
   ],
   "source": [
    "d1"
   ]
  },
  {
   "cell_type": "code",
   "execution_count": 30,
   "id": "8db16a4b",
   "metadata": {},
   "outputs": [
    {
     "data": {
      "text/plain": [
       "str"
      ]
     },
     "execution_count": 30,
     "metadata": {},
     "output_type": "execute_result"
    }
   ],
   "source": [
    "bucket = 'ch-agent-assist-prompt-library-bucket'\n",
    "file_key = 'prompts_library.json' \n",
    "type(file_key)"
   ]
  },
  {
   "cell_type": "code",
   "execution_count": 31,
   "id": "fb71147a",
   "metadata": {},
   "outputs": [
    {
     "data": {
      "text/plain": [
       "{'ResponseMetadata': {'RequestId': '6PXA0FX7KZ8SSG22',\n",
       "  'HostId': 'jwR0Dl/AoHNQHgt96dmuupCD7/CQ4jSk2oIGphIXs4bJYTP1FR6+T+h5rniMDvqx4hFmL1cgPPA=',\n",
       "  'HTTPStatusCode': 200,\n",
       "  'HTTPHeaders': {'x-amz-id-2': 'jwR0Dl/AoHNQHgt96dmuupCD7/CQ4jSk2oIGphIXs4bJYTP1FR6+T+h5rniMDvqx4hFmL1cgPPA=',\n",
       "   'x-amz-request-id': '6PXA0FX7KZ8SSG22',\n",
       "   'date': 'Tue, 27 Feb 2024 15:52:08 GMT',\n",
       "   'last-modified': 'Tue, 27 Feb 2024 15:23:19 GMT',\n",
       "   'etag': '\"152252b67a5a1e96ef9800945a1437d3\"',\n",
       "   'x-amz-server-side-encryption': 'AES256',\n",
       "   'x-amz-version-id': 'EMKl8xz7z2HAsR8S0EZbSjPX.nHuXtYB',\n",
       "   'accept-ranges': 'bytes',\n",
       "   'content-type': 'application/json',\n",
       "   'server': 'AmazonS3',\n",
       "   'content-length': '2086'},\n",
       "  'RetryAttempts': 0},\n",
       " 'AcceptRanges': 'bytes',\n",
       " 'LastModified': datetime.datetime(2024, 2, 27, 15, 23, 19, tzinfo=tzutc()),\n",
       " 'ContentLength': 2086,\n",
       " 'ETag': '\"152252b67a5a1e96ef9800945a1437d3\"',\n",
       " 'VersionId': 'EMKl8xz7z2HAsR8S0EZbSjPX.nHuXtYB',\n",
       " 'ContentType': 'application/json',\n",
       " 'ServerSideEncryption': 'AES256',\n",
       " 'Metadata': {},\n",
       " 'Body': <botocore.response.StreamingBody at 0x7f10648cc220>}"
      ]
     },
     "execution_count": 31,
     "metadata": {},
     "output_type": "execute_result"
    }
   ],
   "source": [
    "s3 = boto3.client('s3') \n",
    "s3.get_object(Bucket=bucket,Key=file_key)"
   ]
  },
  {
   "cell_type": "markdown",
   "id": "2a03529a",
   "metadata": {},
   "source": [
    "# Testing"
   ]
  },
  {
   "cell_type": "code",
   "execution_count": 25,
   "id": "675d49aa",
   "metadata": {},
   "outputs": [],
   "source": [
    "import logging"
   ]
  },
  {
   "cell_type": "code",
   "execution_count": 6,
   "id": "cb2e27f9",
   "metadata": {},
   "outputs": [
    {
     "name": "stdout",
     "output_type": "stream",
     "text": [
      " {\n",
      "  \"name\": \"Mark\"\n",
      "}\n"
     ]
    }
   ],
   "source": [
    "data2 = {'stream': 'TRANSCRIPTION',\n",
    " 'contactId': 'aa621db9-934b-462c-bc7a-85f2e01c4c9f',\n",
    " 'transcriptions': [{'ParticipantId': 'CUSTOMER',\n",
    "   'ParticipantRole': 'CUSTOMER',\n",
    "   'Content': \"Hello I'm Mark\",\n",
    "   'BeginOffsetMillis': 1257,\n",
    "   'EndOffsetMillis': 9697,\n",
    "   'Id': 'fb29489e-d06b-48b1-8e0b-519f17c4a68e',\n",
    "   'Sentiment': 'NEUTRAL',\n",
    "   'IssuesDetected': []}]}\n",
    "\n",
    "d2 = lambda_handler1(data2)\n",
    "print(d2)"
   ]
  },
  {
   "cell_type": "code",
   "execution_count": 7,
   "id": "7498bb08",
   "metadata": {},
   "outputs": [
    {
     "name": "stdout",
     "output_type": "stream",
     "text": [
      " {\n",
      "  \"agent_name\": \"Jordan\"\n",
      "}\n"
     ]
    }
   ],
   "source": [
    "data3 = {'stream': 'TRANSCRIPTION',\n",
    " 'contactId': 'aa621db9-934b-462c-bc7a-85f2e01c4c9f',\n",
    " 'transcriptions': [{'ParticipantId': 'CUSTOMER',\n",
    "   'ParticipantRole': 'CUSTOMER',\n",
    "   'Content': \"Thank you, Jordan. May I ask which gender you identify with? This information helps us to tailor our care to your specific needs, but please know that providing this information is entirely optional\",\n",
    "   'BeginOffsetMillis': 1257,\n",
    "   'EndOffsetMillis': 9697,\n",
    "   'Id': 'fb29489e-d06b-48b1-8e0b-519f17c4a68e',\n",
    "   'Sentiment': 'NEUTRAL',\n",
    "   'IssuesDetected': []}]}\n",
    "\n",
    "d3 = lambda_handler1(data3)\n",
    "print(d3)"
   ]
  },
  {
   "cell_type": "code",
   "execution_count": 8,
   "id": "1ba1d400",
   "metadata": {
    "scrolled": true
   },
   "outputs": [
    {
     "name": "stdout",
     "output_type": "stream",
     "text": [
      " {\n",
      "  \"name\": null,\n",
      "  \"insurance_status\": null, \n",
      "  \"insurance_number\": null,\n",
      "  \"demographics\": null\n",
      "}\n"
     ]
    }
   ],
   "source": [
    "data4 = {'stream': 'TRANSCRIPTION',\n",
    " 'contactId': 'aa621db9-934b-462c-bc7a-85f2e01c4c9f',\n",
    " 'transcriptions': [{'ParticipantId': 'CUSTOMER',\n",
    "   'ParticipantRole': 'CUSTOMER',\n",
    "   'Content': \"Hello\",\n",
    "   'BeginOffsetMillis': 1257,\n",
    "   'EndOffsetMillis': 9697,\n",
    "   'Id': 'fb29489e-d06b-48b1-8e0b-519f17c4a68e',\n",
    "   'Sentiment': 'NEUTRAL',\n",
    "   'IssuesDetected': []}]}\n",
    "\n",
    "d4 = lambda_handler1(data4)\n",
    "print(d4)"
   ]
  },
  {
   "cell_type": "code",
   "execution_count": 1,
   "id": "076d20da",
   "metadata": {},
   "outputs": [],
   "source": [
    "data2 = {'stream': 'TRANSCRIPTION',\n",
    " 'contactId': 'aa621db9-934b-462c-bc7a-85f2e01c4c9f',\n",
    " 'transcriptions': [{'ParticipantId': 'CUSTOMER',\n",
    "   'ParticipantRole': 'CUSTOMER',\n",
    "   'Content': \"Hello I'm Mark\",\n",
    "   'BeginOffsetMillis': 1257,\n",
    "   'EndOffsetMillis': 9697,\n",
    "   'Id': 'fb29489e-d06b-48b1-8e0b-519f17c4a68e',\n",
    "   'Sentiment': 'NEUTRAL',\n",
    "   'IssuesDetected': []}]}\n",
    "\n"
   ]
  },
  {
   "cell_type": "markdown",
   "id": "b165c5e5",
   "metadata": {},
   "source": [
    "# Prompt Testing"
   ]
  },
  {
   "cell_type": "code",
   "execution_count": 3,
   "id": "f07f0751",
   "metadata": {},
   "outputs": [
    {
     "name": "stdout",
     "output_type": "stream",
     "text": [
      "Collecting anthropic\n",
      "  Downloading anthropic-0.16.0-py3-none-any.whl.metadata (16 kB)\n",
      "Requirement already satisfied: anyio<5,>=3.5.0 in /home/ec2-user/anaconda3/envs/tensorflow2_p310/lib/python3.10/site-packages (from anthropic) (4.0.0)\n",
      "Collecting distro<2,>=1.7.0 (from anthropic)\n",
      "  Downloading distro-1.9.0-py3-none-any.whl.metadata (6.8 kB)\n",
      "Collecting httpx<1,>=0.23.0 (from anthropic)\n",
      "  Downloading httpx-0.27.0-py3-none-any.whl.metadata (7.2 kB)\n",
      "Requirement already satisfied: pydantic<3,>=1.9.0 in /home/ec2-user/anaconda3/envs/tensorflow2_p310/lib/python3.10/site-packages (from anthropic) (2.6.1)\n",
      "Requirement already satisfied: sniffio in /home/ec2-user/anaconda3/envs/tensorflow2_p310/lib/python3.10/site-packages (from anthropic) (1.3.0)\n",
      "Requirement already satisfied: tokenizers>=0.13.0 in /home/ec2-user/anaconda3/envs/tensorflow2_p310/lib/python3.10/site-packages (from anthropic) (0.13.3)\n",
      "Requirement already satisfied: typing-extensions<5,>=4.7 in /home/ec2-user/anaconda3/envs/tensorflow2_p310/lib/python3.10/site-packages (from anthropic) (4.9.0)\n",
      "Requirement already satisfied: idna>=2.8 in /home/ec2-user/anaconda3/envs/tensorflow2_p310/lib/python3.10/site-packages (from anyio<5,>=3.5.0->anthropic) (3.4)\n",
      "Requirement already satisfied: exceptiongroup>=1.0.2 in /home/ec2-user/anaconda3/envs/tensorflow2_p310/lib/python3.10/site-packages (from anyio<5,>=3.5.0->anthropic) (1.1.3)\n",
      "Requirement already satisfied: certifi in /home/ec2-user/anaconda3/envs/tensorflow2_p310/lib/python3.10/site-packages (from httpx<1,>=0.23.0->anthropic) (2023.7.22)\n",
      "Collecting httpcore==1.* (from httpx<1,>=0.23.0->anthropic)\n",
      "  Downloading httpcore-1.0.4-py3-none-any.whl.metadata (20 kB)\n",
      "Collecting h11<0.15,>=0.13 (from httpcore==1.*->httpx<1,>=0.23.0->anthropic)\n",
      "  Downloading h11-0.14.0-py3-none-any.whl.metadata (8.2 kB)\n",
      "Requirement already satisfied: annotated-types>=0.4.0 in /home/ec2-user/anaconda3/envs/tensorflow2_p310/lib/python3.10/site-packages (from pydantic<3,>=1.9.0->anthropic) (0.6.0)\n",
      "Requirement already satisfied: pydantic-core==2.16.2 in /home/ec2-user/anaconda3/envs/tensorflow2_p310/lib/python3.10/site-packages (from pydantic<3,>=1.9.0->anthropic) (2.16.2)\n",
      "Downloading anthropic-0.16.0-py3-none-any.whl (846 kB)\n",
      "\u001b[2K   \u001b[90m━━━━━━━━━━━━━━━━━━━━━━━━━━━━━━━━━━━━━━━━\u001b[0m \u001b[32m846.4/846.4 kB\u001b[0m \u001b[31m39.9 MB/s\u001b[0m eta \u001b[36m0:00:00\u001b[0m\n",
      "\u001b[?25hDownloading distro-1.9.0-py3-none-any.whl (20 kB)\n",
      "Downloading httpx-0.27.0-py3-none-any.whl (75 kB)\n",
      "\u001b[2K   \u001b[90m━━━━━━━━━━━━━━━━━━━━━━━━━━━━━━━━━━━━━━━━\u001b[0m \u001b[32m75.6/75.6 kB\u001b[0m \u001b[31m7.8 MB/s\u001b[0m eta \u001b[36m0:00:00\u001b[0m\n",
      "\u001b[?25hDownloading httpcore-1.0.4-py3-none-any.whl (77 kB)\n",
      "\u001b[2K   \u001b[90m━━━━━━━━━━━━━━━━━━━━━━━━━━━━━━━━━━━━━━━━\u001b[0m \u001b[32m77.8/77.8 kB\u001b[0m \u001b[31m6.9 MB/s\u001b[0m eta \u001b[36m0:00:00\u001b[0m\n",
      "\u001b[?25hDownloading h11-0.14.0-py3-none-any.whl (58 kB)\n",
      "\u001b[2K   \u001b[90m━━━━━━━━━━━━━━━━━━━━━━━━━━━━━━━━━━━━━━━━\u001b[0m \u001b[32m58.3/58.3 kB\u001b[0m \u001b[31m4.5 MB/s\u001b[0m eta \u001b[36m0:00:00\u001b[0m\n",
      "\u001b[?25hInstalling collected packages: h11, distro, httpcore, httpx, anthropic\n",
      "Successfully installed anthropic-0.16.0 distro-1.9.0 h11-0.14.0 httpcore-1.0.4 httpx-0.27.0\n",
      "Note: you may need to restart the kernel to use updated packages.\n"
     ]
    }
   ],
   "source": [
    "pip install anthropic"
   ]
  },
  {
   "cell_type": "code",
   "execution_count": 4,
   "id": "81c55ddf",
   "metadata": {},
   "outputs": [],
   "source": [
    "import anthropic\n",
    "from anthropic import HUMAN_PROMPT, AI_PROMPT"
   ]
  },
  {
   "cell_type": "code",
   "execution_count": 60,
   "id": "e91e5910",
   "metadata": {},
   "outputs": [
    {
     "name": "stdout",
     "output_type": "stream",
     "text": [
      "\n",
      "\n",
      "Human:\n"
     ]
    }
   ],
   "source": [
    "print(HUMAN_PROMPT)"
   ]
  },
  {
   "cell_type": "code",
   "execution_count": 32,
   "id": "ce09c475",
   "metadata": {},
   "outputs": [],
   "source": [
    "data = {'stream': 'TRANSCRIPTION',\n",
    " 'contactId': 'aa621db9-934b-462c-bc7a-85f2e01c4c9f',\n",
    " 'transcriptions': [{'ParticipantId': 'CUSTOMER',\n",
    "   'ParticipantRole': 'CUSTOMER',\n",
    "   'Content': \"Hello I'm Mark\",\n",
    "   'BeginOffsetMillis': 1257,\n",
    "   'EndOffsetMillis': 9697,\n",
    "   'Id': 'fb29489e-d06b-48b1-8e0b-519f17c4a68e',\n",
    "   'Sentiment': 'NEUTRAL',\n",
    "   'IssuesDetected': []},\n",
    "   {'ParticipantId': 'AGENT',\n",
    "   'ParticipantRole': 'AGENT',\n",
    "   'Content': \"Hello,may I know who is your Insurance with?\",\n",
    "   'BeginOffsetMillis': 1257,\n",
    "   'EndOffsetMillis': 9697,\n",
    "   'Id': 'fb29489e-d06b-48b1-8e0b-519f17c4a68e',\n",
    "   'Sentiment': 'NEUTRAL',\n",
    "   'IssuesDetected': []},\n",
    "    {'ParticipantId': 'CUSTOMER',\n",
    "   'ParticipantRole': 'CUSTOMER',\n",
    "   'Content': \"Sure,it's with Anthem INC.\",\n",
    "   'BeginOffsetMillis': 1257,\n",
    "   'EndOffsetMillis': 9697,\n",
    "   'Id': 'fb29489e-d06b-48b1-8e0b-519f17c4a68e',\n",
    "   'Sentiment': 'NEUTRAL',\n",
    "   'IssuesDetected': []},\n",
    "    {'ParticipantId': 'AGENT',\n",
    "   'ParticipantRole': 'AGENT',\n",
    "   'Content': \"Hello,may I know what is your Insurance Number and your age too?\",\n",
    "   'BeginOffsetMillis': 1257,\n",
    "   'EndOffsetMillis': 9697,\n",
    "   'Id': 'fb29489e-d06b-48b1-8e0b-519f17c4a68e',\n",
    "   'Sentiment': 'NEUTRAL',\n",
    "   'IssuesDetected': []},\n",
    "   {'ParticipantId': 'CUSTOMER',\n",
    "   'ParticipantRole': 'CUSTOMER',\n",
    "   'Content': \"Sure,it's AG1248K\",\n",
    "   'BeginOffsetMillis': 1257,\n",
    "   'EndOffsetMillis': 9697,\n",
    "   'Id': 'fb29489e-d06b-48b1-8e0b-519f17c4a68e',\n",
    "   'Sentiment': 'NEUTRAL',\n",
    "   'IssuesDetected': []},\n",
    "    {'ParticipantId': 'AGENT',\n",
    "   'ParticipantRole': 'AGENT',\n",
    "   'Content': \"Thanks for contacting us,we'll get back to you shortly.\",\n",
    "   'BeginOffsetMillis': 1257,\n",
    "   'EndOffsetMillis': 9697,\n",
    "   'Id': 'fb29489e-d06b-48b1-8e0b-519f17c4a68e',\n",
    "   'Sentiment': 'NEUTRAL',\n",
    "   'IssuesDetected': []}]}"
   ]
  },
  {
   "cell_type": "code",
   "execution_count": 33,
   "id": "6fc31c05",
   "metadata": {},
   "outputs": [
    {
     "data": {
      "text/plain": [
       "{'stream': 'TRANSCRIPTION',\n",
       " 'contactId': 'aa621db9-934b-462c-bc7a-85f2e01c4c9f',\n",
       " 'transcriptions': [{'ParticipantId': 'CUSTOMER',\n",
       "   'ParticipantRole': 'CUSTOMER',\n",
       "   'Content': \"Hello I'm Mark\",\n",
       "   'BeginOffsetMillis': 1257,\n",
       "   'EndOffsetMillis': 9697,\n",
       "   'Id': 'fb29489e-d06b-48b1-8e0b-519f17c4a68e',\n",
       "   'Sentiment': 'NEUTRAL',\n",
       "   'IssuesDetected': []},\n",
       "  {'ParticipantId': 'AGENT',\n",
       "   'ParticipantRole': 'AGENT',\n",
       "   'Content': 'Hello,may I know who is your Insurance with?',\n",
       "   'BeginOffsetMillis': 1257,\n",
       "   'EndOffsetMillis': 9697,\n",
       "   'Id': 'fb29489e-d06b-48b1-8e0b-519f17c4a68e',\n",
       "   'Sentiment': 'NEUTRAL',\n",
       "   'IssuesDetected': []},\n",
       "  {'ParticipantId': 'CUSTOMER',\n",
       "   'ParticipantRole': 'CUSTOMER',\n",
       "   'Content': \"Sure,it's with Anthem INC.\",\n",
       "   'BeginOffsetMillis': 1257,\n",
       "   'EndOffsetMillis': 9697,\n",
       "   'Id': 'fb29489e-d06b-48b1-8e0b-519f17c4a68e',\n",
       "   'Sentiment': 'NEUTRAL',\n",
       "   'IssuesDetected': []},\n",
       "  {'ParticipantId': 'AGENT',\n",
       "   'ParticipantRole': 'AGENT',\n",
       "   'Content': 'Hello,may I know what is your Insurance Number and your age too?',\n",
       "   'BeginOffsetMillis': 1257,\n",
       "   'EndOffsetMillis': 9697,\n",
       "   'Id': 'fb29489e-d06b-48b1-8e0b-519f17c4a68e',\n",
       "   'Sentiment': 'NEUTRAL',\n",
       "   'IssuesDetected': []},\n",
       "  {'ParticipantId': 'CUSTOMER',\n",
       "   'ParticipantRole': 'CUSTOMER',\n",
       "   'Content': \"Sure,it's AG1248K\",\n",
       "   'BeginOffsetMillis': 1257,\n",
       "   'EndOffsetMillis': 9697,\n",
       "   'Id': 'fb29489e-d06b-48b1-8e0b-519f17c4a68e',\n",
       "   'Sentiment': 'NEUTRAL',\n",
       "   'IssuesDetected': []},\n",
       "  {'ParticipantId': 'AGENT',\n",
       "   'ParticipantRole': 'AGENT',\n",
       "   'Content': \"Thanks for contacting us,we'll get back to you shortly.\",\n",
       "   'BeginOffsetMillis': 1257,\n",
       "   'EndOffsetMillis': 9697,\n",
       "   'Id': 'fb29489e-d06b-48b1-8e0b-519f17c4a68e',\n",
       "   'Sentiment': 'NEUTRAL',\n",
       "   'IssuesDetected': []}]}"
      ]
     },
     "execution_count": 33,
     "metadata": {},
     "output_type": "execute_result"
    }
   ],
   "source": [
    "data"
   ]
  },
  {
   "cell_type": "code",
   "execution_count": 34,
   "id": "64a44fbd",
   "metadata": {},
   "outputs": [
    {
     "name": "stdout",
     "output_type": "stream",
     "text": [
      "CUSTOMER: Hello I'm Mark\n",
      "AGENT: Hello,may I know who is your Insurance with?\n",
      "CUSTOMER: Sure,it's with Anthem INC.\n",
      "AGENT: Hello,may I know what is your Insurance Number and your age too?\n",
      "CUSTOMER: Sure,it's AG1248K\n",
      "AGENT: Thanks for contacting us,we'll get back to you shortly.\n",
      "\n"
     ]
    }
   ],
   "source": [
    "print(data_preprocessing(data))"
   ]
  },
  {
   "cell_type": "code",
   "execution_count": 35,
   "id": "c342cb44",
   "metadata": {},
   "outputs": [],
   "source": [
    "example_transcript1 = \"CUSTOMER : Hello I'm Mark\"\n",
    "example_response1 = '''{\n",
    "  \"name\": \"Mark\",\n",
    "}'''"
   ]
  },
  {
   "cell_type": "code",
   "execution_count": 51,
   "id": "8af0a4c4",
   "metadata": {},
   "outputs": [],
   "source": [
    "entities = \"name of patient, status of insurance, insurance number, demographic details\"\n",
    "def enrollment_prompt_generator(conversation,entities):\n",
    "    prompt_claude = f\"\"\"{HUMAN_PROMPT} Human: {conversation}\n",
    "\n",
    "    The above is a transcript between a call center agent and an insurance subscriber or patient. Identify and extract key entities such as {entities} from the transcript. Include only the information present.\n",
    "\n",
    "    Output the results as a structured JSON containing only the extracted fields.\n",
    "    \n",
    "    Strictly Follow the rules to provide ouput in JSON format and do not provide the extra sentence 'Here are the key entities extracted from the conversation before the JSON' as part of your response.\n",
    "\n",
    "    Assistant:{AI_PROMPT}\n",
    "    \"\"\"\n",
    "\n",
    "    return prompt_claude"
   ]
  },
  {
   "cell_type": "code",
   "execution_count": 52,
   "id": "434f4a6d",
   "metadata": {
    "scrolled": true
   },
   "outputs": [
    {
     "name": "stdout",
     "output_type": "stream",
     "text": [
      "CUSTOMER: Hello I'm Mark\n",
      "AGENT: Hello,may I know who is your Insurance with?\n",
      "CUSTOMER: Sure,it's with Anthem INC.\n",
      "AGENT: Hello,may I know what is your Insurance Number and your age too?\n",
      "CUSTOMER: Sure,it's AG1248K\n",
      "AGENT: Thanks for contacting us,we'll get back to you shortly.\n",
      "\n",
      "\n",
      "\n",
      " Here are the key entities extracted from the conversation:\n",
      "\n",
      "```json\n",
      "{\n",
      "  \"name\": \"Mark\",\n",
      "  \"insurance_company\": \"Anthem INC.\",\n",
      "  \"insurance_number\": \"AG1248K\"\n",
      "}\n",
      "```\n"
     ]
    }
   ],
   "source": [
    "final_transcript = data_preprocessing(data)\n",
    "print(final_transcript)\n",
    "print(\"\\n\")\n",
    "prompt_enrollment = enrollment_prompt_generator(final_transcript,entities)\n",
    "enrollment_data = load_claude2(bedrock_runtime,prompt_enrollment,0,0.9,1)\n",
    "print(enrollment_data)"
   ]
  },
  {
   "cell_type": "code",
   "execution_count": 53,
   "id": "93b99b8c",
   "metadata": {},
   "outputs": [
    {
     "name": "stdout",
     "output_type": "stream",
     "text": [
      " Here are the key entities extracted from the conversation:\n",
      "\n",
      "```json\n",
      "{\n",
      "  \"name\": \"Mark\",\n",
      "  \"insurance_company\": \"Anthem INC.\",\n",
      "  \"insurance_number\": \"AG1248K\"\n",
      "}\n",
      "```\n"
     ]
    }
   ],
   "source": [
    "print(enrollment_data)"
   ]
  },
  {
   "cell_type": "code",
   "execution_count": 58,
   "id": "ea8e9717",
   "metadata": {},
   "outputs": [
    {
     "name": "stdout",
     "output_type": "stream",
     "text": [
      "{\n",
      "  \"name\": \"Mark\",\n",
      "  \"insurance_company\": \"Anthem INC.\",\n",
      "  \"insurance_number\": \"AG1248K\"\n",
      "}\n"
     ]
    }
   ],
   "source": [
    "import re\n",
    "import json\n",
    "\n",
    "text = \"\"\"\n",
    "\"Here are the key entities extracted from the conversation:\n",
    "\n",
    "```json\n",
    "{\n",
    "  \"name\": \"Mark\",\n",
    "  \"insurance_company\": \"Anthem INC.\",\n",
    "  \"insurance_number\": \"AG1248K\"\n",
    "}\n",
    "``` \"\n",
    "\"\"\"\n",
    "\n",
    "# Use regular expression to extract JSON\n",
    "json_pattern = r'```json(.*?)```'\n",
    "json_text = re.search(json_pattern, text, re.DOTALL).group(1)\n",
    "\n",
    "# Remove extra whitespace\n",
    "json_text = json_text.strip()\n",
    "\n",
    "# Load JSON\n",
    "json_data = json.loads(json_text)\n",
    "\n",
    "print(json.dumps(json_data, indent=2))"
   ]
  },
  {
   "cell_type": "code",
   "execution_count": 59,
   "id": "b5988657",
   "metadata": {},
   "outputs": [
    {
     "name": "stdout",
     "output_type": "stream",
     "text": [
      "{\n",
      "  \"name\": \"Mark\",\n",
      "  \"insurance_company\": \"Anthem INC.\",\n",
      "  \"insurance_number\": \"AG1248K\"\n",
      "}\n"
     ]
    }
   ],
   "source": [
    "json_pattern = r'```json(.*?)```'\n",
    "extracted_json = re.search(json_pattern, enrollment_data, re.DOTALL).group(1)\n",
    "extracted_json = extracted_json.strip()\n",
    "print(extracted_json)"
   ]
  },
  {
   "cell_type": "code",
   "execution_count": 56,
   "id": "2b45c98b",
   "metadata": {},
   "outputs": [
    {
     "name": "stdout",
     "output_type": "stream",
     "text": [
      " Here is the cleaned up input:\n",
      "\n",
      "```json\n",
      "{\n",
      "  \"name\": \"Mark\",\n",
      "  \"insurance_company\": \"Anthem INC.\",\n",
      "  \"insurance_number\": \"AG1248K\"\n",
      "}\n",
      "```\n"
     ]
    }
   ],
   "source": [
    "input1 = enrollment_data\n",
    "data_cleansing_prompt = f'''Human :{HUMAN_PROMPT} Remove all unnecessary lines like 'Here are the key entities extracted from the \n",
    "                            conversation' from the provided input : {input1}\n",
    "                            \n",
    "                            Assistant:{AI_PROMPT}\n",
    "                            '''\n",
    "cleansed_data = load_claude2(bedrock_runtime,data_cleansing_prompt,0,0.9,1)\n",
    "print(cleansed_data)"
   ]
  },
  {
   "cell_type": "code",
   "execution_count": null,
   "id": "1a59bad1",
   "metadata": {},
   "outputs": [],
   "source": [
    "d1 = {\"Patient Name\" : '',\n",
    "      \"Age\": '',\n",
    "      \"Phone Number\" : '',\n",
    "      \"Email Address\":'',\n",
    "      \"Insurance Provider\":'',\n",
    "      \"Insurance Number\":'',\n",
    "      \"Status Of Insurance\":'',\n",
    "      \"Other demographic Details\" : ''\n",
    "     }"
   ]
  },
  {
   "cell_type": "markdown",
   "id": "9cb6d683",
   "metadata": {},
   "source": [
    "# Final Code"
   ]
  },
  {
   "cell_type": "code",
   "execution_count": 74,
   "id": "3ed5c7d6",
   "metadata": {},
   "outputs": [
    {
     "name": "stdout",
     "output_type": "stream",
     "text": [
      " Here are the key entities extracted from the conversation:\n",
      "\n",
      "```json\n",
      "{\n",
      "  \"name\": \"Mark\",\n",
      "  \"insurance_company\": \"Anthem INC.\", \n",
      "  \"insurance_number\": \"AG1248K\"\n",
      "}\n",
      "```\n"
     ]
    }
   ],
   "source": [
    "# import boto3\n",
    "import json\n",
    "import os\n",
    "import sys\n",
    "import base64\n",
    "import time\n",
    "import tzlocal\n",
    "import re\n",
    "from botocore.exceptions import ClientError\n",
    "import logging\n",
    "\n",
    "bedrock_runtime = boto3.client(\n",
    "    service_name=\"bedrock-runtime\",\n",
    "    region_name=\"us-east-1\",\n",
    ")\n",
    "\n",
    "bedrock = boto3.client(\n",
    "    service_name='bedrock', \n",
    "    region_name='us-east-1'\n",
    ")\n",
    "\n",
    "##Processing data to fetch role and content\n",
    "def data_preprocessing(transcription):\n",
    "    convo = \"\"\n",
    "    for i in range(len(transcription['transcriptions'])):\n",
    "        convo = convo + transcription['transcriptions'][i]['ParticipantRole'] + \": \" + transcription['transcriptions'][i]['Content']\n",
    "        convo += \"\\n\"\n",
    "    return convo\n",
    "\n",
    "#final_transcript = data_preprocessing(data)\n",
    "\n",
    "##Prompt Retreival\n",
    "def get_prompt(bucket,file,prompt_category,required_prompt):\n",
    "    s3 = boto3.client('s3') \n",
    "    response = s3.get_object(Bucket=bucket,Key=file)\n",
    "    content = response['Body'].read().decode('utf-8')\n",
    "    json_content = json.loads(content)\n",
    "    prompt = json_content[prompt_category][required_prompt]\n",
    "    \n",
    "    return prompt\n",
    "###Below is the LLM model to extract entities\n",
    "\n",
    "#Defining function to connect to Bedrock LLM\n",
    "def load_claude2(bedrock_runtime , prompt , temp , top_p,top_k):\n",
    "    try:\n",
    "        body = {\n",
    "            \"prompt\": prompt,\n",
    "            \"temperature\": temp,\n",
    "            \"top_p\": top_p,\n",
    "            \"top_k\":top_k,\n",
    "            \"max_tokens_to_sample\": 1000\n",
    "            }\n",
    "\n",
    "        response = bedrock_runtime.invoke_model(\n",
    "            modelId=\"anthropic.claude-v2\", body=json.dumps(body), accept=\"application/json\", contentType=\"application/json\"\n",
    "                 )\n",
    "        \n",
    "        response_body = json.loads(response[\"body\"].read())\n",
    "        completion = response_body.get(\"completion\")\n",
    "\n",
    "        return completion\n",
    "\n",
    "    except ClientError:\n",
    "        logging.error(\"Couldn't invoke Claude\")\n",
    "        raise\n",
    "\n",
    "#Defining prompt generator for entity extraction  -- to be removed post prompt library retreival implementation\n",
    "entities = \"name of patient, status of insurance, insurance number, demographic details\"\n",
    "def enrollment_prompt_generator(conversation,entities):\n",
    "    prompt_claude = f\"\"\"{HUMAN_PROMPT} Human: {conversation}\n",
    "\n",
    "    The above is a transcript between a call center agent and an insurance subscriber or patient. Identify and extract key entities such as {entities} from the transcript. Include only the information present.\n",
    "\n",
    "    Output the results as a structured JSON containing only the extracted fields.\n",
    "    \n",
    "    Strictly Follow the rules to provide ouput in JSON format and do not provide the extra sentence 'Here are the key entities extracted from the conversation before the JSON' as part of your response.\n",
    "\n",
    "    Assistant:{AI_PROMPT}\n",
    "    \"\"\"\n",
    "\n",
    "    return prompt_claude\n",
    "\n",
    "bucket = 'ch-agent-assist-prompt-library-bucket'\n",
    "file_key = 'prompts_library.json' \n",
    "# Lambda handler to intgerate with AWS\n",
    "def lambda_handler1(data):\n",
    "    final_transcript = data_preprocessing(data)\n",
    "    #prompt_enrollment = get_prompt(bucket,file_key,\"entity_extraction\",\"enrollment_form_claude\")\n",
    "    prompt_enrollment = enrollment_prompt_generator(final_transcript,entities)\n",
    "    #print(prompt_enrollment)\n",
    "    enrollment_data = load_claude2(bedrock_runtime,prompt_enrollment,0,0.9,1)\n",
    "\n",
    "    pattern = re.compile(r\"```json\\n([\\s\\S]*?)\\n```\", re.MULTILINE)\n",
    "    json_content = {}\n",
    "    match = pattern.search(enrollment_data)\n",
    "    if match:\n",
    "        json_content = match.group(1)\n",
    "        #print(json_content)\n",
    "    else:\n",
    "        print(\"No JSON content found.\")\n",
    "    #enrollment_json_object = json.loads(enrollment_data)\n",
    "    return enrollment_data#json_content#{\"statusCode\": 200,\"body\": json.dumps(enrollment_json_object)}\n",
    "\n",
    "d1 = lambda_handler1(data)\n",
    "print(d1)"
   ]
  },
  {
   "cell_type": "markdown",
   "id": "643a5bf0",
   "metadata": {},
   "source": [
    "# Dynamic Array Testing"
   ]
  },
  {
   "cell_type": "code",
   "execution_count": 61,
   "id": "24ff1e8a",
   "metadata": {},
   "outputs": [],
   "source": [
    "entity_dict = {\n",
    "  \"patient_information\": {\n",
    "    \"first_name\": \"\",\n",
    "    \"middle_initial\": \"\",\n",
    "    \"last_name\": \"\",\n",
    "    \"dob\": \"\",\n",
    "    \"gender\": \"\",\n",
    "    \"preferred_language\": \"\"\n",
    "  },\n",
    "  \"address\": {\n",
    "    \"street_address\": \"\",\n",
    "    \"street_name\": \"\",\n",
    "    \"city\": \"\",\n",
    "    \"state\": \"\",\n",
    "    \"zip_code\": \"\"\n",
    "  },\n",
    "  \"contact_information\": {\n",
    "    \"email\": \"\",\n",
    "    \"phone\": \"\",\n",
    "    \"phone_type\": \"\"\n",
    "  },\n",
    "  \"medical_information\": {\n",
    "    \"prior_therapy\": \"\",\n",
    "    \"diagnosis\": {\n",
    "      \"diagnosis_name\": \"\",\n",
    "      \"diagnosis_icd_10_code\": \"\",\n",
    "      \"date_of_diagnosis\": \"\"\n",
    "    }\n",
    "  },\n",
    "  \"insurance_information\": {\n",
    "    \"primary_rx_insurance\": {\n",
    "      \"payer_name\": \"\",\n",
    "      \"insurance_id\": \"\",\n",
    "      \"plan_type\": \"\",\n",
    "      \"effective_date\": \"\",\n",
    "      \"expiry_date\": \"\"\n",
    "    },\n",
    "    \"record_type\": \"\",\n",
    "    \"pharmacy_benefit_information\": {\n",
    "      \"rx_bin\": \"\",\n",
    "      \"rx_group\": \"\",\n",
    "      \"rx_pcn\": \"\"\n",
    "    },\n",
    "    \"card_holder_information\": {\n",
    "      \"relationship_with_patient\": \"\",\n",
    "      \"name\": \"\",\n",
    "      \"dob\": \"\"\n",
    "    }\n",
    "  },\n",
    "  \"prescriber_information\": {\n",
    "    \"prescriber_name\": \"\",\n",
    "    \"specialty\": \"\",\n",
    "    \"address\": \"\",\n",
    "    \"facility_name\": \"\"\n",
    "  },\n",
    "  \"specialty_pharmacy_information\": {\n",
    "    \"sp_name\": \"\",\n",
    "    \"sp_phone\": \"\",\n",
    "    \"sp_fax\": \"\"\n",
    "  }\n",
    "}"
   ]
  },
  {
   "cell_type": "code",
   "execution_count": 65,
   "id": "055ffe82",
   "metadata": {},
   "outputs": [
    {
     "name": "stdout",
     "output_type": "stream",
     "text": [
      "[['first_name', 'middle_initial', 'last_name', 'dob', 'gender', 'preferred_language'], ['street_address', 'street_name', 'city', 'state', 'zip_code'], ['email', 'phone', 'phone_type'], ['prior_therapy', 'diagnosis'], ['primary_rx_insurance', 'record_type', 'pharmacy_benefit_information', 'card_holder_information'], ['prescriber_name', 'specialty', 'address', 'facility_name'], ['sp_name', 'sp_phone', 'sp_fax']]\n"
     ]
    }
   ],
   "source": [
    "entity_category = list(entity_dict.keys())\n",
    "sub_category = [list(entity_dict[val].keys()) for val in entity_category]\n",
    "print(sub_category)"
   ]
  },
  {
   "cell_type": "code",
   "execution_count": 67,
   "id": "2091c636",
   "metadata": {},
   "outputs": [
    {
     "name": "stdout",
     "output_type": "stream",
     "text": [
      "patient_information\n",
      "address\n",
      "contact_information\n",
      "medical_information\n",
      "insurance_information\n",
      "prescriber_information\n",
      "specialty_pharmacy_information\n"
     ]
    }
   ],
   "source": [
    "for value in entity_category:\n",
    "    print(value)"
   ]
  },
  {
   "cell_type": "code",
   "execution_count": 69,
   "id": "cf74f3c2",
   "metadata": {},
   "outputs": [
    {
     "name": "stdout",
     "output_type": "stream",
     "text": [
      "['first_name', 'middle_initial', 'last_name', 'dob', 'gender', 'preferred_language']\n",
      "['street_address', 'street_name', 'city', 'state', 'zip_code']\n",
      "['email', 'phone', 'phone_type']\n",
      "['prior_therapy', 'diagnosis']\n",
      "['primary_rx_insurance', 'record_type', 'pharmacy_benefit_information', 'card_holder_information']\n",
      "['prescriber_name', 'specialty', 'address', 'facility_name']\n",
      "['sp_name', 'sp_phone', 'sp_fax']\n"
     ]
    }
   ],
   "source": [
    "for val in sub_category:\n",
    "        print(val)"
   ]
  },
  {
   "cell_type": "code",
   "execution_count": 76,
   "id": "3f097544",
   "metadata": {},
   "outputs": [
    {
     "name": "stdout",
     "output_type": "stream",
     "text": [
      "Identify and extract the following sub category entities under the following categories from the transcript :\n",
      "patient_information : \n",
      "first_name\n",
      "middle_initial\n",
      "last_name\n",
      "dob\n",
      "gender\n",
      "preferred_language\n",
      "street_address\n",
      "street_name\n",
      "city\n",
      "state\n",
      "zip_code\n",
      "email\n",
      "phone\n",
      "phone_type\n",
      "prior_therapy\n",
      "diagnosis\n",
      "primary_rx_insurance\n",
      "record_type\n",
      "pharmacy_benefit_information\n",
      "card_holder_information\n",
      "prescriber_name\n",
      "specialty\n",
      "address\n",
      "facility_name\n",
      "sp_name\n",
      "sp_phone\n",
      "sp_fax\n",
      "\n",
      "\n",
      "address : \n",
      "first_name\n",
      "middle_initial\n",
      "last_name\n",
      "dob\n",
      "gender\n",
      "preferred_language\n",
      "street_address\n",
      "street_name\n",
      "city\n",
      "state\n",
      "zip_code\n",
      "email\n",
      "phone\n",
      "phone_type\n",
      "prior_therapy\n",
      "diagnosis\n",
      "primary_rx_insurance\n",
      "record_type\n",
      "pharmacy_benefit_information\n",
      "card_holder_information\n",
      "prescriber_name\n",
      "specialty\n",
      "address\n",
      "facility_name\n",
      "sp_name\n",
      "sp_phone\n",
      "sp_fax\n",
      "\n",
      "\n",
      "contact_information : \n",
      "first_name\n",
      "middle_initial\n",
      "last_name\n",
      "dob\n",
      "gender\n",
      "preferred_language\n",
      "street_address\n",
      "street_name\n",
      "city\n",
      "state\n",
      "zip_code\n",
      "email\n",
      "phone\n",
      "phone_type\n",
      "prior_therapy\n",
      "diagnosis\n",
      "primary_rx_insurance\n",
      "record_type\n",
      "pharmacy_benefit_information\n",
      "card_holder_information\n",
      "prescriber_name\n",
      "specialty\n",
      "address\n",
      "facility_name\n",
      "sp_name\n",
      "sp_phone\n",
      "sp_fax\n",
      "\n",
      "\n",
      "medical_information : \n",
      "first_name\n",
      "middle_initial\n",
      "last_name\n",
      "dob\n",
      "gender\n",
      "preferred_language\n",
      "street_address\n",
      "street_name\n",
      "city\n",
      "state\n",
      "zip_code\n",
      "email\n",
      "phone\n",
      "phone_type\n",
      "prior_therapy\n",
      "diagnosis\n",
      "primary_rx_insurance\n",
      "record_type\n",
      "pharmacy_benefit_information\n",
      "card_holder_information\n",
      "prescriber_name\n",
      "specialty\n",
      "address\n",
      "facility_name\n",
      "sp_name\n",
      "sp_phone\n",
      "sp_fax\n",
      "\n",
      "\n",
      "insurance_information : \n",
      "first_name\n",
      "middle_initial\n",
      "last_name\n",
      "dob\n",
      "gender\n",
      "preferred_language\n",
      "street_address\n",
      "street_name\n",
      "city\n",
      "state\n",
      "zip_code\n",
      "email\n",
      "phone\n",
      "phone_type\n",
      "prior_therapy\n",
      "diagnosis\n",
      "primary_rx_insurance\n",
      "record_type\n",
      "pharmacy_benefit_information\n",
      "card_holder_information\n",
      "prescriber_name\n",
      "specialty\n",
      "address\n",
      "facility_name\n",
      "sp_name\n",
      "sp_phone\n",
      "sp_fax\n",
      "\n",
      "\n",
      "prescriber_information : \n",
      "first_name\n",
      "middle_initial\n",
      "last_name\n",
      "dob\n",
      "gender\n",
      "preferred_language\n",
      "street_address\n",
      "street_name\n",
      "city\n",
      "state\n",
      "zip_code\n",
      "email\n",
      "phone\n",
      "phone_type\n",
      "prior_therapy\n",
      "diagnosis\n",
      "primary_rx_insurance\n",
      "record_type\n",
      "pharmacy_benefit_information\n",
      "card_holder_information\n",
      "prescriber_name\n",
      "specialty\n",
      "address\n",
      "facility_name\n",
      "sp_name\n",
      "sp_phone\n",
      "sp_fax\n",
      "\n",
      "\n",
      "specialty_pharmacy_information : \n",
      "first_name\n",
      "middle_initial\n",
      "last_name\n",
      "dob\n",
      "gender\n",
      "preferred_language\n",
      "street_address\n",
      "street_name\n",
      "city\n",
      "state\n",
      "zip_code\n",
      "email\n",
      "phone\n",
      "phone_type\n",
      "prior_therapy\n",
      "diagnosis\n",
      "primary_rx_insurance\n",
      "record_type\n",
      "pharmacy_benefit_information\n",
      "card_holder_information\n",
      "prescriber_name\n",
      "specialty\n",
      "address\n",
      "facility_name\n",
      "sp_name\n",
      "sp_phone\n",
      "sp_fax\n",
      "\n",
      "\n",
      "\n"
     ]
    }
   ],
   "source": [
    "entity_prompt = \"Identify and extract the following sub category entities under the following categories from the transcript :\" + \"\\n\"\n",
    "for key in entity_category:\n",
    "    entity_prompt += key + \" : \" +\"\\n\"\n",
    "    for value in sub_category:\n",
    "        for val in value:\n",
    "            entity_prompt += val + \"\\n\"#+ \" : \" + \"\\n\"\n",
    "    entity_prompt += \"\\n\" + \"\\n\"\n",
    "print(entity_prompt)"
   ]
  },
  {
   "cell_type": "code",
   "execution_count": 77,
   "id": "dcc83075",
   "metadata": {},
   "outputs": [],
   "source": [
    "def enrollment_prompt_generator(conversation,entity_prompt):\n",
    "    prompt_claude = f\"\"\"{HUMAN_PROMPT} Human: {conversation}\n",
    "\n",
    "    The above is a transcript between a call center agent and an insurance subscriber or patient.{entity_prompt}.Include only the information present in the provided transcript.\n",
    "\n",
    "    Output the results as a structured JSON containing only the extracted fields.\n",
    "    \n",
    "    Strictly Follow the rules to provide ouput in JSON format and do not provide the extra sentence 'Here are the key entities extracted from the conversation before the JSON' as part of your response.\n",
    "\n",
    "    Assistant:{AI_PROMPT}\n",
    "    \"\"\"\n",
    "\n",
    "    return prompt_claude"
   ]
  },
  {
   "cell_type": "code",
   "execution_count": 78,
   "id": "4b453a91",
   "metadata": {},
   "outputs": [
    {
     "name": "stdout",
     "output_type": "stream",
     "text": [
      "CUSTOMER: Hello I'm Mark\n",
      "AGENT: Hello,may I know who is your Insurance with?\n",
      "CUSTOMER: Sure,it's with Anthem INC.\n",
      "AGENT: Hello,may I know what is your Insurance Number and your age too?\n",
      "CUSTOMER: Sure,it's AG1248K\n",
      "AGENT: Thanks for contacting us,we'll get back to you shortly.\n",
      "\n",
      "\n",
      "\n",
      " Here are the key entities extracted from the conversation:\n",
      "\n",
      "{\n",
      "  \"patient_information\": {\n",
      "    \n",
      "  },\n",
      "  \"address\": {\n",
      "    \n",
      "  },  \n",
      "  \"contact_information\": {\n",
      "    \"first_name\": \"Mark\"\n",
      "  },\n",
      "  \"medical_information\": {\n",
      "    \n",
      "  },\n",
      "  \"insurance_information\": {\n",
      "    \"primary_rx_insurance\": \"Anthem INC.\"\n",
      "  },\n",
      "  \"prescriber_information\": {\n",
      "    \n",
      "  },\n",
      "  \"specialty_pharmacy_information\": {\n",
      "    \n",
      "  }\n",
      "}\n"
     ]
    }
   ],
   "source": [
    "final_transcript = data_preprocessing(data)\n",
    "print(final_transcript)\n",
    "print(\"\\n\")\n",
    "prompt_enrollment = enrollment_prompt_generator(final_transcript,entity_prompt)\n",
    "enrollment_data = load_claude2(bedrock_runtime,prompt_enrollment,0,0.9,1)\n",
    "print(enrollment_data)"
   ]
  },
  {
   "cell_type": "markdown",
   "id": "49000c0d",
   "metadata": {},
   "source": [
    "# Removing Categories and Testing"
   ]
  },
  {
   "cell_type": "code",
   "execution_count": 81,
   "id": "17e07733",
   "metadata": {},
   "outputs": [],
   "source": [
    "entity_dict_v1 = {\n",
    "   \"first_name\": \"\",\n",
    "    \"middle_initial\": \"\",\n",
    "    \"last_name\": \"\",\n",
    "    \"dob\": \"\",\n",
    "    \"gender\": \"\",\n",
    "    \"preferred_language\": \"\",\n",
    "    \"street_address\": \"\",\n",
    "    \"street_name\": \"\",\n",
    "    \"city\": \"\",\n",
    "    \"state\": \"\",\n",
    "    \"zip_code\": \"\",\n",
    "    \"email\": \"\",\n",
    "    \"phone\": \"\",\n",
    "    \"phone_type\": \"\",\n",
    "    \"prior_therapy\": \"\",\n",
    "    \"diagnosis_name\": \"\",\n",
    "    \"diagnosis_icd_10_code\": \"\",\n",
    "    \"date_of_diagnosis\": \"\",\n",
    "    \"payer_name\": \"\",\n",
    "    \"insurance_id\": \"\",\n",
    "    \"plan_type\": \"\",\n",
    "    \"effective_date\": \"\",\n",
    "    \"expiry_date\": \"\",\n",
    "    \"record_type\": \"\",\n",
    "    \"rx_bin\": \"\",\n",
    "    \"rx_group\": \"\",\n",
    "    \"rx_pcn\": \"\",\n",
    "    \"card_holder_relationship_with_the_patient\":\"\",\n",
    "    \"card_holder_name\":\"\",\n",
    "    \"card_holder_dob\":\"\",\n",
    "    \"prescriber_name\": \"\",\n",
    "    \"specialty\": \"\",\n",
    "    \"address\": \"\",\n",
    "    \"facility_name\": \"\",\n",
    "    \"sp_name\": \"\",\n",
    "    \"sp_phone\": \"\",\n",
    "    \"sp_fax\": \"\"\n",
    "  }"
   ]
  },
  {
   "cell_type": "code",
   "execution_count": 83,
   "id": "f9511686",
   "metadata": {},
   "outputs": [
    {
     "name": "stdout",
     "output_type": "stream",
     "text": [
      "first_name,middle_initial,last_name,dob,gender,preferred_language,street_address,street_name,city,state,zip_code,email,phone,phone_type,prior_therapy,diagnosis_name,diagnosis_icd_10_code,date_of_diagnosis,payer_name,insurance_id,plan_type,effective_date,expiry_date,record_type,rx_bin,rx_group,rx_pcn,card_holder_relationship_with_the_patient,card_holder_name,card_holder_dob,prescriber_name,specialty,address,facility_name,sp_name,sp_phone,sp_fax\n"
     ]
    }
   ],
   "source": [
    "entity_list = list(entity_dict_v1.keys())\n",
    "entities = \"\"\n",
    "for val in entity_list:\n",
    "    entities += val + \",\" \n",
    "entities = entities[:len(entities)-1]\n",
    "print(entities)"
   ]
  },
  {
   "cell_type": "code",
   "execution_count": 86,
   "id": "eb77e205",
   "metadata": {},
   "outputs": [],
   "source": [
    "def enrollment_prompt_generator(conversation,entities):\n",
    "    prompt_claude = f\"\"\"Human: {conversation}\n",
    "\n",
    "    The above is a transcript between a call center agent and an insurance subscriber or patient. Identify and extract key entities such as {entities} from the transcript. Include only the information present.\n",
    "\n",
    "    Output the results as a structured JSON containing only the extracted fields.\n",
    "    \n",
    "    Strictly Follow the rules to provide ouput in JSON format and do not provide the extra sentence 'Here are the key entities extracted from the conversation before the JSON' as part of your response.\n",
    "\n",
    "    Assistant:\n",
    "    \"\"\"\n",
    "\n",
    "    return prompt_claude"
   ]
  },
  {
   "cell_type": "code",
   "execution_count": 87,
   "id": "fa89c048",
   "metadata": {},
   "outputs": [
    {
     "name": "stdout",
     "output_type": "stream",
     "text": [
      "CUSTOMER: Hello I'm Mark\n",
      "AGENT: Hello,may I know who is your Insurance with?\n",
      "CUSTOMER: Sure,it's with Anthem INC.\n",
      "AGENT: Hello,may I know what is your Insurance Number and your age too?\n",
      "CUSTOMER: Sure,it's AG1248K\n",
      "AGENT: Thanks for contacting us,we'll get back to you shortly.\n",
      "\n",
      "\n",
      "\n",
      " {\n",
      "  \"first_name\": \"Mark\",\n",
      "  \"last_name\": null,\n",
      "  \"middle_initial\": null,\n",
      "  \"dob\": null,\n",
      "  \"gender\": null,\n",
      "  \"preferred_language\": null,\n",
      "  \"street_address\": null,\n",
      "  \"street_name\": null,\n",
      "  \"city\": null,\n",
      "  \"state\": null,\n",
      "  \"zip_code\": null,\n",
      "  \"email\": null,\n",
      "  \"phone\": null,\n",
      "  \"phone_type\": null,\n",
      "  \"prior_therapy\": null,\n",
      "  \"diagnosis_name\": null,\n",
      "  \"diagnosis_icd_10_code\": null,\n",
      "  \"date_of_diagnosis\": null,\n",
      "  \"payer_name\": \"Anthem INC\",\n",
      "  \"insurance_id\": \"AG1248K\",\n",
      "  \"plan_type\": null,\n",
      "  \"effective_date\": null,\n",
      "  \"expiry_date\": null,\n",
      "  \"record_type\": null,\n",
      "  \"rx_bin\": null,\n",
      "  \"rx_group\": null,\n",
      "  \"rx_pcn\": null,\n",
      "  \"card_holder_relationship_with_the_patient\": null,\n",
      "  \"card_holder_name\": null,\n",
      "  \"card_holder_dob\": null,\n",
      "  \"prescriber_name\": null,\n",
      "  \"specialty\": null,\n",
      "  \"address\": null,\n",
      "  \"facility_name\": null,\n",
      "  \"sp_name\": null,\n",
      "  \"sp_phone\": null,\n",
      "  \"sp_fax\": null\n",
      "}\n"
     ]
    }
   ],
   "source": [
    "final_transcript = data_preprocessing(data)\n",
    "print(final_transcript)\n",
    "print(\"\\n\")\n",
    "prompt_enrollment = enrollment_prompt_generator(final_transcript,entities)\n",
    "enrollment_data = load_claude2(bedrock_runtime,prompt_enrollment,0,0.9,1)\n",
    "print(enrollment_data)"
   ]
  },
  {
   "cell_type": "code",
   "execution_count": 88,
   "id": "7ac0b4cd",
   "metadata": {},
   "outputs": [
    {
     "name": "stdout",
     "output_type": "stream",
     "text": [
      " {\n",
      "  \"first_name\": \"Mark\",\n",
      "  \"last_name\": null,\n",
      "  \"middle_initial\": null,\n",
      "  \"dob\": null,\n",
      "  \"gender\": null,\n",
      "  \"preferred_language\": null,\n",
      "  \"street_address\": null,\n",
      "  \"street_name\": null,\n",
      "  \"city\": null,\n",
      "  \"state\": null,\n",
      "  \"zip_code\": null,\n",
      "  \"email\": null,\n",
      "  \"phone\": null,\n",
      "  \"phone_type\": null,\n",
      "  \"prior_therapy\": null,\n",
      "  \"diagnosis_name\": null,\n",
      "  \"diagnosis_icd_10_code\": null,\n",
      "  \"date_of_diagnosis\": null,\n",
      "  \"payer_name\": \"Anthem INC\",\n",
      "  \"insurance_id\": \"AG1248K\",\n",
      "  \"plan_type\": null,\n",
      "  \"effective_date\": null,\n",
      "  \"expiry_date\": null,\n",
      "  \"record_type\": null,\n",
      "  \"rx_bin\": null,\n",
      "  \"rx_group\": null,\n",
      "  \"rx_pcn\": null,\n",
      "  \"card_holder_relationship_with_the_patient\": null,\n",
      "  \"card_holder_name\": null,\n",
      "  \"card_holder_dob\": null,\n",
      "  \"prescriber_name\": null,\n",
      "  \"specialty\": null,\n",
      "  \"address\": null,\n",
      "  \"facility_name\": null,\n",
      "  \"sp_name\": null,\n",
      "  \"sp_phone\": null,\n",
      "  \"sp_fax\": null\n",
      "}\n"
     ]
    }
   ],
   "source": [
    "print(enrollment_data)"
   ]
  },
  {
   "cell_type": "code",
   "execution_count": 89,
   "id": "07d74bb2",
   "metadata": {},
   "outputs": [
    {
     "name": "stdout",
     "output_type": "stream",
     "text": [
      " {\n",
      "  \"first_name\": \"Mark\",\n",
      "  \"last_name\": null,\n",
      "  \"middle_initial\": null,\n",
      "  \"dob\": null,\n",
      "  \"gender\": null,\n",
      "  \"preferred_language\": null,\n",
      "  \"street_address\": null,\n",
      "  \"street_name\": null,\n",
      "  \"city\": null,\n",
      "  \"state\": null,\n",
      "  \"zip_code\": null,\n",
      "  \"email\": null,\n",
      "  \"phone\": null,\n",
      "  \"phone_type\": null,\n",
      "  \"prior_therapy\": null,\n",
      "  \"diagnosis_name\": null,\n",
      "  \"diagnosis_icd_10_code\": null,\n",
      "  \"date_of_diagnosis\": null,\n",
      "  \"payer_name\": \"Anthem INC\",\n",
      "  \"insurance_id\": \"AG1248K\",\n",
      "  \"plan_type\": null,\n",
      "  \"effective_date\": null,\n",
      "  \"expiry_date\": null,\n",
      "  \"record_type\": null,\n",
      "  \"rx_bin\": null,\n",
      "  \"rx_group\": null,\n",
      "  \"rx_pcn\": null,\n",
      "  \"card_holder_relationship_with_the_patient\": null,\n",
      "  \"card_holder_name\": null,\n",
      "  \"card_holder_dob\": null,\n",
      "  \"prescriber_name\": null,\n",
      "  \"specialty\": null,\n",
      "  \"address\": null,\n",
      "  \"facility_name\": null,\n",
      "  \"sp_name\": null,\n",
      "  \"sp_phone\": null,\n",
      "  \"sp_fax\": null\n",
      "}\n"
     ]
    }
   ],
   "source": [
    "prompt_enrollment = enrollment_prompt_generator(final_transcript,entities)\n",
    "enrollment_data = load_claude2(bedrock_runtime,prompt_enrollment,0,0.9,1)\n",
    "print(enrollment_data)"
   ]
  },
  {
   "cell_type": "code",
   "execution_count": 90,
   "id": "b8cfce82",
   "metadata": {},
   "outputs": [
    {
     "name": "stdout",
     "output_type": "stream",
     "text": [
      "{\n",
      "  \"first_name\": \"Mark\",\n",
      "  \"last_name\": null,\n",
      "  \"middle_initial\": null,\n",
      "  \"dob\": null,\n",
      "  \"gender\": null,\n",
      "  \"preferred_language\": null,\n",
      "  \"street_address\": null,\n",
      "  \"street_name\": null,\n",
      "  \"city\": null,\n",
      "  \"state\": null,\n",
      "  \"zip_code\": null,\n",
      "  \"email\": null,\n",
      "  \"phone\": null,\n",
      "  \"phone_type\": null,\n",
      "  \"prior_therapy\": null,\n",
      "  \"diagnosis_name\": null,\n",
      "  \"diagnosis_icd_10_code\": null,\n",
      "  \"date_of_diagnosis\": null,\n",
      "  \"payer_name\": \"Anthem INC\",\n",
      "  \"insurance_id\": \"AG1248K\",\n",
      "  \"plan_type\": null,\n",
      "  \"effective_date\": null,\n",
      "  \"expiry_date\": null,\n",
      "  \"record_type\": null,\n",
      "  \"rx_bin\": null,\n",
      "  \"rx_group\": null,\n",
      "  \"rx_pcn\": null,\n",
      "  \"card_holder_relationship_with_the_patient\": null,\n",
      "  \"card_holder_name\": null,\n",
      "  \"card_holder_dob\": null,\n",
      "  \"prescriber_name\": null,\n",
      "  \"specialty\": null,\n",
      "  \"address\": null,\n",
      "  \"facility_name\": null,\n",
      "  \"sp_name\": null,\n",
      "  \"sp_phone\": null,\n",
      "  \"sp_fax\": null\n",
      "}\n"
     ]
    }
   ],
   "source": [
    "#json_pattern = r'```json(.*?)```'\n",
    "#extracted_json = re.search(json_pattern, enrollment_data, re.DOTALL).group(1)\n",
    "extracted_json = enrollment_data.strip()\n",
    "print(extracted_json)"
   ]
  },
  {
   "cell_type": "code",
   "execution_count": null,
   "id": "a6ddc0ab",
   "metadata": {},
   "outputs": [],
   "source": []
  }
 ],
 "metadata": {
  "kernelspec": {
   "display_name": "conda_tensorflow2_p310",
   "language": "python",
   "name": "conda_tensorflow2_p310"
  },
  "language_info": {
   "codemirror_mode": {
    "name": "ipython",
    "version": 3
   },
   "file_extension": ".py",
   "mimetype": "text/x-python",
   "name": "python",
   "nbconvert_exporter": "python",
   "pygments_lexer": "ipython3",
   "version": "3.10.13"
  }
 },
 "nbformat": 4,
 "nbformat_minor": 5
}
