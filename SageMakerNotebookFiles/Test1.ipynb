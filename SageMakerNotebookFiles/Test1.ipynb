{
 "cells": [
  {
   "cell_type": "code",
   "execution_count": 1,
   "id": "eed23e42",
   "metadata": {},
   "outputs": [],
   "source": [
    "import boto3\n",
    "import json\n",
    "import base64\n",
    "import time\n",
    "import re\n",
    "from botocore.exceptions import ClientError\n",
    "import logging\n",
    "import time\n",
    "\n",
    "bedrock_runtime = boto3.client(\n",
    "    service_name=\"bedrock-runtime\",\n",
    "    region_name=\"us-east-1\",\n",
    ")\n",
    "\n",
    "bedrock = boto3.client(\n",
    "    service_name='bedrock', \n",
    "    region_name='us-east-1'\n",
    ")\n",
    "\n",
    "brt = boto3.client(service_name='bedrock-runtime')\n",
    "\n",
    "def decoder(data):\n",
    "    decodedBytes = base64.b64decode(data)\n",
    "    decodedStr = decodedBytes.decode(\"ascii\") \n",
    "    json_str=json.loads(decodedStr)\n",
    "    return json_str\n",
    "\n",
    "##Processing data to fetch role and content\n",
    "def data_preprocessing(data):\n",
    "    #data = json_data['Records'][0][\"body\"]\n",
    "    convo = \"\"\n",
    "    content = json.loads(data[\"body\"])[\"body\"][\"transcript\"][0][\"Content\"]\n",
    "    role = json.loads(data[\"body\"])[\"body\"][\"transcript\"][0][\"ParticipantRole\"]\n",
    "    convo = convo + role + \" : \" + content\n",
    "    #parsed_data = json.loads(data)\n",
    "    #content = data#[\"body\"]#[\"transcript\"]#[0]#[\"Content\"]\n",
    "    #role = data[\"body\"][\"transcript\"][0][\"ParticipantRole\"]\n",
    "    \n",
    "    #convo = \"\"\n",
    "    #for i in range(len(transcription['transcriptions'])):\n",
    "        #convo = convo + transcription['transcriptions'][i]['ParticipantRole'] + \": \" + transcription['transcriptions'][i]['Content']\n",
    "        #convo += \"\\n\"\n",
    "    #role = transcription[\"Segments\"][0][\"Transcript\"][\"ParticipantRole\"]\n",
    "    #content = transcription[\"Segments\"][0][\"Transcript\"][\"Content\"]\n",
    "    #convo = convo + role + \" : \" + content\n",
    "    \n",
    "    return convo\n",
    "\n",
    "def data_postprocessing(data):\n",
    "    result = \"\"\n",
    "    start_index = data.find(\"{\")\n",
    "    \n",
    "    if start_index == -1:\n",
    "        data1 = \"{\" + data\n",
    "    else:\n",
    "        data1 = data\n",
    "    \n",
    "    start_index_final = data.find(\"{\")    \n",
    "    print(f'start_index:{start_index_final}')\n",
    "    \n",
    "    end_char_indices = [i.start() for i in re.finditer(\"}\",data1)]\n",
    "    print(f'end_indices:{end_char_indices}')\n",
    "    end_index = end_char_indices[len(end_char_indices)-1]\n",
    "    print(f'end_index:{end_index}')\n",
    "    if end_index == len(data1)-1:\n",
    "        result = data1[start_index_final:]\n",
    "    else:\n",
    "        result = data1[start_index_final:end_index+1]\n",
    "    print(f'result:{result}')\n",
    "    \n",
    "    return result\n",
    "    \n",
    "#Defining function to connect to Bedrock LLM\n",
    "def load_claude2(bedrock_runtime , prompt , temp , top_p,top_k):\n",
    "    try:\n",
    "        body = {\n",
    "            \"prompt\": prompt,\n",
    "            \"temperature\": temp,\n",
    "            \"top_p\": top_p,\n",
    "            \"top_k\":top_k,\n",
    "            \"max_tokens_to_sample\": 1000\n",
    "            }\n",
    "\n",
    "        response = bedrock_runtime.invoke_model(\n",
    "            modelId=\"anthropic.claude-v2\", body=json.dumps(body), accept=\"application/json\", contentType=\"application/json\"\n",
    "                 )\n",
    "        \n",
    "        response_body = json.loads(response[\"body\"].read())\n",
    "        completion = response_body.get(\"completion\")\n",
    "\n",
    "        return completion\n",
    "\n",
    "    except ClientError:\n",
    "        logging.error(\"Couldn't invoke Llama 2\")\n",
    "        raise\n",
    "\n",
    "#Defining LLM function for the prompt generator for entity extraction  \n",
    "entities = \"name of patient, status of insurance, insurance number, demographic details etc.\"\n",
    "def enrollment_prompt_generator(conversation,entities):\n",
    "    prompt_claude = \"\"\"Human: \\\" \"\"\" + conversation + \"\"\" \\\"\n",
    " \n",
    "The above conversation is an automated transcript between a call centre agent and an insurance subscriber or \n",
    "patiet. I want to extract few key entities like \\\" \"\"\" + entities + \"\"\" \\\"\". All or some information may be present in this transcript.\n",
    "Extract the entities that you are able to find from this piece of call transcript.\n",
    " \n",
    "The output would be a structured json with only the extracted fields. Just print the exact output without any extra sentences at the end or beggining. \n",
    "No need to print any extra text. Also do not generate an answer if that is not found in the transcript.\n",
    " \n",
    "Assistant:\n",
    "\"\"\"\n",
    "    return prompt_claude\n",
    "\n",
    "def SQS_Publisher(json_data):\n",
    "    try:\n",
    "        sqs = boto3.client('sqs',region_name='us-east-1')\n",
    "        # Define the SQS queue URL\n",
    "        queue_url = 'https://sqs.us-east-1.amazonaws.com/383299343633/ch-agent-assist-sqs'\n",
    "        response = sqs.send_message(QueueUrl= queue_url,MessageBody=json.dumps(json_data) )\n",
    "    except Exception as e:\n",
    "        print(e)\n",
    "        \n",
    "def SQS_data_postprocessing(event,json_data):\n",
    "    json_response = {\n",
    "            \"stream\": \"FORM_DATA\",\n",
    "            \"streamConnectionId\": json.loads(event[\"Records\"][0]['body'])[\"streamConnectionId\"],\n",
    "             \"body\": {\n",
    "                 \"transactionId\": \"f830e890-3ff2-4fdc-a08e-dd9b78a2dc28\",\n",
    "                  \"contactId\": json.loads(event[\"Records\"][0]['body'])[\"streamConnectionId\"],\n",
    "            \"form_data\": json_data,\n",
    "                     }  \n",
    "            }\n",
    "    return json_response        \n",
    "    \n",
    "# Lambda handler to intgerate with AWS\n",
    "def lambda_handler(event,context):\n",
    "    start_time = time.time()\n",
    "    final_transcript = \"\"\n",
    "    for i in range(len(event[\"Records\"])):\n",
    "        final_transcript += \"\\n\" + data_preprocessing(event[\"Records\"][i])\n",
    "        \n",
    "    end_time1 = time.time()    # Record the end time\n",
    "\n",
    "    # Calculate the elapsed time and log it\n",
    "    elapsed_time1 = end_time1 - start_time\n",
    "    print(f\"Elapsed Time after data_preprocessing: {elapsed_time1} seconds\")\n",
    "    \n",
    "    prompt_enrollment = enrollment_prompt_generator(final_transcript,entities)\n",
    "    end_time2 = time.time()\n",
    "    elapsed_time2 = end_time2 - end_time1\n",
    "    print(f\"Elapsed Time after prompt generation: {elapsed_time2} seconds\")\n",
    "    \n",
    "    enrollment_data = load_claude2(bedrock_runtime,prompt_enrollment,0,0.9,1)\n",
    "    end_time3 = time.time()\n",
    "    elapsed_time3 = end_time3 - end_time2\n",
    "    print(f\"Elapsed Time after model calling: {elapsed_time3} seconds\")\n",
    "    \n",
    "    json_data = data_postprocessing(enrollment_data)\n",
    "    end_time4 = time.time()\n",
    "    elapsed_time4 = end_time4 - end_time3\n",
    "    print(f\"Elapsed Time after model output postprocessing: {elapsed_time4} seconds\")\n",
    "    \n",
    "    enrollment_json_object = json.loads(json_data)\n",
    "    end_time5 = time.time()\n",
    "    elapsed_time5= end_time5 - end_time4\n",
    "    print(f\"Elapsed Time after converting output data to json: {elapsed_time5} seconds\")\n",
    "    \n",
    "    #print(event[\"Records\"][0]['body'])\n",
    "    #print(json.loads(event[\"Records\"][0]['body'])[\"streamConnectionId\"])\n",
    "    sqs_data = SQS_data_postprocessing(event,enrollment_json_object)\n",
    "    end_time6 = time.time()\n",
    "    elapsed_time6 = end_time6 - end_time5\n",
    "    print(f\"Elapsed Time after sqs data postprocessing: {elapsed_time6} seconds\")\n",
    "    \n",
    "    SQS_Publisher(sqs_data)\n",
    "    end_time7 = time.time()\n",
    "    elapsed_time7 = end_time7 - end_time6\n",
    "    print(f\"Elapsed Time after sending data to SQS: {elapsed_time7} seconds\")\n",
    "    return {\"statusCode\": 200,\"body\": \"Data Sent to SQS Sucessfully\"}"
   ]
  },
  {
   "cell_type": "code",
   "execution_count": 2,
   "id": "b6237058",
   "metadata": {},
   "outputs": [],
   "source": [
    "data = {\n",
    "      \"Records\": [\n",
    "    {\n",
    "      \"messageId\": \"355c3548-1f03-4c5e-b241-3c6e4bed5601\",\n",
    "      \"receiptHandle\": \"AQEBtGG/BXpQS9fewvrud7Ct+0Pm1fWqFdXUutYN2NKU5Ohukwi/rZLaaKD7mNkMv619WOI1ao9LwvhDO573DROL+wUCQQz1ejI+BaTYWKs629P7sBa8/ND4Bv3SfKPe4p+rMALYuANfO/XoeN6lfjvkNGcSWiyO5PrVyyEPPIKSIg/d/p2viccwRB3s7Q/0TwIxK3iYkSkHoUAOYdcCEQQU1Ia6srdP0D4RCtFXPh4S21F4IljNVF5DYiEFYGX78bPdTVluBqZm9xpjEYw+fOl8YrsIM0p5S9vCBQhouj5rC8Xo8dbrrUo6SAwJqmxWSckmHMda14eyA6zyomtz2xzmxCwdzUVvRMa4J9eMPB+u941W10aK7CP/PvqziaO28aDNuStE6KLOF/2VmgfK9eXF5w==\",\n",
    "      \"body\": \"{\\\"stream\\\":\\\"TRANSCRIPT\\\",\\\"streamConnectionId\\\":\\\"149edb05-7fd0-48b0-a6e9-3e7b49a0b8d7\\\",\\\"body\\\":{\\\"transactionId\\\":\\\"50b1f7fb-b502-42fa-95f2-281ed6006efe\\\",\\\"transcript\\\":[{\\\"ParticipantId\\\":\\\"CUSTOMER\\\",\\\"ParticipantRole\\\":\\\"CUSTOMER\\\",\\\"Content\\\":\\\"Sure,my insurance is with Anthem INC.\\\",\\\"BeginOffsetMillis\\\":399340,\\\"EndOffsetMillis\\\":399745,\\\"Id\\\":\\\"f10ada6b-dfeb-4569-8b2c-f4e83d60efbc\\\",\\\"Sentiment\\\":\\\"NEUTRAL\\\",\\\"IssuesDetected\\\":[]}]}}\",\n",
    "      \"attributes\": {\n",
    "        \"ApproximateReceiveCount\": \"1\",\n",
    "        \"AWSTraceHeader\": \"Root=1-65d48ed1-196e903e02d83fbd5c5a23bb;Parent=07e7ba1a0a2f4dae;Sampled=0;Lineage=8448a41f:0\",\n",
    "        \"SentTimestamp\": \"1708429009330\",\n",
    "        \"SenderId\": \"AROAVSPTL2UI67PVNI4RP:CH_Kinesis_Transcriber\",\n",
    "        \"ApproximateFirstReceiveTimestamp\": \"1708429009331\"\n",
    "      },\n",
    "      \"messageAttributes\": {},\n",
    "      \"md5OfBody\": \"3488de905e211729d102b02f70a21683\",\n",
    "      \"eventSource\": \"aws:sqs\",\n",
    "      \"eventSourceARN\": \"arn:aws:sqs:us-east-1:383299343633:ch-agent-assist-sqs\",\n",
    "      \"awsRegion\": \"us-east-1\"\n",
    "    },\n",
    "    {\n",
    "      \"messageId\": \"355c3548-1f03-4c5e-b241-3c6e4bed5601\",\n",
    "      \"receiptHandle\": \"AQEBtGG/BXpQS9fewvrud7Ct+0Pm1fWqFdXUutYN2NKU5Ohukwi/rZLaaKD7mNkMv619WOI1ao9LwvhDO573DROL+wUCQQz1ejI+BaTYWKs629P7sBa8/ND4Bv3SfKPe4p+rMALYuANfO/XoeN6lfjvkNGcSWiyO5PrVyyEPPIKSIg/d/p2viccwRB3s7Q/0TwIxK3iYkSkHoUAOYdcCEQQU1Ia6srdP0D4RCtFXPh4S21F4IljNVF5DYiEFYGX78bPdTVluBqZm9xpjEYw+fOl8YrsIM0p5S9vCBQhouj5rC8Xo8dbrrUo6SAwJqmxWSckmHMda14eyA6zyomtz2xzmxCwdzUVvRMa4J9eMPB+u941W10aK7CP/PvqziaO28aDNuStE6KLOF/2VmgfK9eXF5w==\",\n",
    "      \"body\": \"{\\\"stream\\\":\\\"TRANSCRIPT\\\",\\\"streamConnectionId\\\":\\\"149edb05-7fd0-48b0-a6e9-3e7b49a0b8d7\\\",\\\"body\\\":{\\\"transactionId\\\":\\\"50b1f7fb-b502-42fa-95f2-281ed6006efe\\\",\\\"transcript\\\":[{\\\"ParticipantId\\\":\\\"AGENT\\\",\\\"ParticipantRole\\\":\\\"AGENT\\\",\\\"Content\\\":\\\"Thank you,can you share your policy number? \\\",\\\"BeginOffsetMillis\\\":399340,\\\"EndOffsetMillis\\\":399745,\\\"Id\\\":\\\"f10ada6b-dfeb-4569-8b2c-f4e83d60efbc\\\",\\\"Sentiment\\\":\\\"NEUTRAL\\\",\\\"IssuesDetected\\\":[]}]}}\",\n",
    "      \"attributes\": {\n",
    "        \"ApproximateReceiveCount\": \"1\",\n",
    "        \"AWSTraceHeader\": \"Root=1-65d48ed1-196e903e02d83fbd5c5a23bb;Parent=07e7ba1a0a2f4dae;Sampled=0;Lineage=8448a41f:0\",\n",
    "        \"SentTimestamp\": \"1708429009330\",\n",
    "        \"SenderId\": \"AROAVSPTL2UI67PVNI4RP:CH_Kinesis_Transcriber\",\n",
    "        \"ApproximateFirstReceiveTimestamp\": \"1708429009331\"\n",
    "      },\n",
    "      \"messageAttributes\": {},\n",
    "      \"md5OfBody\": \"3488de905e211729d102b02f70a21683\",\n",
    "      \"eventSource\": \"aws:sqs\",\n",
    "      \"eventSourceARN\": \"arn:aws:sqs:us-east-1:383299343633:ch-agent-assist-sqs\",\n",
    "      \"awsRegion\": \"us-east-1\"\n",
    "    }\n",
    "  ]\n",
    "}"
   ]
  },
  {
   "cell_type": "markdown",
   "id": "a17ded6c",
   "metadata": {},
   "source": [
    "# Try 1"
   ]
  },
  {
   "cell_type": "code",
   "execution_count": 3,
   "id": "347711ee",
   "metadata": {},
   "outputs": [
    {
     "name": "stdout",
     "output_type": "stream",
     "text": [
      "Elapsed Time after data_preprocessing: 4.029273986816406e-05 seconds\n",
      "Elapsed Time after prompt generation: 8.96453857421875e-05 seconds\n",
      "Elapsed Time after model calling: 13.805869340896606 seconds\n",
      "start_index:1\n",
      "end_indices:[41]\n",
      "end_index:41\n",
      "result:{\n",
      "  \"insurance_provider\": \"Anthem INC.\"\n",
      "}\n",
      "Elapsed Time after model output postprocessing: 0.00023055076599121094 seconds\n",
      "Elapsed Time after converting output data to json: 1.5974044799804688e-05 seconds\n",
      "Elapsed Time after sqs data postprocessing: 2.9087066650390625e-05 seconds\n",
      "An error occurred (AccessDenied) when calling the SendMessage operation: User: arn:aws:sts::383299343633:assumed-role/AmazonSageMaker-ExecutionRole-20240213T173792/SageMaker is not authorized to perform: sqs:sendmessage on resource: arn:aws:sqs:us-east-1:383299343633:ch-agent-assist-sqs because no identity-based policy allows the sqs:sendmessage action\n",
      "Elapsed Time after sending data to SQS: 0.06397867202758789 seconds\n"
     ]
    },
    {
     "data": {
      "text/plain": [
       "{'statusCode': 200, 'body': 'Data Sent to SQS Sucessfully'}"
      ]
     },
     "execution_count": 3,
     "metadata": {},
     "output_type": "execute_result"
    }
   ],
   "source": [
    "lambda_handler(data,'') #26th Feb"
   ]
  },
  {
   "cell_type": "markdown",
   "id": "3a01b5b4",
   "metadata": {},
   "source": [
    "# Try 2 "
   ]
  },
  {
   "cell_type": "code",
   "execution_count": 4,
   "id": "e5422c5a",
   "metadata": {},
   "outputs": [
    {
     "name": "stdout",
     "output_type": "stream",
     "text": [
      "Elapsed Time after data_preprocessing: 4.291534423828125e-05 seconds\n",
      "Elapsed Time after prompt generation: 9.870529174804688e-05 seconds\n",
      "Elapsed Time after model calling: 1.0602726936340332 seconds\n",
      "start_index:1\n",
      "end_indices:[41]\n",
      "end_index:41\n",
      "result:{\n",
      "  \"insurance_provider\": \"Anthem INC.\"\n",
      "}\n",
      "Elapsed Time after model output postprocessing: 0.00014829635620117188 seconds\n",
      "Elapsed Time after converting output data to json: 1.7881393432617188e-05 seconds\n",
      "Elapsed Time after sqs data postprocessing: 2.9802322387695312e-05 seconds\n",
      "An error occurred (AccessDenied) when calling the SendMessage operation: User: arn:aws:sts::383299343633:assumed-role/AmazonSageMaker-ExecutionRole-20240213T173792/SageMaker is not authorized to perform: sqs:sendmessage on resource: arn:aws:sqs:us-east-1:383299343633:ch-agent-assist-sqs because no identity-based policy allows the sqs:sendmessage action\n",
      "Elapsed Time after sending data to SQS: 0.07726097106933594 seconds\n"
     ]
    },
    {
     "data": {
      "text/plain": [
       "{'statusCode': 200, 'body': 'Data Sent to SQS Sucessfully'}"
      ]
     },
     "execution_count": 4,
     "metadata": {},
     "output_type": "execute_result"
    }
   ],
   "source": [
    "lambda_handler(data,'') #10.30 --> 28th Feb"
   ]
  },
  {
   "cell_type": "markdown",
   "id": "07940ded",
   "metadata": {},
   "source": [
    "# Try 3"
   ]
  },
  {
   "cell_type": "code",
   "execution_count": 5,
   "id": "4e9fb204",
   "metadata": {},
   "outputs": [
    {
     "name": "stdout",
     "output_type": "stream",
     "text": [
      "Elapsed Time after data_preprocessing: 4.0531158447265625e-05 seconds\n",
      "Elapsed Time after prompt generation: 5.91278076171875e-05 seconds\n",
      "Elapsed Time after model calling: 0.811582088470459 seconds\n",
      "start_index:1\n",
      "end_indices:[41]\n",
      "end_index:41\n",
      "result:{\n",
      "  \"insurance_provider\": \"Anthem INC.\"\n",
      "}\n",
      "Elapsed Time after model output postprocessing: 0.00012373924255371094 seconds\n",
      "Elapsed Time after converting output data to json: 1.5735626220703125e-05 seconds\n",
      "Elapsed Time after sqs data postprocessing: 3.743171691894531e-05 seconds\n",
      "An error occurred (AccessDenied) when calling the SendMessage operation: User: arn:aws:sts::383299343633:assumed-role/AmazonSageMaker-ExecutionRole-20240213T173792/SageMaker is not authorized to perform: sqs:sendmessage on resource: arn:aws:sqs:us-east-1:383299343633:ch-agent-assist-sqs because no identity-based policy allows the sqs:sendmessage action\n",
      "Elapsed Time after sending data to SQS: 0.06293654441833496 seconds\n"
     ]
    },
    {
     "data": {
      "text/plain": [
       "{'statusCode': 200, 'body': 'Data Sent to SQS Sucessfully'}"
      ]
     },
     "execution_count": 5,
     "metadata": {},
     "output_type": "execute_result"
    }
   ],
   "source": [
    "lambda_handler(data,'')"
   ]
  },
  {
   "cell_type": "markdown",
   "id": "8643ab18",
   "metadata": {},
   "source": [
    "# Try 4"
   ]
  },
  {
   "cell_type": "code",
   "execution_count": 6,
   "id": "70e2d17d",
   "metadata": {},
   "outputs": [
    {
     "name": "stdout",
     "output_type": "stream",
     "text": [
      "Elapsed Time after data_preprocessing: 4.792213439941406e-05 seconds\n",
      "Elapsed Time after prompt generation: 7.700920104980469e-05 seconds\n",
      "Elapsed Time after model calling: 3.4205403327941895 seconds\n",
      "start_index:1\n",
      "end_indices:[41]\n",
      "end_index:41\n",
      "result:{\n",
      "  \"insurance_provider\": \"Anthem INC.\"\n",
      "}\n",
      "Elapsed Time after model output postprocessing: 0.00012087821960449219 seconds\n",
      "Elapsed Time after converting output data to json: 1.8358230590820312e-05 seconds\n",
      "Elapsed Time after sqs data postprocessing: 2.9325485229492188e-05 seconds\n",
      "An error occurred (AccessDenied) when calling the SendMessage operation: User: arn:aws:sts::383299343633:assumed-role/AmazonSageMaker-ExecutionRole-20240213T173792/SageMaker is not authorized to perform: sqs:sendmessage on resource: arn:aws:sqs:us-east-1:383299343633:ch-agent-assist-sqs because no identity-based policy allows the sqs:sendmessage action\n",
      "Elapsed Time after sending data to SQS: 0.1222991943359375 seconds\n"
     ]
    },
    {
     "data": {
      "text/plain": [
       "{'statusCode': 200, 'body': 'Data Sent to SQS Sucessfully'}"
      ]
     },
     "execution_count": 6,
     "metadata": {},
     "output_type": "execute_result"
    }
   ],
   "source": [
    "lambda_handler(data,'')"
   ]
  },
  {
   "cell_type": "markdown",
   "id": "ff0d30ed",
   "metadata": {},
   "source": [
    "# Try 5"
   ]
  },
  {
   "cell_type": "code",
   "execution_count": 7,
   "id": "525c122c",
   "metadata": {},
   "outputs": [
    {
     "name": "stdout",
     "output_type": "stream",
     "text": [
      "Elapsed Time after data_preprocessing: 4.291534423828125e-05 seconds\n",
      "Elapsed Time after prompt generation: 5.745887756347656e-05 seconds\n",
      "Elapsed Time after model calling: 6.52532696723938 seconds\n",
      "start_index:1\n",
      "end_indices:[41]\n",
      "end_index:41\n",
      "result:{\n",
      "  \"insurance_provider\": \"Anthem INC.\"\n",
      "}\n",
      "Elapsed Time after model output postprocessing: 0.000133514404296875 seconds\n",
      "Elapsed Time after converting output data to json: 2.0265579223632812e-05 seconds\n",
      "Elapsed Time after sqs data postprocessing: 3.170967102050781e-05 seconds\n",
      "An error occurred (AccessDenied) when calling the SendMessage operation: User: arn:aws:sts::383299343633:assumed-role/AmazonSageMaker-ExecutionRole-20240213T173792/SageMaker is not authorized to perform: sqs:sendmessage on resource: arn:aws:sqs:us-east-1:383299343633:ch-agent-assist-sqs because no identity-based policy allows the sqs:sendmessage action\n",
      "Elapsed Time after sending data to SQS: 0.055951595306396484 seconds\n"
     ]
    },
    {
     "data": {
      "text/plain": [
       "{'statusCode': 200, 'body': 'Data Sent to SQS Sucessfully'}"
      ]
     },
     "execution_count": 7,
     "metadata": {},
     "output_type": "execute_result"
    }
   ],
   "source": [
    "lambda_handler(data,'')"
   ]
  },
  {
   "cell_type": "code",
   "execution_count": 8,
   "id": "70a49beb",
   "metadata": {},
   "outputs": [
    {
     "name": "stdout",
     "output_type": "stream",
     "text": [
      "Elapsed Time after data_preprocessing: 4.1961669921875e-05 seconds\n",
      "Elapsed Time after prompt generation: 5.936622619628906e-05 seconds\n",
      "Elapsed Time after model calling: 1.9055275917053223 seconds\n",
      "start_index:1\n",
      "end_indices:[41]\n",
      "end_index:41\n",
      "result:{\n",
      "  \"insurance_provider\": \"Anthem INC.\"\n",
      "}\n",
      "Elapsed Time after model output postprocessing: 0.00011992454528808594 seconds\n",
      "Elapsed Time after converting output data to json: 1.33514404296875e-05 seconds\n",
      "Elapsed Time after sqs data postprocessing: 3.0517578125e-05 seconds\n",
      "An error occurred (AccessDenied) when calling the SendMessage operation: User: arn:aws:sts::383299343633:assumed-role/AmazonSageMaker-ExecutionRole-20240213T173792/SageMaker is not authorized to perform: sqs:sendmessage on resource: arn:aws:sqs:us-east-1:383299343633:ch-agent-assist-sqs because no identity-based policy allows the sqs:sendmessage action\n",
      "Elapsed Time after sending data to SQS: 0.07446050643920898 seconds\n"
     ]
    },
    {
     "data": {
      "text/plain": [
       "{'statusCode': 200, 'body': 'Data Sent to SQS Sucessfully'}"
      ]
     },
     "execution_count": 8,
     "metadata": {},
     "output_type": "execute_result"
    }
   ],
   "source": [
    "lambda_handler(data,'')"
   ]
  }
 ],
 "metadata": {
  "kernelspec": {
   "display_name": "conda_tensorflow2_p310",
   "language": "python",
   "name": "conda_tensorflow2_p310"
  },
  "language_info": {
   "codemirror_mode": {
    "name": "ipython",
    "version": 3
   },
   "file_extension": ".py",
   "mimetype": "text/x-python",
   "name": "python",
   "nbconvert_exporter": "python",
   "pygments_lexer": "ipython3",
   "version": "3.10.13"
  }
 },
 "nbformat": 4,
 "nbformat_minor": 5
}
