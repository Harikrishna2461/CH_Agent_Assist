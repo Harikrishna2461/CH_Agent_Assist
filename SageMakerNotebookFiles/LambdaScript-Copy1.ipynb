{
 "cells": [
  {
   "cell_type": "code",
   "execution_count": 1,
   "id": "f7bc0312",
   "metadata": {},
   "outputs": [],
   "source": [
    "import os\n",
    "import json\n",
    "from insights_prompt_library import *\n",
    "import inspect\n",
    "import boto3"
   ]
  },
  {
   "cell_type": "code",
   "execution_count": 2,
   "id": "8246f6be",
   "metadata": {},
   "outputs": [],
   "source": [
    "bedrock_agent_runtime_client = boto3.client(\n",
    "    service_name=\"bedrock-agent-runtime\",\n",
    "    region_name= os.environ.get(\"Region\")\n",
    ")\n"
   ]
  },
  {
   "cell_type": "code",
   "execution_count": 3,
   "id": "12df6966",
   "metadata": {},
   "outputs": [],
   "source": [
    "with open(\"prompts_config.json\") as file:\n",
    "    config = json.load(file)"
   ]
  },
  {
   "cell_type": "code",
   "execution_count": 23,
   "id": "002e294c",
   "metadata": {},
   "outputs": [
    {
     "name": "stdout",
     "output_type": "stream",
     "text": [
      "{'insurance_type': 'Commercial', 'insurance_provider': 'Humana'}\n"
     ]
    }
   ],
   "source": [
    "value_to_find = {'insurance_type' : 'Commercial', 'insurance_provider': 'Humana'}\n",
    "print(value_to_find)"
   ]
  },
  {
   "cell_type": "code",
   "execution_count": 32,
   "id": "4275e60a",
   "metadata": {},
   "outputs": [],
   "source": [
    "def get_prompts(value_to_find):\n",
    "    retrieved_prompts_list = {}\n",
    "    input_keys = set(value_to_find.keys())\n",
    "    matching_keys = [key for key, value in config.items() if input_keys.issubset(set(value['params']))]\n",
    "    print(matching_keys)\n",
    "    for key in matching_keys:\n",
    "        raw_prompt = globals()[key]\n",
    "        print(raw_prompt)\n",
    "        #Use a subset of value_to_find containing only relevant keys\n",
    "        relevant_values = {k: v for k, v in value_to_find.items()  if k in config[key][\"params\"]}\n",
    "        filled_prompt = raw_prompt.format(**relevant_values)\n",
    "        retrieved_prompts_list[key] = filled_prompt\n",
    "    return retrieved_prompts_list"
   ]
  },
  {
   "cell_type": "code",
   "execution_count": 31,
   "id": "74993ca8",
   "metadata": {},
   "outputs": [
    {
     "name": "stdout",
     "output_type": "stream",
     "text": [
      "['insurance_type_and_provider_prompt_generator', 'insurance_type_provider_pharmacy_ttf_prompt_generator', 'insurance_type_provider_pharmacy_prompt_generator']\n",
      "Human:\n",
      "\n",
      "    You are Agent assist tracking the Patient and agent conversation and help the agent by generating an insight based on the patient's data for insurance type \"{insurance_type}\" and insurance provider\n",
      "    \"{insurance_provider}\" \n",
      "    Provide all the details including details around PA\n",
      "\n",
      "    Note: Only consider the cases when the patient is with Hub.\n",
      "    \n",
      "    Assistant:\n",
      "    \n",
      "Human:\n",
      "\n",
      "    You are Agent assist helping the agent to recommend a better specialty pharmacy with the lower time to fill days.\n",
      "    For a hub patient with insurance_type as  \"{insurance_type}\" and insurance provider as \"{insurance_provider}\" \n",
      "    Recommend the specialty pharmacies with theirTime to Fill days and compare the time to fill days with the patient's specialty pharmacy \"{pharmacy_name}\"\n",
      "    \n",
      "    Note: Only consider the cases when the patient is with Hub.\n",
      "\n",
      "    Provide the response in a structured and readable format.\n",
      "    \n",
      "    Assistant:\n",
      "    \n"
     ]
    },
    {
     "ename": "KeyError",
     "evalue": "'pharmacy_name'",
     "output_type": "error",
     "traceback": [
      "\u001b[0;31m---------------------------------------------------------------------------\u001b[0m",
      "\u001b[0;31mKeyError\u001b[0m                                  Traceback (most recent call last)",
      "Cell \u001b[0;32mIn[31], line 1\u001b[0m\n\u001b[0;32m----> 1\u001b[0m retrieved_prompts_list_var\u001b[38;5;241m=\u001b[39m\u001b[43mget_prompts\u001b[49m\u001b[43m(\u001b[49m\u001b[43mvalue_to_find\u001b[49m\u001b[43m)\u001b[49m\n\u001b[1;32m      2\u001b[0m \u001b[38;5;28mprint\u001b[39m(retrieved_prompts_list_var\u001b[38;5;241m.\u001b[39mitems())\n",
      "Cell \u001b[0;32mIn[30], line 11\u001b[0m, in \u001b[0;36mget_prompts\u001b[0;34m(value_to_find)\u001b[0m\n\u001b[1;32m      9\u001b[0m     \u001b[38;5;66;03m#Use a subset of value_to_find containing only relevant keys\u001b[39;00m\n\u001b[1;32m     10\u001b[0m     relevant_values \u001b[38;5;241m=\u001b[39m {k: v \u001b[38;5;28;01mfor\u001b[39;00m k, v \u001b[38;5;129;01min\u001b[39;00m value_to_find\u001b[38;5;241m.\u001b[39mitems()  \u001b[38;5;28;01mif\u001b[39;00m k \u001b[38;5;129;01min\u001b[39;00m config[key][\u001b[38;5;124m\"\u001b[39m\u001b[38;5;124mparams\u001b[39m\u001b[38;5;124m\"\u001b[39m]}\n\u001b[0;32m---> 11\u001b[0m     filled_prompt \u001b[38;5;241m=\u001b[39m \u001b[43mraw_prompt\u001b[49m\u001b[38;5;241;43m.\u001b[39;49m\u001b[43mformat\u001b[49m\u001b[43m(\u001b[49m\u001b[38;5;241;43m*\u001b[39;49m\u001b[38;5;241;43m*\u001b[39;49m\u001b[43mrelevant_values\u001b[49m\u001b[43m)\u001b[49m\n\u001b[1;32m     12\u001b[0m     retrieved_prompts_list[key] \u001b[38;5;241m=\u001b[39m filled_prompt\n\u001b[1;32m     13\u001b[0m \u001b[38;5;28;01mreturn\u001b[39;00m retrieved_prompts_list\n",
      "\u001b[0;31mKeyError\u001b[0m: 'pharmacy_name'"
     ]
    }
   ],
   "source": [
    "retrieved_prompts_list_var=get_prompts(value_to_find)\n",
    "print(retrieved_prompts_list_var.items())"
   ]
  },
  {
   "cell_type": "code",
   "execution_count": 22,
   "id": "9011cc1e",
   "metadata": {},
   "outputs": [],
   "source": [
    "def generate_insight_fromkb(prompt):\n",
    "    response_withkb = bedrock_agent_runtime_client.retrieve_and_generate(\n",
    "      input={\n",
    "        'text': prompt\n",
    "      },\n",
    "      retrieveAndGenerateConfiguration={\n",
    "        'knowledgeBaseConfiguration': {\n",
    "            'knowledgeBaseId': 'TZYCKWDKBC',\n",
    "            'modelArn': 'arn:aws:bedrock:us-east-1::foundation-model/anthropic.claude-3-sonnet-20240229-v1:0'\n",
    "        },\n",
    "        'type': 'KNOWLEDGE_BASE'\n",
    "      }\n",
    "    )\n",
    "    return response_withkb[\"output\"][\"text\"]\n",
    "    \n",
    "# insights_withkb = response_withkb[\"output\"][\"text\"]\n",
    "# print(\"Generated Insights\", {\"generated_insights_withkb\": insights_withkb})\n"
   ]
  },
  {
   "cell_type": "code",
   "execution_count": 23,
   "id": "7ca8f0e0",
   "metadata": {},
   "outputs": [],
   "source": [
    "def orchestrator(value_to_find):\n",
    "    retrieved_prompts_list = get_prompts(value_to_find)\n",
    "    insights_response = {}\n",
    "    for prompt_type, prompt in retrieved_prompts_list.items():\n",
    "        insights_response[prompt_type] = generate_insight_fromkb(prompt)\n",
    "    return insights_response"
   ]
  },
  {
   "cell_type": "code",
   "execution_count": 24,
   "id": "b8e52dea",
   "metadata": {},
   "outputs": [],
   "source": [
    "insights_response = orchestrator(value_to_find)"
   ]
  },
  {
   "cell_type": "code",
   "execution_count": 26,
   "id": "6f928703",
   "metadata": {},
   "outputs": [
    {
     "name": "stdout",
     "output_type": "stream",
     "text": [
      "insurance_type_provider_pharmacy_ttf_prompt_generator : For a hub patient with insurance type \"Commercial\" and insurance provider \"Humana\", the specialty pharmacies and their corresponding Time to Fill days are:\n",
      "\n",
      "- Walgreens: 12 days\n",
      "- CVS: 15 days\n",
      "- Elixir: 11 days\n",
      "- Cigna: 17 days\n",
      "\n",
      "Compared to the patient's current specialty pharmacy CVS (15 days), Elixir has a lower Time to Fill of 11 days, and Walgreens has a lower Time to Fill of 12 days.\n",
      "insurance_type_provider_pharmacy_prompt_generator : For patients with \"Commercial\" insurance type from \"Humana\" and using the specialty pharmacy \"CVS\" through the Hub model, the following metrics are available:\n",
      "\n",
      "Conversion %: 76\n",
      "Time To Fill: 10\n",
      "% of patients staying for more than a year: 69\n",
      "% of Patient Requires PA: 66\n",
      "TTF when PA required: 12\n",
      "PA% Approved: 90\n",
      "% of Patient on treatment if used with financial Assistance program: 58\n"
     ]
    }
   ],
   "source": [
    "for i,j in insights_response.items():\n",
    "    print(f\"{i} : {j}\")"
   ]
  },
  {
   "cell_type": "code",
   "execution_count": null,
   "id": "d4db3ff6",
   "metadata": {},
   "outputs": [],
   "source": [
    "# retrieved_prompts_list = get_prompts(value_to_find)\n",
    "\n",
    "# print(retrieved_prompts_list.items())\n",
    "\n",
    "# for prompt_type, prompt in retrieved_prompts_list.items():\n",
    "#     print(f\"{prompt_type} : {prompt}\")\n",
    "#     response = retrieve_and(prompt)\n",
    "\n",
    "# for prompt_type, prompt in retrieved_prompts_list.items():\n",
    "#     print(prompt)\n"
   ]
  },
  {
   "cell_type": "code",
   "execution_count": null,
   "id": "cc8ea0ab",
   "metadata": {},
   "outputs": [],
   "source": []
  },
  {
   "cell_type": "code",
   "execution_count": null,
   "id": "866985aa",
   "metadata": {},
   "outputs": [],
   "source": []
  },
  {
   "cell_type": "code",
   "execution_count": null,
   "id": "75183914",
   "metadata": {},
   "outputs": [],
   "source": []
  },
  {
   "cell_type": "code",
   "execution_count": null,
   "id": "aa4361f3",
   "metadata": {},
   "outputs": [],
   "source": []
  },
  {
   "cell_type": "code",
   "execution_count": null,
   "id": "57311f74",
   "metadata": {},
   "outputs": [],
   "source": []
  },
  {
   "cell_type": "code",
   "execution_count": 12,
   "id": "58848633",
   "metadata": {},
   "outputs": [
    {
     "name": "stdout",
     "output_type": "stream",
     "text": [
      "def insurance_type_provider_pharmacy_ttf_prompt_generator(insurance_type,insurance_provider,pharmacy_name):\n",
      "    prompt_claude3_sonnet = \"\"\"Human:\n",
      "\n",
      "    You are Agent assist helping the agent to recommend a better specialty pharmacy with the lower time to fill days.\n",
      "    For a hub patient with insurance_type as  \\\"\"\"\" + insurance_type + \"\"\"\\\" and insurance provider as \\\"\"\"\" + insurance_provider + \"\"\"\\\" \n",
      "    Recommend the specialty pharmacies with theirTime to Fill days and compare the time to fill days with the patient's specialty pharmacy \\\"\"\"\" + pharmacy_name + \"\"\"\\\"\n",
      "    \n",
      "    Note: Only consider the cases when the patient is with Hub.\n",
      "\n",
      "    Provide the response in a structured and readable format.\n",
      "    \n",
      "    Assistant:\n",
      "    \"\"\"\n",
      "\n",
      "    return prompt_claude3_sonnet\n",
      "\n",
      "def insurance_type_provider_pharmacy_prompt_generator(insurance_type,insurance_provider,pharmacy_name):\n",
      "    prompt_claude3_sonnet = \"\"\"Human:\n",
      "\n",
      "    You are Agent assist helping the agent and help the agent by generating an insight based on the patient's data based on the patient's insurance_type as  \\\"\"\"\" + insurance_type + \"\"\"\\\" and insurance provider as \\\"\"\"\" + insurance_provider + \"\"\"\\\" \n",
      "    and specialty pharmacy \\\"\"\"\" + pharmacy_name + \"\"\"\\\", provide all the important metrics for the same combination\n",
      "    \n",
      "    Note: Only consider the cases when the patient is with Hub.\n",
      "\n",
      "    Provide the response in a structured and readable format.\n",
      "    \n",
      "    Assistant:\n",
      "    \"\"\"\n",
      "\n",
      "    return prompt_claude3_sonnet\n",
      "\n"
     ]
    }
   ],
   "source": [
    "# for key in matching_keys:\n",
    "#     function_to_call = getattr(insights_prompt_library, key)\n",
    "#     function_definition = inspect.getsource(function_to_call)\n",
    "#     print(function_definition)"
   ]
  },
  {
   "cell_type": "code",
   "execution_count": 15,
   "id": "9c09640e",
   "metadata": {},
   "outputs": [],
   "source": []
  },
  {
   "cell_type": "code",
   "execution_count": null,
   "id": "15fe1256",
   "metadata": {},
   "outputs": [],
   "source": []
  }
 ],
 "metadata": {
  "kernelspec": {
   "display_name": "conda_python3",
   "language": "python",
   "name": "conda_python3"
  },
  "language_info": {
   "codemirror_mode": {
    "name": "ipython",
    "version": 3
   },
   "file_extension": ".py",
   "mimetype": "text/x-python",
   "name": "python",
   "nbconvert_exporter": "python",
   "pygments_lexer": "ipython3",
   "version": "3.10.13"
  }
 },
 "nbformat": 4,
 "nbformat_minor": 5
}
