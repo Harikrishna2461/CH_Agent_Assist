{
 "cells": [
  {
   "cell_type": "code",
   "execution_count": 1,
   "id": "ed369f49",
   "metadata": {},
   "outputs": [
    {
     "name": "stdout",
     "output_type": "stream",
     "text": [
      "Requirement already satisfied: boto3==1.34.32 in /home/ec2-user/anaconda3/envs/python3/lib/python3.10/site-packages (from -r requirements.txt (line 1)) (1.34.32)\n",
      "Requirement already satisfied: botocore==1.34.32 in /home/ec2-user/anaconda3/envs/python3/lib/python3.10/site-packages (from -r requirements.txt (line 2)) (1.34.32)\n",
      "Requirement already satisfied: colorama==0.4.6 in /home/ec2-user/anaconda3/envs/python3/lib/python3.10/site-packages (from -r requirements.txt (line 3)) (0.4.6)\n",
      "Requirement already satisfied: iniconfig==2.0.0 in /home/ec2-user/anaconda3/envs/python3/lib/python3.10/site-packages (from -r requirements.txt (line 4)) (2.0.0)\n",
      "Requirement already satisfied: jmespath==1.0.1 in /home/ec2-user/anaconda3/envs/python3/lib/python3.10/site-packages (from -r requirements.txt (line 5)) (1.0.1)\n",
      "Requirement already satisfied: packaging==23.2 in /home/ec2-user/anaconda3/envs/python3/lib/python3.10/site-packages (from -r requirements.txt (line 6)) (23.2)\n",
      "Requirement already satisfied: pluggy==1.3.0 in /home/ec2-user/anaconda3/envs/python3/lib/python3.10/site-packages (from -r requirements.txt (line 7)) (1.3.0)\n",
      "Requirement already satisfied: pytest==7.4.3 in /home/ec2-user/anaconda3/envs/python3/lib/python3.10/site-packages (from -r requirements.txt (line 8)) (7.4.3)\n",
      "Requirement already satisfied: pytest-asyncio==0.21.1 in /home/ec2-user/anaconda3/envs/python3/lib/python3.10/site-packages (from -r requirements.txt (line 9)) (0.21.1)\n",
      "Requirement already satisfied: python-dateutil==2.8.2 in /home/ec2-user/anaconda3/envs/python3/lib/python3.10/site-packages (from -r requirements.txt (line 10)) (2.8.2)\n",
      "Requirement already satisfied: s3transfer in /home/ec2-user/anaconda3/envs/python3/lib/python3.10/site-packages (from -r requirements.txt (line 11)) (0.10.1)\n",
      "Requirement already satisfied: six==1.16.0 in /home/ec2-user/anaconda3/envs/python3/lib/python3.10/site-packages (from -r requirements.txt (line 12)) (1.16.0)\n",
      "Requirement already satisfied: urllib3==2.0.7 in /home/ec2-user/anaconda3/envs/python3/lib/python3.10/site-packages (from -r requirements.txt (line 13)) (2.0.7)\n",
      "Requirement already satisfied: exceptiongroup>=1.0.0rc8 in /home/ec2-user/anaconda3/envs/python3/lib/python3.10/site-packages (from pytest==7.4.3->-r requirements.txt (line 8)) (1.1.3)\n",
      "Requirement already satisfied: tomli>=1.0.0 in /home/ec2-user/anaconda3/envs/python3/lib/python3.10/site-packages (from pytest==7.4.3->-r requirements.txt (line 8)) (2.0.1)\n",
      "Note: you may need to restart the kernel to use updated packages.\n"
     ]
    }
   ],
   "source": [
    "pip install -r requirements.txt"
   ]
  },
  {
   "cell_type": "code",
   "execution_count": 2,
   "id": "bdb9ca7a",
   "metadata": {},
   "outputs": [],
   "source": [
    "import boto3\n",
    "\n",
    "bedrock_agent_runtime_client = boto3.client('bedrock-agent-runtime')"
   ]
  },
  {
   "cell_type": "code",
   "execution_count": 15,
   "id": "708e4b9a",
   "metadata": {
    "scrolled": false
   },
   "outputs": [
    {
     "name": "stdout",
     "output_type": "stream",
     "text": [
      "\n",
      "[Insight for ::::: CMS, Medicare, Elixir :::::]\n",
      "\n",
      "The patient's current Time to Fill is 6 days for Payer CMS, Insurance type Medicare, Specialty Pharmacy Elixir, and Territory East.\n",
      "\n",
      "The new options with the lowest Time to Fill for Payer CMS, Insurance type Medicare, and Territory East are:\n",
      "- CVS Hub: 9 days\n",
      "- CVS Specialty Pharmacy: 6 days\n",
      "- Senderra Rx Hub: 10 days\n",
      "- Senderra Rx Specialty Pharmacy: 9 days\n",
      "- Walgreens Hub: 10 days\n",
      "- Walgreens Specialty Pharmacy: 8 days Among the new options, CVS Specialty Pharmacy has the same Time to Fill of 6 days as the patient's current Specialty Pharmacy Elixir.\n",
      "\n",
      "Therefore, I would advise the patient to stay with their current Specialty Pharmacy Elixir, as switching to any of the new options would not provide a lower Time to Fill.\n"
     ]
    }
   ],
   "source": [
    "# promt 1\n",
    "\n",
    "def execute_prompt(iprovider, itype, ipharmacy):\n",
    "    print(\"\")\n",
    "    print(f\"[Insight for ::::: {iprovider}, {itype}, {ipharmacy} :::::]\")\n",
    "    print(\"\")\n",
    "    # Compare only the data based the pharmacy data for specified insurance provider and insurance type.\n",
    "    prompt = '''Human:\n",
    "You are an agent assistant who is recommending a patient the best Specialty Pharmacy.\n",
    "Compare the pharmacy data available for specified payer and Insurance type.\n",
    "The best pharmacy will have the least number of days in time to fill for each while ignoring the conversion percentage.\n",
    "\n",
    "The patient's current Time to Fill is the lowest value of Time to Fill for \n",
    "Payer ''' + iprovider + ''', Insurance type ''' + itype + ''', \n",
    "Specialty Pharmacy ''' + ipharmacy + '''and Territory east.\n",
    "\n",
    "Determine the patient's new options by finding the Specialty Pharmacies with the lowest value of Time to Fill for \n",
    "Payer ''' + iprovider + ''', Insurance type ''' + itype + ''' and Territory east.\n",
    "\n",
    "Based on the above, determine if the patient's new options would provide a lower time to fill than the current time to fill.\n",
    "\n",
    "If so, recommend the new Specialty Pharmacy to the patient.\n",
    "If not, advise the patient to stay with their current Specialty pharmacy.\n",
    "\n",
    "Assistant:\n",
    "'''\n",
    "    response = bedrock_agent_runtime_client.retrieve_and_generate(\n",
    "        input={\n",
    "            'text': prompt\n",
    "        },\n",
    "        retrieveAndGenerateConfiguration={\n",
    "            'knowledgeBaseConfiguration': {\n",
    "                'knowledgeBaseId': 'HZ2VTAKFFD',\n",
    "                'inimodelArn': 'arn:aws:bedrock:us-east-1::foundation-model/anthropic.claude-3-sonnet-20240229-v1:0'\n",
    "            },\n",
    "            'type': 'KNOWLEDGE_BASE'\n",
    "        }\n",
    "    )\n",
    "    print(response[\"output\"][\"text\"])\n",
    "\n",
    "execute_prompt(\"CMS\", \"Medicare\", \"Elixir\")\n",
    "\n",
    "#execute_prompt(\"CMS\", \"Medicare\", \"Walgreens\")\n",
    "\n",
    "#execute_prompt(\"Humana\", \"Commercial\", \"Cigna\")"
   ]
  },
  {
   "cell_type": "code",
   "execution_count": null,
   "id": "6f4c3fad",
   "metadata": {},
   "outputs": [],
   "source": [
    "# prompt 2\n",
    "\n",
    "insightPrompt = '''\n",
    "You are an agent assistant who is recommending a patient the best pharmacy.\n",
    "Compare the pharmacy data available for specified payer and Insurance type.\n",
    "The best pharmacy will have the least number of days in time to fill for each of the initiation sources while ignoring the conversion percentage.\n",
    "The priority is to get prescriptions filled the fastest.\n",
    "The patient's current pharmacy is Elixir.\n",
    "For all the pharmacy options available for Payer CMS and Insurance type Medicare, \n",
    "can you make a recommendation for the best Specialty pharmacy for each of the initiation sources? \n",
    "'''\n",
    "\n",
    "response = bedrock_agent_runtime_client.retrieve_and_generate(\n",
    "    input={\n",
    "        'text': insightPrompt\n",
    "    },\n",
    "    retrieveAndGenerateConfiguration={\n",
    "        'knowledgeBaseConfiguration': {\n",
    "            'knowledgeBaseId': 'HZ2VTAKFFD',\n",
    "            'modelArn': 'arn:aws:bedrock:us-east-1::foundation-model/anthropic.claude-3-sonnet-20240229-v1:0',\n",
    "            'retrievalConfiguration': {\n",
    "                'vectorSearchConfiguration': {\n",
    "                    'overrideSearchType': 'HYBRID'\n",
    "                }\n",
    "            }\n",
    "        },\n",
    "        'type': 'KNOWLEDGE_BASE'\n",
    "    }\n",
    ")\n",
    "print(response[\"output\"][\"text\"])"
   ]
  },
  {
   "cell_type": "code",
   "execution_count": 11,
   "id": "d635dd04",
   "metadata": {},
   "outputs": [
    {
     "name": "stdout",
     "output_type": "stream",
     "text": [
      "\n",
      "[Insight for ::::: CMS, Medicare, Elixir :::::]\n",
      "\n",
      "Based on the provided data for Payer CMS, Insurance type Medicare, Specialty Pharmacy Elixir, and Territory East, the recommended specialty pharmacy for the same insurance provider, payer, and territory with a lesser Time To Fill (TTF) is CVS. According to the search results, for CMS Medicare in the East territory, CVS has a TTF of 6 for the Hub initiation source, which is lower than the TTF of 7 for Elixir Hub.\n"
     ]
    }
   ],
   "source": [
    "# prompt 3\n",
    "\n",
    "def execute_prompt(iprovider, itype, ipharmacy):\n",
    "    print(\"\")\n",
    "    print(f\"[Insight for ::::: {iprovider}, {itype}, {ipharmacy} :::::]\")\n",
    "    print(\"\")\n",
    "    # Compare only the data based the pharmacy data for specified insurance provider and insurance type.\n",
    "    prompt = '''Human:\n",
    "You are an agent assistant who is recommending a patient with better specialty pharmacy options based on the time to fill.\n",
    "Lesser time to fill means higher recommendation.\n",
    "\n",
    "Based on the patient's provided data for Payer ''' + iprovider + ''', Insurance type ''' + itype + ''', Specialty Pharmacy ''' + ipharmacy + '''and Territory east,\n",
    "recommend a specialty pharmacy for the same insurance provider and the payer and the territory which has got a lesser TTF\n",
    "\n",
    "Only consider the above values to generate a response. \n",
    "If you do not have sufficient information do not provide any response.\n",
    "\n",
    "Do not create any information on your own.\n",
    "\n",
    "\n",
    "Assistant:\n",
    "'''\n",
    "    response = bedrock_agent_runtime_client.retrieve_and_generate(\n",
    "        input={\n",
    "            'text': prompt\n",
    "        },\n",
    "        retrieveAndGenerateConfiguration={\n",
    "            'knowledgeBaseConfiguration': {\n",
    "                'knowledgeBaseId': 'HZ2VTAKFFD',\n",
    "                'modelArn': 'arn:aws:bedrock:us-east-1::foundation-model/anthropic.claude-3-sonnet-20240229-v1:0'\n",
    "            },\n",
    "            'type': 'KNOWLEDGE_BASE'\n",
    "        }\n",
    "    )\n",
    "    print(response[\"output\"][\"text\"])\n",
    "\n",
    "execute_prompt(\"CMS\", \"Medicare\", \"Elixir\")\n",
    "\n",
    "#execute_prompt(\"CMS\", \"Medicare\", \"Walgreens\")\n",
    "\n",
    "#execute_prompt(\"Humana\", \"Commercial\", \"Cigna\")"
   ]
  },
  {
   "cell_type": "code",
   "execution_count": 15,
   "id": "38abc080",
   "metadata": {},
   "outputs": [
    {
     "name": "stdout",
     "output_type": "stream",
     "text": [
      "\n",
      "[Insight for ::::: CMS, Medicare,Hub, CVS :::::]\n",
      "\n",
      "Based on the provided information for Initiation source Hub, Payer CMS, Insurance type Medicare, Specialty Pharmacy CVS, and Territory East, the specialty pharmacy with the lowest Time To Fill (TTF) for the same insurance provider, payer, and territory is Walgreens Hub with a TTF of 75.89.\n"
     ]
    }
   ],
   "source": [
    "# prompt 4\n",
    "\n",
    "def execute_prompt(iprovider, itype,isource, ipharmacy):\n",
    "    print(\"\")\n",
    "    print(f\"[Insight for ::::: {iprovider}, {itype},{isource}, {ipharmacy} :::::]\")\n",
    "    print(\"\")\n",
    "    # Compare only the data based the pharmacy data for specified insurance provider and insurance type.\n",
    "    prompt = '''Human:\n",
    "You are an agent assistant who is recommending a patient with better specialty pharmacy options based on the time to fill.\n",
    "Lesser time to fill means higher recommendation.\n",
    "\n",
    "Based on the patient's provided data for Initiation sources ''' + isource + ''',Payer ''' + iprovider + ''', Insurance type ''' + itype + ''', Specialty Pharmacy ''' + ipharmacy + '''and Territory east,\n",
    "recommend a specialty pharmacy for the same insurance provider and the payer and the territory which has got a lesser TTF\n",
    "\n",
    "Only consider the above values to generate a response.\n",
    "If you do not have sufficient information do not provide any response.\n",
    "\n",
    "Do not create any information on your own.\n",
    "\n",
    "\n",
    "Assistant:\n",
    "'''\n",
    "    response = bedrock_agent_runtime_client.retrieve_and_generate(\n",
    "        input={\n",
    "            'text': prompt\n",
    "        },\n",
    "        retrieveAndGenerateConfiguration={\n",
    "            'knowledgeBaseConfiguration': {\n",
    "                'knowledgeBaseId': 'HZ2VTAKFFD',\n",
    "                'modelArn': 'arn:aws:bedrock:us-east-1::foundation-model/anthropic.claude-3-sonnet-20240229-v1:0',\n",
    "          },\n",
    "            'type': 'KNOWLEDGE_BASE'\n",
    "        }\n",
    "    )\n",
    "    print(response[\"output\"][\"text\"])\n",
    "\n",
    "execute_prompt(\"CMS\", \"Medicare\",\"Hub\", \"CVS\")\n",
    "\n",
    "#execute_prompt(\"CMS\", \"Medicare\", \"Walgreens\")\n",
    "\n",
    "#execute_prompt(\"Humana\", \"Commercial\", \"Cigna\")"
   ]
  },
  {
   "cell_type": "code",
   "execution_count": null,
   "id": "8f2b5de9",
   "metadata": {},
   "outputs": [],
   "source": []
  }
 ],
 "metadata": {
  "kernelspec": {
   "display_name": "conda_python3",
   "language": "python",
   "name": "conda_python3"
  },
  "language_info": {
   "codemirror_mode": {
    "name": "ipython",
    "version": 3
   },
   "file_extension": ".py",
   "mimetype": "text/x-python",
   "name": "python",
   "nbconvert_exporter": "python",
   "pygments_lexer": "ipython3",
   "version": "3.10.13"
  }
 },
 "nbformat": 4,
 "nbformat_minor": 5
}
