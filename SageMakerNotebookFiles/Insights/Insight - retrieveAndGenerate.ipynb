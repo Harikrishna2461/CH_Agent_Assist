{
 "cells": [
  {
   "cell_type": "code",
   "execution_count": 2,
   "id": "0111273e",
   "metadata": {},
   "outputs": [
    {
     "name": "stdout",
     "output_type": "stream",
     "text": [
      "Requirement already satisfied: boto3==1.34.32 in /home/ec2-user/anaconda3/envs/python3/lib/python3.10/site-packages (from -r requirements.txt (line 1)) (1.34.32)\n",
      "Requirement already satisfied: botocore==1.34.32 in /home/ec2-user/anaconda3/envs/python3/lib/python3.10/site-packages (from -r requirements.txt (line 2)) (1.34.32)\n",
      "Requirement already satisfied: colorama==0.4.6 in /home/ec2-user/anaconda3/envs/python3/lib/python3.10/site-packages (from -r requirements.txt (line 3)) (0.4.6)\n",
      "Requirement already satisfied: iniconfig==2.0.0 in /home/ec2-user/anaconda3/envs/python3/lib/python3.10/site-packages (from -r requirements.txt (line 4)) (2.0.0)\n",
      "Requirement already satisfied: jmespath==1.0.1 in /home/ec2-user/anaconda3/envs/python3/lib/python3.10/site-packages (from -r requirements.txt (line 5)) (1.0.1)\n",
      "Requirement already satisfied: packaging==23.2 in /home/ec2-user/anaconda3/envs/python3/lib/python3.10/site-packages (from -r requirements.txt (line 6)) (23.2)\n",
      "Requirement already satisfied: pluggy==1.3.0 in /home/ec2-user/anaconda3/envs/python3/lib/python3.10/site-packages (from -r requirements.txt (line 7)) (1.3.0)\n",
      "Requirement already satisfied: pytest==7.4.3 in /home/ec2-user/anaconda3/envs/python3/lib/python3.10/site-packages (from -r requirements.txt (line 8)) (7.4.3)\n",
      "Requirement already satisfied: pytest-asyncio==0.21.1 in /home/ec2-user/anaconda3/envs/python3/lib/python3.10/site-packages (from -r requirements.txt (line 9)) (0.21.1)\n",
      "Requirement already satisfied: python-dateutil==2.8.2 in /home/ec2-user/anaconda3/envs/python3/lib/python3.10/site-packages (from -r requirements.txt (line 10)) (2.8.2)\n",
      "Requirement already satisfied: s3transfer in /home/ec2-user/anaconda3/envs/python3/lib/python3.10/site-packages (from -r requirements.txt (line 11)) (0.10.1)\n",
      "Requirement already satisfied: six==1.16.0 in /home/ec2-user/anaconda3/envs/python3/lib/python3.10/site-packages (from -r requirements.txt (line 12)) (1.16.0)\n",
      "Requirement already satisfied: urllib3==2.0.7 in /home/ec2-user/anaconda3/envs/python3/lib/python3.10/site-packages (from -r requirements.txt (line 13)) (2.0.7)\n",
      "Requirement already satisfied: exceptiongroup>=1.0.0rc8 in /home/ec2-user/anaconda3/envs/python3/lib/python3.10/site-packages (from pytest==7.4.3->-r requirements.txt (line 8)) (1.1.3)\n",
      "Requirement already satisfied: tomli>=1.0.0 in /home/ec2-user/anaconda3/envs/python3/lib/python3.10/site-packages (from pytest==7.4.3->-r requirements.txt (line 8)) (2.0.1)\n",
      "Note: you may need to restart the kernel to use updated packages.\n"
     ]
    }
   ],
   "source": [
    "pip install -r requirements.txt"
   ]
  },
  {
   "cell_type": "code",
   "execution_count": 4,
   "id": "cf9690a5",
   "metadata": {},
   "outputs": [],
   "source": [
    "import boto3\n",
    "\n",
    "bedrock_agent_runtime_client = boto3.client('bedrock-agent-runtime')"
   ]
  },
  {
   "cell_type": "code",
   "execution_count": 11,
   "id": "f778fabc",
   "metadata": {},
   "outputs": [
    {
     "name": "stdout",
     "output_type": "stream",
     "text": [
      "[ Generated Insights ]\n",
      "The patient's current Time to Fill is 10 days for Payer Express Scripts, Insurance type Commercial, Specialty Pharmacy BioPlus, Initiation Source \"Hub\" in the East territory (source 5).\n",
      "\n",
      "The Specialty Pharmacies with the lowest Time to Fill for Payer Express Scripts, Insurance type Commercial, Initiation Source \"Hub\" in the East territory are:\n",
      "- Accredo: 6 days (source 5)\n",
      "- Elixir: 7 days (source 5)\n",
      "- Senderra Rx: 9 days (source 5) Since Accredo and Elixir have lower Time to Fill values (6 and 7 days respectively) compared to the patient's current 10 days, I would recommend the patient switch to either Accredo or Elixir as their new Specialty Pharmacy to reduce their Time to Fill.\n"
     ]
    }
   ],
   "source": [
    "def insights_prompt_withkb_generator(insurance_provider, pharmacy_name, insurance_type=\"Commercial\", initiation_source=\"Hub\", territory=\"east\"):\n",
    "    prompt_claude3_sonnet = f'''Human:\n",
    "    \n",
    "You are an agent assistant who is recommending a patient the best Specialty Pharmacy.\n",
    "The best Specialty pharmacy will have the least number of days in time to fill for each while ignoring the conversion percentage.\n",
    "Compare the pharmacy data available for specified payer and Insurance type.\n",
    "\n",
    "The patient's current Time to Fill is the value of Time to Fill for \n",
    "Payer {insurance_provider}, Insurance type {insurance_type}, \n",
    "Specialty Pharmacy {pharmacy_name}, Initiation Source \"{initiation_source}\" and {territory} east.\n",
    "\n",
    "Determine the patient's new options by finding the Specialty Pharmacies with the lowest value of Time to Fill for \n",
    "Payer {insurance_provider}, Insurance type {insurance_type}, Initiation Source \"{initiation_source}\" and {territory} east.\n",
    "\n",
    "Based on the above, determine if the patient's new options would provide a lower time to fill than the current time to fill.\n",
    "\n",
    "If so, recommend the new Specialty Pharmacy to the patient.\n",
    "If not, advise the patient to stay with their current Specialty pharmacy.\n",
    "\n",
    "\n",
    "Assistant:\n",
    "'''\n",
    "    return prompt_claude3_sonnet\n",
    "\n",
    "\n",
    "response_withkb = bedrock_agent_runtime_client.retrieve_and_generate(\n",
    "  input={\n",
    "    'text': insights_prompt_withkb_generator(\"Express Scripts\", \"BioPlus\", \"Commercial\", \"Hub\", \"East\")\n",
    "  },\n",
    "  retrieveAndGenerateConfiguration={\n",
    "    'knowledgeBaseConfiguration': {\n",
    "        'knowledgeBaseId': 'HZ2VTAKFFD',\n",
    "        'modelArn': 'arn:aws:bedrock:us-east-1::foundation-model/anthropic.claude-3-sonnet-20240229-v1:0'\n",
    "    },\n",
    "    'type': 'KNOWLEDGE_BASE'\n",
    "  }\n",
    ")\n",
    "\n",
    "print(\"[ Generated Insights ]\")\n",
    "print(response_withkb[\"output\"][\"text\"])"
   ]
  },
  {
   "cell_type": "code",
   "execution_count": null,
   "id": "92081c69",
   "metadata": {},
   "outputs": [],
   "source": []
  }
 ],
 "metadata": {
  "kernelspec": {
   "display_name": "conda_python3",
   "language": "python",
   "name": "conda_python3"
  },
  "language_info": {
   "codemirror_mode": {
    "name": "ipython",
    "version": 3
   },
   "file_extension": ".py",
   "mimetype": "text/x-python",
   "name": "python",
   "nbconvert_exporter": "python",
   "pygments_lexer": "ipython3",
   "version": "3.10.13"
  }
 },
 "nbformat": 4,
 "nbformat_minor": 5
}
